{
 "cells": [
  {
   "cell_type": "code",
   "execution_count": 33,
   "id": "9c4ee2fd",
   "metadata": {},
   "outputs": [],
   "source": [
    "from os import listdir\n",
    "import numpy as np\n",
    "from datetime import datetime, timedelta\n",
    "import glob\n",
    "import mne\n",
    "import re\n",
    "import pandas as pd \n",
    "import matplotlib.pyplot as plt\n",
    "\n",
    "import sys\n",
    "sys.path.append('/mnt/obob/staff/fschmidt/meeg_preprocessing/utils/')\n",
    "#from preproc_utils import preproc_data\n",
    "from psd_utils import compute_spectra_ndsp\n",
    "from fooof_utils import get_fooof_data, check_nans\n",
    "\n",
    "\n",
    "import warnings\n",
    "warnings.filterwarnings('ignore') #living on the edge (but i really hate warnings)"
   ]
  },
  {
   "cell_type": "code",
   "execution_count": 20,
   "id": "31e3859f",
   "metadata": {},
   "outputs": [
    {
     "data": {
      "text/html": [
       "<div>\n",
       "<style scoped>\n",
       "    .dataframe tbody tr th:only-of-type {\n",
       "        vertical-align: middle;\n",
       "    }\n",
       "\n",
       "    .dataframe tbody tr th {\n",
       "        vertical-align: top;\n",
       "    }\n",
       "\n",
       "    .dataframe thead th {\n",
       "        text-align: right;\n",
       "    }\n",
       "</style>\n",
       "<table border=\"1\" class=\"dataframe\">\n",
       "  <thead>\n",
       "    <tr style=\"text-align: right;\">\n",
       "      <th></th>\n",
       "      <th>subject_id</th>\n",
       "      <th>measurement_age</th>\n",
       "      <th>measurement_age_days</th>\n",
       "      <th>measurement_date</th>\n",
       "      <th>path</th>\n",
       "      <th>fs_1k</th>\n",
       "    </tr>\n",
       "  </thead>\n",
       "  <tbody>\n",
       "    <tr>\n",
       "      <th>1</th>\n",
       "      <td>19800616mrgu</td>\n",
       "      <td>36</td>\n",
       "      <td>13429</td>\n",
       "      <td>2017-03-23</td>\n",
       "      <td>/mnt/sinuhe/data_raw/gd_markov/subject_subject...</td>\n",
       "      <td>True</td>\n",
       "    </tr>\n",
       "    <tr>\n",
       "      <th>2</th>\n",
       "      <td>19851130eifi</td>\n",
       "      <td>31</td>\n",
       "      <td>11436</td>\n",
       "      <td>2017-03-23</td>\n",
       "      <td>/mnt/sinuhe/data_raw/gd_markov/subject_subject...</td>\n",
       "      <td>True</td>\n",
       "    </tr>\n",
       "    <tr>\n",
       "      <th>3</th>\n",
       "      <td>19901026krke</td>\n",
       "      <td>26</td>\n",
       "      <td>9646</td>\n",
       "      <td>2017-03-24</td>\n",
       "      <td>/mnt/sinuhe/data_raw/gd_markov/subject_subject...</td>\n",
       "      <td>True</td>\n",
       "    </tr>\n",
       "    <tr>\n",
       "      <th>4</th>\n",
       "      <td>19950604llzm</td>\n",
       "      <td>21</td>\n",
       "      <td>7964</td>\n",
       "      <td>2017-03-24</td>\n",
       "      <td>/mnt/sinuhe/data_raw/gd_markov/subject_subject...</td>\n",
       "      <td>True</td>\n",
       "    </tr>\n",
       "    <tr>\n",
       "      <th>5</th>\n",
       "      <td>19961118brsh</td>\n",
       "      <td>20</td>\n",
       "      <td>7431</td>\n",
       "      <td>2017-03-24</td>\n",
       "      <td>/mnt/sinuhe/data_raw/gd_markov/subject_subject...</td>\n",
       "      <td>True</td>\n",
       "    </tr>\n",
       "    <tr>\n",
       "      <th>...</th>\n",
       "      <td>...</td>\n",
       "      <td>...</td>\n",
       "      <td>...</td>\n",
       "      <td>...</td>\n",
       "      <td>...</td>\n",
       "      <td>...</td>\n",
       "    </tr>\n",
       "    <tr>\n",
       "      <th>1626</th>\n",
       "      <td>19681001aeaf</td>\n",
       "      <td>53</td>\n",
       "      <td>19568</td>\n",
       "      <td>2022-04-29</td>\n",
       "      <td>/mnt/sinuhe/data_raw/nsss_crossmodmarkov/subje...</td>\n",
       "      <td>True</td>\n",
       "    </tr>\n",
       "    <tr>\n",
       "      <th>1627</th>\n",
       "      <td>20000729ttva</td>\n",
       "      <td>21</td>\n",
       "      <td>7944</td>\n",
       "      <td>2022-04-29</td>\n",
       "      <td>/mnt/sinuhe/data_raw/nsss_crossmodmarkov/subje...</td>\n",
       "      <td>True</td>\n",
       "    </tr>\n",
       "    <tr>\n",
       "      <th>1628</th>\n",
       "      <td>19700811fisr</td>\n",
       "      <td>51</td>\n",
       "      <td>18894</td>\n",
       "      <td>2022-05-04</td>\n",
       "      <td>/mnt/sinuhe/data_raw/nsss_crossmodmarkov/subje...</td>\n",
       "      <td>True</td>\n",
       "    </tr>\n",
       "    <tr>\n",
       "      <th>1629</th>\n",
       "      <td>19890718aial</td>\n",
       "      <td>32</td>\n",
       "      <td>11978</td>\n",
       "      <td>2022-05-04</td>\n",
       "      <td>/mnt/sinuhe/data_raw/nsss_crossmodmarkov/subje...</td>\n",
       "      <td>True</td>\n",
       "    </tr>\n",
       "    <tr>\n",
       "      <th>1630</th>\n",
       "      <td>19910629eamr</td>\n",
       "      <td>30</td>\n",
       "      <td>11267</td>\n",
       "      <td>2022-05-04</td>\n",
       "      <td>/mnt/sinuhe/data_raw/nsss_crossmodmarkov/subje...</td>\n",
       "      <td>True</td>\n",
       "    </tr>\n",
       "  </tbody>\n",
       "</table>\n",
       "<p>1630 rows × 6 columns</p>\n",
       "</div>"
      ],
      "text/plain": [
       "        subject_id  measurement_age  measurement_age_days measurement_date  \\\n",
       "1     19800616mrgu               36                 13429       2017-03-23   \n",
       "2     19851130eifi               31                 11436       2017-03-23   \n",
       "3     19901026krke               26                  9646       2017-03-24   \n",
       "4     19950604llzm               21                  7964       2017-03-24   \n",
       "5     19961118brsh               20                  7431       2017-03-24   \n",
       "...            ...              ...                   ...              ...   \n",
       "1626  19681001aeaf               53                 19568       2022-04-29   \n",
       "1627  20000729ttva               21                  7944       2022-04-29   \n",
       "1628  19700811fisr               51                 18894       2022-05-04   \n",
       "1629  19890718aial               32                 11978       2022-05-04   \n",
       "1630  19910629eamr               30                 11267       2022-05-04   \n",
       "\n",
       "                                                   path  fs_1k  \n",
       "1     /mnt/sinuhe/data_raw/gd_markov/subject_subject...   True  \n",
       "2     /mnt/sinuhe/data_raw/gd_markov/subject_subject...   True  \n",
       "3     /mnt/sinuhe/data_raw/gd_markov/subject_subject...   True  \n",
       "4     /mnt/sinuhe/data_raw/gd_markov/subject_subject...   True  \n",
       "5     /mnt/sinuhe/data_raw/gd_markov/subject_subject...   True  \n",
       "...                                                 ...    ...  \n",
       "1626  /mnt/sinuhe/data_raw/nsss_crossmodmarkov/subje...   True  \n",
       "1627  /mnt/sinuhe/data_raw/nsss_crossmodmarkov/subje...   True  \n",
       "1628  /mnt/sinuhe/data_raw/nsss_crossmodmarkov/subje...   True  \n",
       "1629  /mnt/sinuhe/data_raw/nsss_crossmodmarkov/subje...   True  \n",
       "1630  /mnt/sinuhe/data_raw/nsss_crossmodmarkov/subje...   True  \n",
       "\n",
       "[1630 rows x 6 columns]"
      ]
     },
     "execution_count": 20,
     "metadata": {},
     "output_type": "execute_result"
    }
   ],
   "source": [
    "#Gather all resting state recordings\n",
    "#this takes a while due to some 10khz recordings\n",
    "BASE_PATH = '/mnt/sinuhe/data_raw/**/**/**/*.fif'\n",
    "\n",
    "files = glob.glob(BASE_PATH)\n",
    "files = [file for file in files if 'rest' in file or 'Rest' in file or 'REST' in file]\n",
    "\n",
    "subject_ids = []\n",
    "measurement_age = []\n",
    "measurement_date = []\n",
    "measurement_age_days = []\n",
    "clean_path = []\n",
    "fs_1k = []\n",
    "\n",
    "for file in files:\n",
    "    f_split = file.split('/')\n",
    "    cur_id = f_split[-1].lower()[:12]\n",
    "        \n",
    "    if re.match(\"\\d{8}[a-z]{4}\", cur_id) and 'sss' not in f_split[-1]: #only take proper ids for now\n",
    "\n",
    "        cur_data = mne.io.read_raw_fif(file, verbose=False, allow_maxshield=True)\n",
    "        if cur_data.info['sfreq'] == 1000: #only take 1kHz recordings for now\n",
    "            fs_1k.append(True)\n",
    "        else:\n",
    "            fs_1k.append(False)\n",
    "        subject_ids.append(cur_id)\n",
    "        recording_date = datetime.strptime(f_split[-2], '%y%m%d')\n",
    "        try:\n",
    "            birth_date = datetime.strptime(f_split[-1][:8], '%Y%m%d') #in ~2 cases dates are formatted weird\n",
    "        except ValueError:\n",
    "            pass\n",
    "        \n",
    "        measurement_age.append((recording_date - birth_date) // timedelta(days=365.2425))\n",
    "        measurement_age_days.append((recording_date - birth_date).days)\n",
    "        measurement_date.append(recording_date)\n",
    "        clean_path.append(file)\n",
    "        \n",
    "        \n",
    "df = pd.DataFrame({'subject_id': np.array(subject_ids),\n",
    "                   'measurement_age': np.array(measurement_age),\n",
    "                   'measurement_age_days': np.array(measurement_age_days),\n",
    "                   'measurement_date': np.array(measurement_date),\n",
    "                   'path': np.array(clean_path),\n",
    "                   'fs_1k': np.array(fs_1k)})\n",
    "\n",
    "df = df[df['measurement_age'] < 100] #remove methusalem\n",
    "df"
   ]
  },
  {
   "cell_type": "code",
   "execution_count": 38,
   "id": "95edd8a9-4b00-485e-836e-f879a8aa5608",
   "metadata": {},
   "outputs": [],
   "source": [
    "df_unique = df.drop_duplicates(subset='subject_id', keep='last')\n",
    "df_unique.to_csv('./data/resting_list_single.csv')"
   ]
  },
  {
   "cell_type": "code",
   "execution_count": 37,
   "id": "a695c556-d189-472e-b026-42991c867412",
   "metadata": {},
   "outputs": [
    {
     "data": {
      "text/plain": [
       "(array([548., 635., 180., 110.,  28.,  34.,  46.,  40.,   8.,   1.]),\n",
       " array([18. , 23.9, 29.8, 35.7, 41.6, 47.5, 53.4, 59.3, 65.2, 71.1, 77. ]),\n",
       " <BarContainer object of 10 artists>)"
      ]
     },
     "execution_count": 37,
     "metadata": {},
     "output_type": "execute_result"
    },
    {
     "data": {
      "image/png": "[encoded data removed]",
      "text/plain": [
       "<Figure size 432x288 with 1 Axes>"
      ]
     },
     "metadata": {
      "needs_background": "light"
     },
     "output_type": "display_data"
    }
   ],
   "source": [
    "plt.hist(df['measurement_age'])"
   ]
  },
  {
   "cell_type": "code",
   "execution_count": 6,
   "id": "14cbc298",
   "metadata": {},
   "outputs": [],
   "source": [
    "df.to_csv('./data/resting_list.csv')"
   ]
  },
  {
   "cell_type": "code",
   "execution_count": 40,
   "id": "562efe06",
   "metadata": {},
   "outputs": [
    {
     "data": {
      "text/html": [
       "<div>\n",
       "<style scoped>\n",
       "    .dataframe tbody tr th:only-of-type {\n",
       "        vertical-align: middle;\n",
       "    }\n",
       "\n",
       "    .dataframe tbody tr th {\n",
       "        vertical-align: top;\n",
       "    }\n",
       "\n",
       "    .dataframe thead th {\n",
       "        text-align: right;\n",
       "    }\n",
       "</style>\n",
       "<table border=\"1\" class=\"dataframe\">\n",
       "  <thead>\n",
       "    <tr style=\"text-align: right;\">\n",
       "      <th></th>\n",
       "      <th>subject_id</th>\n",
       "      <th>measurement_age</th>\n",
       "      <th>measurement_age_days</th>\n",
       "      <th>measurement_date</th>\n",
       "      <th>path</th>\n",
       "      <th>fs_1k</th>\n",
       "    </tr>\n",
       "  </thead>\n",
       "  <tbody>\n",
       "    <tr>\n",
       "      <th>0</th>\n",
       "      <td>19800616mrgu</td>\n",
       "      <td>36</td>\n",
       "      <td>13429</td>\n",
       "      <td>2017-03-23</td>\n",
       "      <td>/mnt/sinuhe/data_raw/gd_markov/subject_subject...</td>\n",
       "      <td>True</td>\n",
       "    </tr>\n",
       "    <tr>\n",
       "      <th>1</th>\n",
       "      <td>19961118brsh</td>\n",
       "      <td>20</td>\n",
       "      <td>7431</td>\n",
       "      <td>2017-03-24</td>\n",
       "      <td>/mnt/sinuhe/data_raw/gd_markov/subject_subject...</td>\n",
       "      <td>True</td>\n",
       "    </tr>\n",
       "    <tr>\n",
       "      <th>2</th>\n",
       "      <td>19810726gdzn</td>\n",
       "      <td>35</td>\n",
       "      <td>13141</td>\n",
       "      <td>2017-07-18</td>\n",
       "      <td>/mnt/sinuhe/data_raw/gd_markov/subject_subject...</td>\n",
       "      <td>True</td>\n",
       "    </tr>\n",
       "    <tr>\n",
       "      <th>3</th>\n",
       "      <td>19840127ezce</td>\n",
       "      <td>34</td>\n",
       "      <td>12436</td>\n",
       "      <td>2018-02-13</td>\n",
       "      <td>/mnt/sinuhe/data_raw/gd_markov/subject_subject...</td>\n",
       "      <td>True</td>\n",
       "    </tr>\n",
       "    <tr>\n",
       "      <th>4</th>\n",
       "      <td>19870319wlgl</td>\n",
       "      <td>31</td>\n",
       "      <td>11390</td>\n",
       "      <td>2018-05-25</td>\n",
       "      <td>/mnt/sinuhe/data_raw/gd_markov/subject_subject...</td>\n",
       "      <td>True</td>\n",
       "    </tr>\n",
       "    <tr>\n",
       "      <th>...</th>\n",
       "      <td>...</td>\n",
       "      <td>...</td>\n",
       "      <td>...</td>\n",
       "      <td>...</td>\n",
       "      <td>...</td>\n",
       "      <td>...</td>\n",
       "    </tr>\n",
       "    <tr>\n",
       "      <th>630</th>\n",
       "      <td>19800616mrgu</td>\n",
       "      <td>41</td>\n",
       "      <td>15283</td>\n",
       "      <td>2022-04-20</td>\n",
       "      <td>/mnt/sinuhe/data_raw/nsss_crossmodmarkov/subje...</td>\n",
       "      <td>True</td>\n",
       "    </tr>\n",
       "    <tr>\n",
       "      <th>631</th>\n",
       "      <td>19910811sbsu</td>\n",
       "      <td>30</td>\n",
       "      <td>11217</td>\n",
       "      <td>2022-04-27</td>\n",
       "      <td>/mnt/sinuhe/data_raw/nsss_crossmodmarkov/subje...</td>\n",
       "      <td>True</td>\n",
       "    </tr>\n",
       "    <tr>\n",
       "      <th>632</th>\n",
       "      <td>19921117agae</td>\n",
       "      <td>29</td>\n",
       "      <td>10755</td>\n",
       "      <td>2022-04-29</td>\n",
       "      <td>/mnt/sinuhe/data_raw/nsss_crossmodmarkov/subje...</td>\n",
       "      <td>True</td>\n",
       "    </tr>\n",
       "    <tr>\n",
       "      <th>633</th>\n",
       "      <td>19681001aeaf</td>\n",
       "      <td>53</td>\n",
       "      <td>19568</td>\n",
       "      <td>2022-04-29</td>\n",
       "      <td>/mnt/sinuhe/data_raw/nsss_crossmodmarkov/subje...</td>\n",
       "      <td>True</td>\n",
       "    </tr>\n",
       "    <tr>\n",
       "      <th>634</th>\n",
       "      <td>20000729ttva</td>\n",
       "      <td>21</td>\n",
       "      <td>7944</td>\n",
       "      <td>2022-04-29</td>\n",
       "      <td>/mnt/sinuhe/data_raw/nsss_crossmodmarkov/subje...</td>\n",
       "      <td>True</td>\n",
       "    </tr>\n",
       "  </tbody>\n",
       "</table>\n",
       "<p>635 rows × 6 columns</p>\n",
       "</div>"
      ],
      "text/plain": [
       "       subject_id  measurement_age  measurement_age_days measurement_date  \\\n",
       "0    19800616mrgu               36                 13429       2017-03-23   \n",
       "1    19961118brsh               20                  7431       2017-03-24   \n",
       "2    19810726gdzn               35                 13141       2017-07-18   \n",
       "3    19840127ezce               34                 12436       2018-02-13   \n",
       "4    19870319wlgl               31                 11390       2018-05-25   \n",
       "..            ...              ...                   ...              ...   \n",
       "630  19800616mrgu               41                 15283       2022-04-20   \n",
       "631  19910811sbsu               30                 11217       2022-04-27   \n",
       "632  19921117agae               29                 10755       2022-04-29   \n",
       "633  19681001aeaf               53                 19568       2022-04-29   \n",
       "634  20000729ttva               21                  7944       2022-04-29   \n",
       "\n",
       "                                                  path  fs_1k  \n",
       "0    /mnt/sinuhe/data_raw/gd_markov/subject_subject...   True  \n",
       "1    /mnt/sinuhe/data_raw/gd_markov/subject_subject...   True  \n",
       "2    /mnt/sinuhe/data_raw/gd_markov/subject_subject...   True  \n",
       "3    /mnt/sinuhe/data_raw/gd_markov/subject_subject...   True  \n",
       "4    /mnt/sinuhe/data_raw/gd_markov/subject_subject...   True  \n",
       "..                                                 ...    ...  \n",
       "630  /mnt/sinuhe/data_raw/nsss_crossmodmarkov/subje...   True  \n",
       "631  /mnt/sinuhe/data_raw/nsss_crossmodmarkov/subje...   True  \n",
       "632  /mnt/sinuhe/data_raw/nsss_crossmodmarkov/subje...   True  \n",
       "633  /mnt/sinuhe/data_raw/nsss_crossmodmarkov/subje...   True  \n",
       "634  /mnt/sinuhe/data_raw/nsss_crossmodmarkov/subje...   True  \n",
       "\n",
       "[635 rows x 6 columns]"
      ]
     },
     "execution_count": 40,
     "metadata": {},
     "output_type": "execute_result"
    }
   ],
   "source": [
    "#Get subject ids with multiple recordings\n",
    "ids, counts = np.unique(df['subject_id'], return_counts=True)\n",
    "id_list = ids[counts > 4]\n",
    "\n",
    "df_multi = df.query('subject_id in @id_list')\n",
    "df_multi.reset_index(inplace=True)\n",
    "df_multi.drop(columns='index', inplace=True)\n",
    "df_multi.to_csv('./data/resting_list_multi.csv')\n",
    "\n",
    "df_multi"
   ]
  },
  {
   "cell_type": "code",
   "execution_count": 44,
   "id": "d0e8a8b3-4a85-4e48-b92e-36e63c715322",
   "metadata": {},
   "outputs": [
    {
     "data": {
      "text/plain": [
       "(68,)"
      ]
     },
     "execution_count": 44,
     "metadata": {},
     "output_type": "execute_result"
    }
   ],
   "source": [
    "id_list.shape"
   ]
  },
  {
   "cell_type": "code",
   "execution_count": 9,
   "id": "535ac8b6",
   "metadata": {},
   "outputs": [
    {
     "ename": "NameError",
     "evalue": "name 'exps' is not defined",
     "output_type": "error",
     "traceback": [
      "\u001b[0;31m---------------------------------------------------------------------------\u001b[0m",
      "\u001b[0;31mNameError\u001b[0m                                 Traceback (most recent call last)",
      "\u001b[0;32m/tmp/ipykernel_2442/1466389856.py\u001b[0m in \u001b[0;36m<module>\u001b[0;34m\u001b[0m\n\u001b[0;32m----> 1\u001b[0;31m \u001b[0mavg_exp\u001b[0m \u001b[0;34m=\u001b[0m \u001b[0mnp\u001b[0m\u001b[0;34m.\u001b[0m\u001b[0marray\u001b[0m\u001b[0;34m(\u001b[0m\u001b[0;34m[\u001b[0m\u001b[0mnp\u001b[0m\u001b[0;34m.\u001b[0m\u001b[0mmean\u001b[0m\u001b[0;34m(\u001b[0m\u001b[0mexp\u001b[0m\u001b[0;34m)\u001b[0m \u001b[0;32mfor\u001b[0m \u001b[0mexp\u001b[0m \u001b[0;32min\u001b[0m \u001b[0mexps\u001b[0m\u001b[0;34m]\u001b[0m\u001b[0;34m)\u001b[0m\u001b[0;34m\u001b[0m\u001b[0;34m\u001b[0m\u001b[0m\n\u001b[0m\u001b[1;32m      2\u001b[0m \u001b[0mexp_array\u001b[0m \u001b[0;34m=\u001b[0m \u001b[0mnp\u001b[0m\u001b[0;34m.\u001b[0m\u001b[0marray\u001b[0m\u001b[0;34m(\u001b[0m\u001b[0mexps\u001b[0m\u001b[0;34m)\u001b[0m\u001b[0;34m\u001b[0m\u001b[0;34m\u001b[0m\u001b[0m\n",
      "\u001b[0;31mNameError\u001b[0m: name 'exps' is not defined"
     ]
    }
   ],
   "source": [
    "avg_exp = np.array([np.mean(exp) for exp in exps])\n",
    "exp_array = np.array(exps)"
   ]
  },
  {
   "cell_type": "code",
   "execution_count": 128,
   "id": "10bc20bb",
   "metadata": {},
   "outputs": [],
   "source": [
    "age_corr = [pg.corr(exp_array[:, meas], age, method='shepherd') for meas in range(exp_array.shape[1])]\n",
    "df_age_corr = pd.concat(age_corr)"
   ]
  },
  {
   "cell_type": "code",
   "execution_count": 129,
   "id": "5dfb23ba",
   "metadata": {},
   "outputs": [
    {
     "data": {
      "text/html": [
       "<div>\n",
       "<style scoped>\n",
       "    .dataframe tbody tr th:only-of-type {\n",
       "        vertical-align: middle;\n",
       "    }\n",
       "\n",
       "    .dataframe tbody tr th {\n",
       "        vertical-align: top;\n",
       "    }\n",
       "\n",
       "    .dataframe thead th {\n",
       "        text-align: right;\n",
       "    }\n",
       "</style>\n",
       "<table border=\"1\" class=\"dataframe\">\n",
       "  <thead>\n",
       "    <tr style=\"text-align: right;\">\n",
       "      <th></th>\n",
       "      <th>n</th>\n",
       "      <th>outliers</th>\n",
       "      <th>r</th>\n",
       "      <th>CI95%</th>\n",
       "      <th>p-val</th>\n",
       "      <th>power</th>\n",
       "    </tr>\n",
       "  </thead>\n",
       "  <tbody>\n",
       "    <tr>\n",
       "      <th>shepherd</th>\n",
       "      <td>20</td>\n",
       "      <td>3</td>\n",
       "      <td>-0.485071</td>\n",
       "      <td>[-0.78, -0.01]</td>\n",
       "      <td>0.048427</td>\n",
       "      <td>0.528334</td>\n",
       "    </tr>\n",
       "    <tr>\n",
       "      <th>shepherd</th>\n",
       "      <td>20</td>\n",
       "      <td>3</td>\n",
       "      <td>-0.569184</td>\n",
       "      <td>[-0.82, -0.12]</td>\n",
       "      <td>0.017093</td>\n",
       "      <td>0.697625</td>\n",
       "    </tr>\n",
       "    <tr>\n",
       "      <th>shepherd</th>\n",
       "      <td>20</td>\n",
       "      <td>1</td>\n",
       "      <td>-0.634531</td>\n",
       "      <td>[-0.85, -0.25]</td>\n",
       "      <td>0.003520</td>\n",
       "      <td>0.864277</td>\n",
       "    </tr>\n",
       "    <tr>\n",
       "      <th>shepherd</th>\n",
       "      <td>20</td>\n",
       "      <td>1</td>\n",
       "      <td>-0.568788</td>\n",
       "      <td>[-0.81, -0.15]</td>\n",
       "      <td>0.011043</td>\n",
       "      <td>0.751588</td>\n",
       "    </tr>\n",
       "    <tr>\n",
       "      <th>shepherd</th>\n",
       "      <td>20</td>\n",
       "      <td>2</td>\n",
       "      <td>-0.574667</td>\n",
       "      <td>[-0.82, -0.15]</td>\n",
       "      <td>0.012611</td>\n",
       "      <td>0.736716</td>\n",
       "    </tr>\n",
       "    <tr>\n",
       "      <th>...</th>\n",
       "      <td>...</td>\n",
       "      <td>...</td>\n",
       "      <td>...</td>\n",
       "      <td>...</td>\n",
       "      <td>...</td>\n",
       "      <td>...</td>\n",
       "    </tr>\n",
       "    <tr>\n",
       "      <th>shepherd</th>\n",
       "      <td>20</td>\n",
       "      <td>2</td>\n",
       "      <td>0.695538</td>\n",
       "      <td>[0.34, 0.88]</td>\n",
       "      <td>0.001351</td>\n",
       "      <td>0.924733</td>\n",
       "    </tr>\n",
       "    <tr>\n",
       "      <th>shepherd</th>\n",
       "      <td>20</td>\n",
       "      <td>3</td>\n",
       "      <td>-0.609660</td>\n",
       "      <td>[-0.84, -0.18]</td>\n",
       "      <td>0.009368</td>\n",
       "      <td>0.774734</td>\n",
       "    </tr>\n",
       "    <tr>\n",
       "      <th>shepherd</th>\n",
       "      <td>20</td>\n",
       "      <td>1</td>\n",
       "      <td>-0.545679</td>\n",
       "      <td>[-0.8, -0.12]</td>\n",
       "      <td>0.015662</td>\n",
       "      <td>0.706381</td>\n",
       "    </tr>\n",
       "    <tr>\n",
       "      <th>shepherd</th>\n",
       "      <td>20</td>\n",
       "      <td>3</td>\n",
       "      <td>-0.576022</td>\n",
       "      <td>[-0.83, -0.13]</td>\n",
       "      <td>0.015523</td>\n",
       "      <td>0.711046</td>\n",
       "    </tr>\n",
       "    <tr>\n",
       "      <th>shepherd</th>\n",
       "      <td>20</td>\n",
       "      <td>2</td>\n",
       "      <td>-0.606689</td>\n",
       "      <td>[-0.84, -0.2]</td>\n",
       "      <td>0.007595</td>\n",
       "      <td>0.796011</td>\n",
       "    </tr>\n",
       "  </tbody>\n",
       "</table>\n",
       "<p>63 rows × 6 columns</p>\n",
       "</div>"
      ],
      "text/plain": [
       "           n  outliers         r           CI95%     p-val     power\n",
       "shepherd  20         3 -0.485071  [-0.78, -0.01]  0.048427  0.528334\n",
       "shepherd  20         3 -0.569184  [-0.82, -0.12]  0.017093  0.697625\n",
       "shepherd  20         1 -0.634531  [-0.85, -0.25]  0.003520  0.864277\n",
       "shepherd  20         1 -0.568788  [-0.81, -0.15]  0.011043  0.751588\n",
       "shepherd  20         2 -0.574667  [-0.82, -0.15]  0.012611  0.736716\n",
       "...       ..       ...       ...             ...       ...       ...\n",
       "shepherd  20         2  0.695538    [0.34, 0.88]  0.001351  0.924733\n",
       "shepherd  20         3 -0.609660  [-0.84, -0.18]  0.009368  0.774734\n",
       "shepherd  20         1 -0.545679   [-0.8, -0.12]  0.015662  0.706381\n",
       "shepherd  20         3 -0.576022  [-0.83, -0.13]  0.015523  0.711046\n",
       "shepherd  20         2 -0.606689   [-0.84, -0.2]  0.007595  0.796011\n",
       "\n",
       "[63 rows x 6 columns]"
      ]
     },
     "execution_count": 129,
     "metadata": {},
     "output_type": "execute_result"
    }
   ],
   "source": [
    "df_age_corr[df_age_corr['p-val'] < 0.05]"
   ]
  },
  {
   "cell_type": "code",
   "execution_count": 121,
   "id": "ebcb8628",
   "metadata": {},
   "outputs": [
    {
     "data": {
      "text/plain": [
       "pearson    False\n",
       "pearson    False\n",
       "pearson    False\n",
       "pearson    False\n",
       "pearson    False\n",
       "           ...  \n",
       "pearson    False\n",
       "pearson    False\n",
       "pearson    False\n",
       "pearson    False\n",
       "pearson    False\n",
       "Name: p-val, Length: 204, dtype: bool"
      ]
     },
     "execution_count": 121,
     "metadata": {},
     "output_type": "execute_result"
    }
   ],
   "source": [
    "pd.concat(age_corr)['p-val'] < 0.05"
   ]
  },
  {
   "cell_type": "code",
   "execution_count": 102,
   "id": "8d925a98",
   "metadata": {},
   "outputs": [],
   "source": [
    "age = df_fred['measurement_age'].to_numpy()[np.array(f_idx) == 1]"
   ]
  },
  {
   "cell_type": "code",
   "execution_count": 100,
   "id": "ad660843",
   "metadata": {},
   "outputs": [
    {
     "data": {
      "text/plain": [
       "array([ True,  True, False,  True,  True,  True,  True,  True, False,\n",
       "        True,  True,  True,  True, False,  True,  True,  True,  True,\n",
       "        True,  True,  True,  True,  True])"
      ]
     },
     "execution_count": 100,
     "metadata": {},
     "output_type": "execute_result"
    }
   ],
   "source": []
  },
  {
   "cell_type": "code",
   "execution_count": 103,
   "id": "549488d2",
   "metadata": {},
   "outputs": [
    {
     "data": {
      "text/html": [
       "<div>\n",
       "<style scoped>\n",
       "    .dataframe tbody tr th:only-of-type {\n",
       "        vertical-align: middle;\n",
       "    }\n",
       "\n",
       "    .dataframe tbody tr th {\n",
       "        vertical-align: top;\n",
       "    }\n",
       "\n",
       "    .dataframe thead th {\n",
       "        text-align: right;\n",
       "    }\n",
       "</style>\n",
       "<table border=\"1\" class=\"dataframe\">\n",
       "  <thead>\n",
       "    <tr style=\"text-align: right;\">\n",
       "      <th></th>\n",
       "      <th>n</th>\n",
       "      <th>r</th>\n",
       "      <th>CI95%</th>\n",
       "      <th>p-val</th>\n",
       "      <th>BF10</th>\n",
       "      <th>power</th>\n",
       "    </tr>\n",
       "  </thead>\n",
       "  <tbody>\n",
       "    <tr>\n",
       "      <th>pearson</th>\n",
       "      <td>20</td>\n",
       "      <td>-0.31349</td>\n",
       "      <td>[-0.66, 0.15]</td>\n",
       "      <td>0.178328</td>\n",
       "      <td>0.646</td>\n",
       "      <td>0.27643</td>\n",
       "    </tr>\n",
       "  </tbody>\n",
       "</table>\n",
       "</div>"
      ],
      "text/plain": [
       "          n        r          CI95%     p-val   BF10    power\n",
       "pearson  20 -0.31349  [-0.66, 0.15]  0.178328  0.646  0.27643"
      ]
     },
     "execution_count": 103,
     "metadata": {},
     "output_type": "execute_result"
    }
   ],
   "source": [
    "import pingouin as pg\n",
    "\n",
    "\n",
    "pg.corr(exp, age)"
   ]
  },
  {
   "cell_type": "code",
   "execution_count": 24,
   "id": "0c081192",
   "metadata": {},
   "outputs": [
    {
     "name": "stdout",
     "output_type": "stream",
     "text": [
      "==================================================================================================\n",
      "                                                                                                  \n",
      "                                       FOOOF - GROUP RESULTS                                      \n",
      "                                                                                                  \n",
      "                            Number of power spectra in the Group: 204                             \n",
      "                                                                                                  \n",
      "                       The model was run on the frequency range 1 - 100 Hz                        \n",
      "                                 Frequency Resolution is 1.00 Hz                                  \n",
      "                                                                                                  \n",
      "                              Power spectra were fit without a knee.                              \n",
      "                                                                                                  \n",
      "                                      Aperiodic Fit Values:                                       \n",
      "                        Exponents - Min:  0.563, Max:  1.218, Mean: 0.936                         \n",
      "                                                                                                  \n",
      "                         In total 912 peaks were extracted from the group                         \n",
      "                                                                                                  \n",
      "                                     Goodness of fit metrics:                                     \n",
      "                            R2s -  Min:  0.868, Max:  0.992, Mean: 0.978                          \n",
      "                         Errors -  Min:  0.027, Max:  0.073, Mean: 0.042                          \n",
      "                                                                                                  \n",
      "==================================================================================================\n"
     ]
    },
    {
     "data": {
      "image/png": "[encoded data removed]",
      "text/plain": [
       "<Figure size 864x720 with 4 Axes>"
      ]
     },
     "metadata": {
      "needs_background": "light"
     },
     "output_type": "display_data"
    }
   ],
   "source": [
    "fg.print_results()\n",
    "fg.plot()"
   ]
  },
  {
   "cell_type": "code",
   "execution_count": 27,
   "id": "59c313e1",
   "metadata": {},
   "outputs": [],
   "source": [
    "\n",
    "#knee_max = get_fooof_data(fg, param='knee')\n",
    "\n",
    "#knee_freq = check_nans(compute_knee_frequency(knee=knee_max, exponent=exp_max))"
   ]
  },
  {
   "cell_type": "code",
   "execution_count": 28,
   "id": "3ccd32b2",
   "metadata": {},
   "outputs": [
    {
     "data": {
      "text/plain": [
       "array([0.70122639, 0.97015061, 0.81752438, 0.77596731, 1.01545457,\n",
       "       0.93660215, 0.72825364, 0.87853841, 0.75798761, 1.13390678,\n",
       "       1.05866113, 0.90792866, 1.03679517, 1.05580184, 1.08206193,\n",
       "       1.11509961, 1.09828386, 0.93937663, 1.03078865, 1.06390269,\n",
       "       1.01155333, 0.92490022, 0.98425179, 1.11608192, 1.02048226,\n",
       "       0.95748167, 0.85972395, 1.04188602, 0.88734535, 0.92671412,\n",
       "       0.97915342, 1.0012199 , 1.0320648 , 0.85535446, 0.94030229,\n",
       "       0.79144923, 0.86724727, 0.9765902 , 0.94454733, 1.04961691,\n",
       "       0.90026495, 0.82289386, 0.77948709, 0.89586566, 0.87465974,\n",
       "       0.87744073, 0.85913133, 0.8873534 , 0.78115512, 0.90159418,\n",
       "       0.73992459, 0.94356789, 0.93072624, 0.82855228, 0.88529731,\n",
       "       0.86381632, 0.96131981, 0.79274259, 0.80261392, 0.94910054,\n",
       "       0.96822211, 0.83688232, 1.02914783, 0.86916816, 0.85171604,\n",
       "       0.99599315, 0.81473148, 0.9774171 , 0.89786846, 0.75821508,\n",
       "       0.90253491, 0.77476474, 0.8427863 , 0.89438708, 0.90613387,\n",
       "       0.79839857, 0.9011237 , 0.96403535, 1.02572064, 0.9200783 ,\n",
       "       1.00797681, 1.01473074, 0.93267276, 0.8428843 , 1.07120915,\n",
       "       0.93735798, 0.90759097, 0.98430921, 0.93584633, 0.96450664,\n",
       "       0.93570186, 0.86543888, 0.98349848, 0.97738349, 0.85632464,\n",
       "       1.03779191, 1.04459183, 1.09000282, 1.07320483, 1.06398811,\n",
       "       0.83977948, 0.70228871, 0.93660215, 0.99368636, 0.93660215,\n",
       "       0.88018381, 0.96277603, 0.93660215, 1.02369388, 0.9651184 ,\n",
       "       0.98049223, 0.88947536, 0.75221063, 0.93660215, 0.83296843,\n",
       "       0.93660215, 1.09927128, 1.12583359, 1.01997268, 1.12447834,\n",
       "       1.04990392, 1.16201865, 1.03315304, 1.06269309, 0.85135394,\n",
       "       0.84910479, 0.89348322, 0.83070988, 0.85998028, 0.85715197,\n",
       "       0.91405181, 0.81924986, 1.04063813, 0.98216065, 0.87874953,\n",
       "       0.95800075, 0.92320305, 0.89346292, 1.16025051, 0.97819137,\n",
       "       1.02912033, 1.21825713, 0.96367988, 1.01299699, 0.80806846,\n",
       "       0.87748976, 1.01316857, 1.03334607, 1.03699934, 1.08576477,\n",
       "       1.11823189, 1.0163166 , 0.98890336, 1.19893991, 1.05980533,\n",
       "       1.14386276, 1.01407015, 1.01523111, 0.82872095, 0.8295111 ,\n",
       "       0.85910908, 0.89346225, 0.93375143, 0.81967462, 0.83532747,\n",
       "       0.95174915, 1.033166  , 0.97863862, 1.02367547, 0.96945794,\n",
       "       0.83271685, 0.95197897, 1.02336031, 1.14320542, 1.03774588,\n",
       "       1.00698269, 0.89160608, 0.80496394, 0.98013103, 0.93310672,\n",
       "       1.03624849, 1.00789439, 0.97496828, 1.13016633, 0.99730377,\n",
       "       0.98444378, 0.97058773, 1.02824949, 0.90128227, 0.85307881,\n",
       "       0.88221504, 0.88705932, 0.76769273, 0.89689736, 0.76885382,\n",
       "       0.92356634, 0.9391937 , 1.02694529, 0.85229318, 0.88685717,\n",
       "       0.80705596, 0.89999468, 0.89402158, 0.83887691])"
      ]
     },
     "execution_count": 28,
     "metadata": {},
     "output_type": "execute_result"
    }
   ],
   "source": [
    "exp"
   ]
  },
  {
   "cell_type": "code",
   "execution_count": null,
   "id": "4dd7c6ab",
   "metadata": {},
   "outputs": [],
   "source": []
  },
  {
   "cell_type": "code",
   "execution_count": 304,
   "id": "8273e4a4",
   "metadata": {},
   "outputs": [
    {
     "data": {
      "text/plain": [
       "9"
      ]
     },
     "execution_count": 304,
     "metadata": {},
     "output_type": "execute_result"
    }
   ],
   "source": [
    "(df['measurement_age'] > 60).sum()"
   ]
  },
  {
   "cell_type": "code",
   "execution_count": 292,
   "id": "40ecb66e",
   "metadata": {},
   "outputs": [
    {
     "data": {
      "text/plain": [
       "(array([252., 294.,  70.,  58.,  13.,  14.,  20.,  11.,   1.,   1.]),\n",
       " array([18. , 23.9, 29.8, 35.7, 41.6, 47.5, 53.4, 59.3, 65.2, 71.1, 77. ]),\n",
       " <BarContainer object of 10 artists>)"
      ]
     },
     "execution_count": 292,
     "metadata": {},
     "output_type": "execute_result"
    },
    {
     "data": {
      "image/png": "[encoded data removed]",
      "text/plain": [
       "<Figure size 432x288 with 1 Axes>"
      ]
     },
     "metadata": {
      "needs_background": "light"
     },
     "output_type": "display_data"
    }
   ],
   "source": [
    "plt.hist(df['measurement_age'])"
   ]
  },
  {
   "cell_type": "code",
   "execution_count": null,
   "id": "25b523d2",
   "metadata": {},
   "outputs": [],
   "source": []
  },
  {
   "cell_type": "code",
   "execution_count": 295,
   "id": "72c46a3d",
   "metadata": {},
   "outputs": [],
   "source": [
    "rep_ids = ids[counts > 4]\n",
    "reps = counts[counts > 4]"
   ]
  },
  {
   "cell_type": "code",
   "execution_count": 296,
   "id": "b8489356",
   "metadata": {},
   "outputs": [
    {
     "data": {
      "text/plain": [
       "<BarContainer object of 23 artists>"
      ]
     },
     "execution_count": 296,
     "metadata": {},
     "output_type": "execute_result"
    },
    {
     "data": {
      "image/png": "[encoded data removed]",
      "text/plain": [
       "<Figure size 432x288 with 1 Axes>"
      ]
     },
     "metadata": {
      "needs_background": "light"
     },
     "output_type": "display_data"
    }
   ],
   "source": [
    "plt.barh(y=rep_ids, width=reps)"
   ]
  },
  {
   "cell_type": "code",
   "execution_count": null,
   "id": "05e29824",
   "metadata": {},
   "outputs": [],
   "source": [
    "df['measurement_date']"
   ]
  },
  {
   "cell_type": "code",
   "execution_count": null,
   "id": "eef41f60",
   "metadata": {},
   "outputs": [],
   "source": []
  }
 ],
 "metadata": {
  "kernelspec": {
   "display_name": "Python 3 (ipykernel)",
   "language": "python",
   "name": "python3"
  },
  "language_info": {
   "codemirror_mode": {
    "name": "ipython",
    "version": 3
   },
   "file_extension": ".py",
   "mimetype": "text/x-python",
   "name": "python",
   "nbconvert_exporter": "python",
   "pygments_lexer": "ipython3",
   "version": "3.9.7"
  }
 },
 "nbformat": 4,
 "nbformat_minor": 5
}
