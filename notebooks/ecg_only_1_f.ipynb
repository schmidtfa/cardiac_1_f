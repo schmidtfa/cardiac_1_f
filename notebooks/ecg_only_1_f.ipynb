{
 "cells": [
  {
   "cell_type": "code",
   "execution_count": 1,
   "id": "8eaf57a2",
   "metadata": {},
   "outputs": [
    {
     "name": "stderr",
     "output_type": "stream",
     "text": [
      "/mnt/obob/staff/fschmidt/conda_cache/envs/ml/lib/python3.9/site-packages/outdated/utils.py:14: OutdatedPackageWarning: The package pingouin is out of date. Your version is 0.5.2, the latest is 0.5.3.\n",
      "Set the environment variable OUTDATED_IGNORE=1 to disable these warnings.\n",
      "  return warn(\n",
      "/mnt/obob/staff/fschmidt/conda_cache/envs/ml/lib/python3.9/site-packages/outdated/utils.py:14: OutdatedPackageWarning: The package outdated is out of date. Your version is 0.2.1, the latest is 0.2.2.\n",
      "Set the environment variable OUTDATED_IGNORE=1 to disable these warnings.\n",
      "  return warn(\n"
     ]
    }
   ],
   "source": [
    "from neurodsp.spectral import compute_spectrum\n",
    "from neurodsp.utils import create_times\n",
    "from neurodsp.plts.spectral import plot_power_spectra\n",
    "\n",
    "import pingouin as pg\n",
    "from fooof import FOOOFGroup\n",
    "from natsort import natsorted\n",
    "\n",
    "\n",
    "from os import listdir\n",
    "from os.path import join\n",
    "import numpy as np\n",
    "import pandas as pd\n",
    "import wfdb\n",
    "import matplotlib.pyplot as plt\n",
    "\n",
    "import seaborn as sns\n",
    "import contextlib\n",
    "import arviz as az\n",
    "import pymc as pm\n",
    "import aesara.tensor as at\n",
    "\n",
    "from fooof.utils import interpolate_spectrum\n",
    "\n",
    "import bambi as bmb\n",
    "import sys\n",
    "sys.path.append('/mnt/obob/staff/fschmidt/cardiac_1_f/')\n",
    "from utils.fooof_utils import check_outliers, get_good_idx\n",
    "from utils.plot_utils import plot_ridge\n",
    "from utils.pymc_utils import coefficients2pcorrs\n",
    "from scipy.stats import zscore\n",
    "\n",
    "\n",
    "#%matplotlib inline\n",
    "sns.set_style('ticks')\n",
    "sns.set_context('poster')\n",
    "\n",
    "import matplotlib as mpl\n",
    "new_rc_params = {'text.usetex': False,\n",
    "\"svg.fonttype\": 'none'\n",
    "}\n",
    "mpl.rcParams.update(new_rc_params)"
   ]
  },
  {
   "cell_type": "code",
   "execution_count": 2,
   "id": "6834fda2",
   "metadata": {},
   "outputs": [],
   "source": [
    "def interpolate_powerline(freqs, psd, line_freqs):\n",
    "\n",
    "    for line_freq in line_freqs:\n",
    "\n",
    "        _, psd = interpolate_spectrum(freqs, psd, line_freq)\n",
    "    \n",
    "    return psd"
   ]
  },
  {
   "cell_type": "code",
   "execution_count": 3,
   "id": "e2f4b421",
   "metadata": {},
   "outputs": [],
   "source": [
    "DATA_DIR = '../data/data_ecg_only/'\n",
    "FS = 1000\n",
    "subject_info = pd.read_csv(join(DATA_DIR, 'subject-info.csv'))\n",
    "\n",
    "all_files = natsorted(listdir(DATA_DIR))\n",
    "\n",
    "all_data = np.array([file[:-4] for file in all_files if '.dat' in file])"
   ]
  },
  {
   "cell_type": "code",
   "execution_count": 5,
   "id": "58e8516b",
   "metadata": {},
   "outputs": [
    {
     "name": "stdout",
     "output_type": "stream",
     "text": [
      "Current file is: 0\n",
      "Current file is: 1\n",
      "Current file is: 2\n"
     ]
    },
    {
     "name": "stdout",
     "output_type": "stream",
     "text": [
      "Current file is: 3\n",
      "Current file is: 4\n",
      "Current file is: 5\n",
      "Current file is: 6\n",
      "Current file is: 7\n",
      "Current file is: 8\n",
      "Current file is: 9\n",
      "Current file is: 10\n",
      "Current file is: 11\n",
      "Current file is: 12\n",
      "Current file is: 13\n",
      "Current file is: 14\n",
      "Current file is: 15\n",
      "Current file is: 16\n",
      "Current file is: 17\n",
      "Current file is: 18\n",
      "Current file is: 19\n",
      "Current file is: 20\n",
      "Current file is: 21\n",
      "Current file is: 22\n",
      "Current file is: 23\n",
      "Current file is: 24\n",
      "Current file is: 25\n",
      "Current file is: 26\n",
      "Current file is: 27\n",
      "Current file is: 28\n",
      "Current file is: 29\n",
      "Current file is: 30\n",
      "Current file is: 31\n",
      "Current file is: 32\n",
      "Current file is: 33\n",
      "Current file is: 34\n",
      "Current file is: 35\n",
      "Current file is: 36\n",
      "Current file is: 37\n",
      "Current file is: 38\n",
      "Current file is: 39\n",
      "Current file is: 40\n",
      "Current file is: 41\n",
      "Current file is: 42\n",
      "Current file is: 43\n",
      "Current file is: 44\n",
      "Current file is: 45\n",
      "Current file is: 46\n",
      "Current file is: 47\n",
      "Current file is: 48\n",
      "Current file is: 49\n",
      "Current file is: 50\n",
      "Current file is: 51\n",
      "Current file is: 52\n",
      "Current file is: 53\n",
      "Current file is: 54\n",
      "Current file is: 55\n",
      "Current file is: 56\n",
      "Current file is: 57\n",
      "Current file is: 58\n",
      "Current file is: 59\n",
      "Current file is: 60\n",
      "Current file is: 61\n",
      "Current file is: 62\n",
      "Current file is: 63\n",
      "Current file is: 64\n",
      "Current file is: 65\n",
      "Current file is: 66\n",
      "Current file is: 67\n",
      "Current file is: 68\n",
      "Current file is: 69\n",
      "Current file is: 70\n",
      "Current file is: 71\n",
      "Current file is: 72\n",
      "Current file is: 73\n",
      "Current file is: 74\n",
      "Current file is: 75\n",
      "Current file is: 76\n",
      "Current file is: 77\n",
      "Current file is: 78\n",
      "Current file is: 79\n",
      "Current file is: 80\n",
      "Current file is: 81\n",
      "Current file is: 82\n",
      "Current file is: 83\n",
      "Current file is: 84\n",
      "Current file is: 85\n",
      "Current file is: 86\n",
      "Current file is: 87\n",
      "Current file is: 88\n",
      "Current file is: 89\n",
      "Current file is: 90\n",
      "Current file is: 91\n",
      "Current file is: 92\n",
      "Current file is: 93\n",
      "Current file is: 94\n",
      "Current file is: 95\n",
      "Current file is: 96\n",
      "Current file is: 97\n",
      "Current file is: 98\n",
      "Current file is: 99\n",
      "Current file is: 100\n",
      "Current file is: 101\n",
      "Current file is: 102\n",
      "Current file is: 103\n",
      "Current file is: 104\n",
      "Current file is: 105\n",
      "Current file is: 106\n",
      "Current file is: 107\n",
      "Current file is: 108\n",
      "Current file is: 109\n",
      "Current file is: 110\n",
      "Current file is: 111\n",
      "Current file is: 112\n",
      "Current file is: 113\n",
      "Current file is: 114\n",
      "Current file is: 115\n",
      "Current file is: 116\n",
      "Current file is: 117\n",
      "Current file is: 118\n",
      "Current file is: 119\n",
      "Current file is: 120\n",
      "Current file is: 121\n",
      "Current file is: 122\n",
      "Current file is: 123\n",
      "Current file is: 124\n",
      "Current file is: 125\n",
      "Current file is: 126\n",
      "Current file is: 127\n",
      "Current file is: 128\n",
      "Current file is: 129\n",
      "Current file is: 130\n",
      "Current file is: 131\n",
      "Current file is: 132\n",
      "Current file is: 133\n",
      "Current file is: 134\n",
      "Current file is: 135\n",
      "Current file is: 136\n",
      "Current file is: 137\n",
      "Current file is: 138\n",
      "Current file is: 139\n",
      "Current file is: 140\n",
      "Current file is: 141\n",
      "Current file is: 142\n",
      "Current file is: 143\n",
      "Current file is: 144\n",
      "Current file is: 145\n",
      "Current file is: 146\n",
      "Current file is: 147\n",
      "Current file is: 148\n",
      "Current file is: 149\n",
      "Current file is: 150\n",
      "Current file is: 151\n",
      "Current file is: 152\n",
      "Current file is: 153\n",
      "Current file is: 154\n",
      "Current file is: 155\n",
      "Current file is: 156\n",
      "Current file is: 157\n",
      "Current file is: 158\n",
      "Current file is: 159\n",
      "Current file is: 160\n",
      "Current file is: 161\n",
      "Current file is: 162\n",
      "Current file is: 163\n",
      "Current file is: 164\n",
      "Current file is: 165\n",
      "Current file is: 166\n",
      "Current file is: 167\n",
      "Current file is: 168\n",
      "Current file is: 169\n",
      "Current file is: 170\n",
      "Current file is: 171\n",
      "Current file is: 172\n",
      "Current file is: 173\n",
      "Current file is: 174\n",
      "Current file is: 175\n",
      "Current file is: 176\n",
      "Current file is: 177\n",
      "Current file is: 178\n",
      "Current file is: 179\n",
      "Current file is: 180\n",
      "Current file is: 181\n",
      "Current file is: 182\n",
      "Current file is: 183\n",
      "Current file is: 184\n",
      "Current file is: 185\n",
      "Current file is: 186\n",
      "Current file is: 187\n",
      "Current file is: 188\n",
      "Current file is: 189\n",
      "Current file is: 190\n",
      "Current file is: 191\n",
      "Current file is: 192\n",
      "Current file is: 193\n",
      "Current file is: 194\n",
      "Current file is: 195\n",
      "Current file is: 196\n",
      "Current file is: 197\n",
      "Current file is: 198\n",
      "Current file is: 199\n",
      "Current file is: 200\n",
      "Current file is: 201\n",
      "Current file is: 202\n",
      "Current file is: 203\n",
      "Current file is: 204\n",
      "Current file is: 205\n",
      "Current file is: 206\n",
      "Current file is: 207\n",
      "Current file is: 208\n",
      "Current file is: 209\n",
      "Current file is: 210\n",
      "Current file is: 211\n",
      "Current file is: 212\n",
      "Current file is: 213\n",
      "Current file is: 214\n",
      "Current file is: 215\n",
      "Current file is: 216\n",
      "Current file is: 217\n",
      "Current file is: 218\n",
      "Current file is: 219\n",
      "Current file is: 220\n",
      "Current file is: 221\n",
      "Current file is: 222\n",
      "Current file is: 223\n",
      "Current file is: 224\n",
      "Current file is: 225\n",
      "Current file is: 226\n",
      "Current file is: 227\n",
      "Current file is: 228\n",
      "Current file is: 229\n",
      "Current file is: 230\n",
      "Current file is: 231\n",
      "Current file is: 232\n",
      "Current file is: 233\n",
      "Current file is: 234\n",
      "Current file is: 235\n",
      "Current file is: 236\n",
      "Current file is: 237\n",
      "Current file is: 238\n",
      "Current file is: 239\n",
      "Current file is: 240\n",
      "Current file is: 241\n",
      "Current file is: 242\n",
      "Current file is: 243\n",
      "Current file is: 244\n",
      "Current file is: 245\n",
      "Current file is: 246\n",
      "Current file is: 247\n",
      "Current file is: 248\n",
      "Current file is: 249\n",
      "Current file is: 250\n",
      "Current file is: 251\n",
      "Current file is: 252\n",
      "Current file is: 253\n",
      "Current file is: 254\n",
      "Current file is: 255\n",
      "Current file is: 256\n",
      "Current file is: 257\n",
      "Current file is: 258\n",
      "Current file is: 259\n",
      "Current file is: 260\n",
      "Current file is: 261\n",
      "Current file is: 262\n",
      "Current file is: 263\n",
      "Current file is: 264\n",
      "Current file is: 265\n",
      "Current file is: 266\n",
      "Current file is: 267\n",
      "Current file is: 268\n",
      "Current file is: 269\n",
      "Current file is: 270\n",
      "Current file is: 271\n",
      "Current file is: 272\n",
      "Current file is: 273\n",
      "Current file is: 274\n",
      "Current file is: 275\n",
      "Current file is: 276\n",
      "Current file is: 277\n",
      "Current file is: 278\n",
      "Current file is: 279\n",
      "Current file is: 280\n",
      "Current file is: 281\n",
      "Current file is: 282\n",
      "Current file is: 283\n",
      "Current file is: 284\n",
      "Current file is: 285\n",
      "Current file is: 286\n",
      "Current file is: 287\n",
      "Current file is: 288\n",
      "Current file is: 289\n",
      "Current file is: 290\n",
      "Current file is: 291\n",
      "Current file is: 292\n",
      "Current file is: 293\n",
      "Current file is: 294\n",
      "Current file is: 295\n",
      "Current file is: 296\n",
      "Current file is: 297\n",
      "Current file is: 298\n",
      "Current file is: 299\n",
      "Current file is: 300\n",
      "Current file is: 301\n",
      "Current file is: 302\n",
      "Current file is: 303\n",
      "Current file is: 304\n",
      "Current file is: 305\n",
      "Current file is: 306\n",
      "Current file is: 307\n",
      "Current file is: 308\n",
      "Current file is: 309\n",
      "Current file is: 310\n",
      "Current file is: 311\n",
      "Current file is: 312\n",
      "Current file is: 313\n",
      "Current file is: 314\n",
      "Current file is: 315\n",
      "Current file is: 316\n",
      "Current file is: 317\n",
      "Current file is: 318\n",
      "Current file is: 319\n",
      "Current file is: 320\n",
      "Current file is: 321\n",
      "Current file is: 322\n",
      "Current file is: 323\n",
      "Current file is: 324\n",
      "Current file is: 325\n",
      "Current file is: 326\n",
      "Current file is: 327\n",
      "Current file is: 328\n",
      "Current file is: 329\n",
      "Current file is: 330\n",
      "Current file is: 331\n",
      "Current file is: 332\n",
      "Current file is: 333\n",
      "Current file is: 334\n",
      "Current file is: 335\n",
      "Current file is: 336\n",
      "Current file is: 337\n",
      "Current file is: 338\n",
      "Current file is: 339\n",
      "Current file is: 340\n",
      "Current file is: 341\n",
      "Current file is: 342\n",
      "Current file is: 343\n",
      "Current file is: 344\n",
      "Current file is: 345\n",
      "Current file is: 346\n",
      "Current file is: 347\n",
      "Current file is: 348\n",
      "Current file is: 349\n",
      "Current file is: 350\n",
      "Current file is: 351\n",
      "Current file is: 352\n",
      "Current file is: 353\n",
      "Current file is: 354\n",
      "Current file is: 355\n",
      "Current file is: 356\n",
      "Current file is: 357\n",
      "Current file is: 358\n",
      "Current file is: 359\n",
      "Current file is: 360\n",
      "Current file is: 361\n",
      "Current file is: 362\n",
      "Current file is: 363\n",
      "Current file is: 364\n",
      "Current file is: 365\n",
      "Current file is: 366\n",
      "Current file is: 367\n",
      "Current file is: 368\n",
      "Current file is: 369\n",
      "Current file is: 370\n",
      "Current file is: 371\n",
      "Current file is: 372\n",
      "Current file is: 373\n",
      "Current file is: 374\n",
      "Current file is: 375\n",
      "Current file is: 376\n",
      "Current file is: 377\n",
      "Current file is: 378\n",
      "Current file is: 379\n",
      "Current file is: 380\n",
      "Current file is: 381\n",
      "Current file is: 382\n",
      "Current file is: 383\n",
      "Current file is: 384\n",
      "Current file is: 385\n",
      "Current file is: 386\n",
      "Current file is: 387\n",
      "Current file is: 388\n",
      "Current file is: 389\n",
      "Current file is: 390\n",
      "Current file is: 391\n",
      "Current file is: 392\n",
      "Current file is: 393\n",
      "Current file is: 394\n",
      "Current file is: 395\n",
      "Current file is: 396\n",
      "Current file is: 397\n",
      "Current file is: 398\n",
      "Current file is: 399\n",
      "Current file is: 400\n",
      "Current file is: 401\n",
      "Current file is: 402\n",
      "Current file is: 403\n",
      "Current file is: 404\n",
      "Current file is: 405\n",
      "Current file is: 406\n",
      "Current file is: 407\n",
      "Current file is: 408\n",
      "Current file is: 409\n",
      "Current file is: 410\n",
      "Current file is: 411\n",
      "Current file is: 412\n",
      "Current file is: 413\n",
      "Current file is: 414\n",
      "Current file is: 415\n",
      "Current file is: 416\n",
      "Current file is: 417\n",
      "Current file is: 418\n",
      "Current file is: 419\n",
      "Current file is: 420\n",
      "Current file is: 421\n",
      "Current file is: 422\n",
      "Current file is: 423\n",
      "Current file is: 424\n",
      "Current file is: 425\n",
      "Current file is: 426\n",
      "Current file is: 427\n",
      "Current file is: 428\n",
      "Current file is: 429\n",
      "Current file is: 430\n",
      "Current file is: 431\n",
      "Current file is: 432\n",
      "Current file is: 433\n",
      "Current file is: 434\n",
      "Current file is: 435\n",
      "Current file is: 436\n",
      "Current file is: 437\n",
      "Current file is: 438\n",
      "Current file is: 439\n",
      "Current file is: 440\n",
      "Current file is: 441\n",
      "Current file is: 442\n",
      "Current file is: 443\n",
      "Current file is: 444\n",
      "Current file is: 445\n",
      "Current file is: 446\n",
      "Current file is: 447\n",
      "Current file is: 448\n",
      "Current file is: 449\n",
      "Current file is: 450\n",
      "Current file is: 451\n",
      "Current file is: 452\n",
      "Current file is: 453\n",
      "Current file is: 454\n",
      "Current file is: 455\n",
      "Current file is: 456\n",
      "Current file is: 457\n",
      "Current file is: 458\n",
      "Current file is: 459\n",
      "Current file is: 460\n",
      "Current file is: 461\n",
      "Current file is: 462\n",
      "Current file is: 463\n",
      "Current file is: 464\n",
      "Current file is: 465\n",
      "Current file is: 466\n",
      "Current file is: 467\n",
      "Current file is: 468\n",
      "Current file is: 469\n",
      "Current file is: 470\n",
      "Current file is: 471\n",
      "Current file is: 472\n",
      "Current file is: 473\n",
      "Current file is: 474\n",
      "Current file is: 475\n",
      "Current file is: 476\n",
      "Current file is: 477\n",
      "Current file is: 478\n",
      "Current file is: 479\n",
      "Current file is: 480\n",
      "Current file is: 481\n",
      "Current file is: 482\n",
      "Current file is: 483\n",
      "Current file is: 484\n",
      "Current file is: 485\n",
      "Current file is: 486\n",
      "Current file is: 487\n",
      "Current file is: 488\n",
      "Current file is: 489\n",
      "Current file is: 490\n",
      "Current file is: 491\n",
      "Current file is: 492\n",
      "Current file is: 493\n",
      "Current file is: 494\n",
      "Current file is: 495\n",
      "Current file is: 496\n",
      "Current file is: 497\n",
      "Current file is: 498\n",
      "Current file is: 499\n",
      "Current file is: 500\n",
      "Current file is: 501\n",
      "Current file is: 502\n",
      "Current file is: 503\n",
      "Current file is: 504\n",
      "Current file is: 505\n",
      "Current file is: 506\n",
      "Current file is: 507\n",
      "Current file is: 508\n",
      "Current file is: 509\n",
      "Current file is: 510\n",
      "Current file is: 511\n",
      "Current file is: 512\n",
      "Current file is: 513\n",
      "Current file is: 514\n",
      "Current file is: 515\n",
      "Current file is: 516\n",
      "Current file is: 517\n",
      "Current file is: 518\n",
      "Current file is: 519\n",
      "Current file is: 520\n",
      "Current file is: 521\n",
      "Current file is: 522\n",
      "Current file is: 523\n",
      "Current file is: 524\n",
      "Current file is: 525\n",
      "Current file is: 526\n",
      "Current file is: 527\n",
      "Current file is: 528\n",
      "Current file is: 529\n",
      "Current file is: 530\n",
      "Current file is: 531\n",
      "Current file is: 532\n",
      "Current file is: 533\n",
      "Current file is: 534\n",
      "Current file is: 535\n",
      "Current file is: 536\n",
      "Current file is: 537\n",
      "Current file is: 538\n",
      "Current file is: 539\n",
      "Current file is: 540\n",
      "Current file is: 541\n",
      "Current file is: 542\n",
      "Current file is: 543\n",
      "Current file is: 544\n",
      "Current file is: 545\n",
      "Current file is: 546\n",
      "Current file is: 547\n",
      "Current file is: 548\n",
      "Current file is: 549\n",
      "Current file is: 550\n",
      "Current file is: 551\n",
      "Current file is: 552\n",
      "Current file is: 553\n",
      "Current file is: 554\n",
      "Current file is: 555\n",
      "Current file is: 556\n",
      "Current file is: 557\n",
      "Current file is: 558\n",
      "Current file is: 559\n",
      "Current file is: 560\n",
      "Current file is: 561\n",
      "Current file is: 562\n",
      "Current file is: 563\n",
      "Current file is: 564\n",
      "Current file is: 565\n",
      "Current file is: 566\n",
      "Current file is: 567\n",
      "Current file is: 568\n",
      "Current file is: 569\n",
      "Current file is: 570\n",
      "Current file is: 571\n",
      "Current file is: 572\n",
      "Current file is: 573\n",
      "Current file is: 574\n",
      "Current file is: 575\n",
      "Current file is: 576\n",
      "Current file is: 577\n",
      "Current file is: 578\n",
      "Current file is: 579\n",
      "Current file is: 580\n",
      "Current file is: 581\n",
      "Current file is: 582\n",
      "Current file is: 583\n",
      "Current file is: 584\n",
      "Current file is: 585\n",
      "Current file is: 586\n",
      "Current file is: 587\n",
      "Current file is: 588\n",
      "Current file is: 589\n",
      "Current file is: 590\n",
      "Current file is: 591\n",
      "Current file is: 592\n",
      "Current file is: 593\n",
      "Current file is: 594\n",
      "Current file is: 595\n",
      "Current file is: 596\n",
      "Current file is: 597\n",
      "Current file is: 598\n",
      "Current file is: 599\n",
      "Current file is: 600\n",
      "Current file is: 601\n",
      "Current file is: 602\n",
      "Current file is: 603\n",
      "Current file is: 604\n",
      "Current file is: 605\n",
      "Current file is: 606\n",
      "Current file is: 607\n",
      "Current file is: 608\n",
      "Current file is: 609\n",
      "Current file is: 610\n",
      "Current file is: 611\n",
      "Current file is: 612\n",
      "Current file is: 613\n",
      "Current file is: 614\n",
      "Current file is: 615\n",
      "Current file is: 616\n",
      "Current file is: 617\n",
      "Current file is: 618\n",
      "Current file is: 619\n",
      "Current file is: 620\n",
      "Current file is: 621\n",
      "Current file is: 622\n",
      "Current file is: 623\n",
      "Current file is: 624\n",
      "Current file is: 625\n",
      "Current file is: 626\n",
      "Current file is: 627\n",
      "Current file is: 628\n",
      "Current file is: 629\n",
      "Current file is: 630\n",
      "Current file is: 631\n",
      "Current file is: 632\n",
      "Current file is: 633\n",
      "Current file is: 634\n",
      "Current file is: 635\n",
      "Current file is: 636\n",
      "Current file is: 637\n",
      "Current file is: 638\n",
      "Current file is: 639\n",
      "Current file is: 640\n",
      "Current file is: 641\n",
      "Current file is: 642\n",
      "Current file is: 643\n",
      "Current file is: 644\n",
      "Current file is: 645\n",
      "Current file is: 646\n",
      "Current file is: 647\n",
      "Current file is: 648\n",
      "Current file is: 649\n",
      "Current file is: 650\n",
      "Current file is: 651\n",
      "Current file is: 652\n",
      "Current file is: 653\n",
      "Current file is: 654\n",
      "Current file is: 655\n",
      "Current file is: 656\n",
      "Current file is: 657\n",
      "Current file is: 658\n",
      "Current file is: 659\n",
      "Current file is: 660\n",
      "Current file is: 661\n",
      "Current file is: 662\n",
      "Current file is: 663\n",
      "Current file is: 664\n",
      "Current file is: 665\n",
      "Current file is: 666\n",
      "Current file is: 667\n",
      "Current file is: 668\n",
      "Current file is: 669\n",
      "Current file is: 670\n",
      "Current file is: 671\n",
      "Current file is: 672\n",
      "Current file is: 673\n",
      "Current file is: 674\n",
      "Current file is: 675\n",
      "Current file is: 676\n",
      "Current file is: 677\n",
      "Current file is: 678\n",
      "Current file is: 679\n",
      "Current file is: 680\n",
      "Current file is: 681\n",
      "Current file is: 682\n",
      "Current file is: 683\n",
      "Current file is: 684\n",
      "Current file is: 685\n",
      "Current file is: 686\n",
      "Current file is: 687\n",
      "Current file is: 688\n",
      "Current file is: 689\n",
      "Current file is: 690\n",
      "Current file is: 691\n",
      "Current file is: 692\n",
      "Current file is: 693\n",
      "Current file is: 694\n",
      "Current file is: 695\n",
      "Current file is: 696\n",
      "Current file is: 697\n",
      "Current file is: 698\n",
      "Current file is: 699\n",
      "Current file is: 700\n",
      "Current file is: 701\n",
      "Current file is: 702\n",
      "Current file is: 703\n",
      "Current file is: 704\n",
      "Current file is: 705\n",
      "Current file is: 706\n",
      "Current file is: 707\n",
      "Current file is: 708\n",
      "Current file is: 709\n",
      "Current file is: 710\n",
      "Current file is: 711\n",
      "Current file is: 712\n",
      "Current file is: 713\n",
      "Current file is: 714\n",
      "Current file is: 715\n",
      "Current file is: 716\n",
      "Current file is: 717\n",
      "Current file is: 718\n",
      "Current file is: 719\n",
      "Current file is: 720\n",
      "Current file is: 721\n",
      "Current file is: 722\n",
      "Current file is: 723\n",
      "Current file is: 724\n",
      "Current file is: 725\n",
      "Current file is: 726\n",
      "Current file is: 727\n",
      "Current file is: 728\n",
      "Current file is: 729\n",
      "Current file is: 730\n",
      "Current file is: 731\n",
      "Current file is: 732\n",
      "Current file is: 733\n",
      "Current file is: 734\n",
      "Current file is: 735\n",
      "Current file is: 736\n",
      "Current file is: 737\n",
      "Current file is: 738\n",
      "Current file is: 739\n",
      "Current file is: 740\n",
      "Current file is: 741\n",
      "Current file is: 742\n",
      "Current file is: 743\n",
      "Current file is: 744\n",
      "Current file is: 745\n",
      "Current file is: 746\n",
      "Current file is: 747\n",
      "Current file is: 748\n",
      "Current file is: 749\n",
      "Current file is: 750\n",
      "Current file is: 751\n",
      "Current file is: 752\n",
      "Current file is: 753\n",
      "Current file is: 754\n",
      "Current file is: 755\n",
      "Current file is: 756\n",
      "Current file is: 757\n",
      "Current file is: 758\n",
      "Current file is: 759\n",
      "Current file is: 760\n",
      "Current file is: 761\n",
      "Current file is: 762\n",
      "Current file is: 763\n",
      "Current file is: 764\n",
      "Current file is: 765\n",
      "Current file is: 766\n",
      "Current file is: 767\n",
      "Current file is: 768\n",
      "Current file is: 769\n",
      "Current file is: 770\n",
      "Current file is: 771\n",
      "Current file is: 772\n",
      "Current file is: 773\n",
      "Current file is: 774\n",
      "Current file is: 775\n",
      "Current file is: 776\n",
      "Current file is: 777\n",
      "Current file is: 778\n",
      "Current file is: 779\n",
      "Current file is: 780\n",
      "Current file is: 781\n",
      "Current file is: 782\n",
      "Current file is: 783\n",
      "Current file is: 784\n",
      "Current file is: 785\n",
      "Current file is: 786\n",
      "Current file is: 787\n",
      "Current file is: 788\n",
      "Current file is: 789\n",
      "Current file is: 790\n",
      "Current file is: 791\n",
      "Current file is: 792\n",
      "Current file is: 793\n",
      "Current file is: 794\n",
      "Current file is: 795\n",
      "Current file is: 796\n",
      "Current file is: 797\n",
      "Current file is: 798\n",
      "Current file is: 799\n",
      "Current file is: 800\n",
      "Current file is: 801\n",
      "Current file is: 802\n",
      "Current file is: 803\n",
      "Current file is: 804\n",
      "Current file is: 805\n",
      "Current file is: 806\n",
      "Current file is: 807\n",
      "Current file is: 808\n",
      "Current file is: 809\n",
      "Current file is: 810\n",
      "Current file is: 811\n",
      "Current file is: 812\n",
      "Current file is: 813\n",
      "Current file is: 814\n",
      "Current file is: 815\n",
      "Current file is: 816\n",
      "Current file is: 817\n",
      "Current file is: 818\n",
      "Current file is: 819\n",
      "Current file is: 820\n",
      "Current file is: 821\n",
      "Current file is: 822\n",
      "Current file is: 823\n",
      "Current file is: 824\n",
      "Current file is: 825\n",
      "Current file is: 826\n",
      "Current file is: 827\n",
      "Current file is: 828\n",
      "Current file is: 829\n",
      "Current file is: 830\n",
      "Current file is: 831\n",
      "Current file is: 832\n",
      "Current file is: 833\n",
      "Current file is: 834\n",
      "Current file is: 835\n",
      "Current file is: 836\n",
      "Current file is: 837\n",
      "Current file is: 838\n",
      "Current file is: 839\n",
      "Current file is: 840\n",
      "Current file is: 841\n",
      "Current file is: 842\n",
      "Current file is: 843\n",
      "Current file is: 844\n",
      "Current file is: 845\n",
      "Current file is: 846\n",
      "Current file is: 847\n",
      "Current file is: 848\n",
      "Current file is: 849\n",
      "Current file is: 850\n",
      "Current file is: 851\n",
      "Current file is: 852\n",
      "Current file is: 853\n",
      "Current file is: 854\n",
      "Current file is: 855\n",
      "Current file is: 856\n",
      "Current file is: 857\n",
      "Current file is: 858\n",
      "Current file is: 859\n",
      "Current file is: 860\n",
      "Current file is: 861\n",
      "Current file is: 862\n",
      "Current file is: 863\n",
      "Current file is: 864\n",
      "Current file is: 865\n",
      "Current file is: 866\n",
      "Current file is: 867\n",
      "Current file is: 868\n",
      "Current file is: 869\n",
      "Current file is: 870\n",
      "Current file is: 871\n",
      "Current file is: 872\n",
      "Current file is: 873\n",
      "Current file is: 874\n",
      "Current file is: 875\n",
      "Current file is: 876\n",
      "Current file is: 877\n",
      "Current file is: 878\n",
      "Current file is: 879\n",
      "Current file is: 880\n",
      "Current file is: 881\n",
      "Current file is: 882\n",
      "Current file is: 883\n",
      "Current file is: 884\n",
      "Current file is: 885\n",
      "Current file is: 886\n",
      "Current file is: 887\n",
      "Current file is: 888\n",
      "Current file is: 889\n",
      "Current file is: 890\n",
      "Current file is: 891\n",
      "Current file is: 892\n",
      "Current file is: 893\n",
      "Current file is: 894\n",
      "Current file is: 895\n",
      "Current file is: 896\n",
      "Current file is: 897\n",
      "Current file is: 898\n",
      "Current file is: 899\n",
      "Current file is: 900\n",
      "Current file is: 901\n",
      "Current file is: 902\n",
      "Current file is: 903\n",
      "Current file is: 904\n",
      "Current file is: 905\n",
      "Current file is: 906\n",
      "Current file is: 907\n",
      "Current file is: 908\n",
      "Current file is: 909\n",
      "Current file is: 910\n",
      "Current file is: 911\n",
      "Current file is: 912\n",
      "Current file is: 913\n",
      "Current file is: 914\n",
      "Current file is: 915\n",
      "Current file is: 916\n",
      "Current file is: 917\n",
      "Current file is: 918\n",
      "Current file is: 919\n",
      "Current file is: 920\n",
      "Current file is: 921\n",
      "Current file is: 922\n",
      "Current file is: 923\n",
      "Current file is: 924\n",
      "Current file is: 925\n",
      "Current file is: 926\n",
      "Current file is: 927\n",
      "Current file is: 928\n",
      "Current file is: 929\n",
      "Current file is: 930\n",
      "Current file is: 931\n",
      "Current file is: 932\n",
      "Current file is: 933\n",
      "Current file is: 934\n",
      "Current file is: 935\n",
      "Current file is: 936\n",
      "Current file is: 937\n",
      "Current file is: 938\n",
      "Current file is: 939\n",
      "Current file is: 940\n",
      "Current file is: 941\n",
      "Current file is: 942\n",
      "Current file is: 943\n",
      "Current file is: 944\n",
      "Current file is: 945\n",
      "Current file is: 946\n",
      "Current file is: 947\n",
      "Current file is: 948\n",
      "Current file is: 949\n",
      "Current file is: 950\n",
      "Current file is: 951\n",
      "Current file is: 952\n",
      "Current file is: 953\n",
      "Current file is: 954\n",
      "Current file is: 955\n",
      "Current file is: 956\n",
      "Current file is: 957\n",
      "Current file is: 958\n",
      "Current file is: 959\n",
      "Current file is: 960\n",
      "Current file is: 961\n",
      "Current file is: 962\n",
      "Current file is: 963\n",
      "Current file is: 964\n",
      "Current file is: 965\n",
      "Current file is: 966\n",
      "Current file is: 967\n",
      "Current file is: 968\n",
      "Current file is: 969\n",
      "Current file is: 970\n",
      "Current file is: 971\n",
      "Current file is: 972\n",
      "Current file is: 973\n",
      "Current file is: 974\n",
      "Current file is: 975\n",
      "Current file is: 976\n",
      "Current file is: 977\n",
      "Current file is: 978\n",
      "Current file is: 979\n",
      "Current file is: 980\n",
      "Current file is: 981\n",
      "Current file is: 982\n",
      "Current file is: 983\n",
      "Current file is: 984\n",
      "Current file is: 985\n",
      "Current file is: 986\n",
      "Current file is: 987\n",
      "Current file is: 988\n",
      "Current file is: 989\n",
      "Current file is: 990\n",
      "Current file is: 991\n",
      "Current file is: 992\n",
      "Current file is: 993\n",
      "Current file is: 994\n",
      "Current file is: 995\n",
      "Current file is: 996\n",
      "Current file is: 997\n",
      "Current file is: 998\n",
      "Current file is: 999\n",
      "Current file is: 1000\n",
      "Current file is: 1001\n",
      "Current file is: 1002\n",
      "Current file is: 1003\n",
      "Current file is: 1004\n",
      "Current file is: 1005\n",
      "Current file is: 1006\n",
      "Current file is: 1007\n",
      "Current file is: 1008\n",
      "Current file is: 1009\n",
      "Current file is: 1010\n",
      "Current file is: 1011\n",
      "Current file is: 1012\n",
      "Current file is: 1013\n",
      "Current file is: 1014\n",
      "Current file is: 1015\n",
      "Current file is: 1016\n",
      "Current file is: 1017\n",
      "Current file is: 1018\n",
      "Current file is: 1019\n",
      "Current file is: 1020\n",
      "Current file is: 1021\n",
      "Current file is: 1022\n",
      "Current file is: 1023\n",
      "Current file is: 1024\n",
      "Current file is: 1025\n",
      "Current file is: 1026\n",
      "Current file is: 1027\n",
      "Current file is: 1028\n",
      "Current file is: 1029\n",
      "Current file is: 1030\n",
      "Current file is: 1031\n",
      "Current file is: 1032\n",
      "Current file is: 1033\n",
      "Current file is: 1034\n",
      "Current file is: 1035\n",
      "Current file is: 1036\n",
      "Current file is: 1037\n",
      "Current file is: 1038\n",
      "Current file is: 1039\n",
      "Current file is: 1040\n",
      "Current file is: 1041\n",
      "Current file is: 1042\n",
      "Current file is: 1043\n",
      "Current file is: 1044\n",
      "Current file is: 1045\n",
      "Current file is: 1046\n",
      "Current file is: 1047\n",
      "Current file is: 1048\n",
      "Current file is: 1049\n",
      "Current file is: 1050\n",
      "Current file is: 1051\n",
      "Current file is: 1052\n",
      "Current file is: 1053\n",
      "Current file is: 1054\n",
      "Current file is: 1055\n",
      "Current file is: 1056\n",
      "Current file is: 1057\n",
      "Current file is: 1058\n",
      "Current file is: 1059\n",
      "Current file is: 1060\n",
      "Current file is: 1061\n",
      "Current file is: 1062\n",
      "Current file is: 1063\n",
      "Current file is: 1064\n",
      "Current file is: 1065\n",
      "Current file is: 1066\n",
      "Current file is: 1067\n",
      "Current file is: 1068\n",
      "Current file is: 1069\n",
      "Current file is: 1070\n",
      "Current file is: 1071\n",
      "Current file is: 1072\n",
      "Current file is: 1073\n",
      "Current file is: 1074\n",
      "Current file is: 1075\n",
      "Current file is: 1076\n",
      "Current file is: 1077\n",
      "Current file is: 1078\n",
      "Current file is: 1079\n",
      "Current file is: 1080\n",
      "Current file is: 1081\n",
      "Current file is: 1082\n",
      "Current file is: 1083\n",
      "Current file is: 1084\n",
      "Current file is: 1085\n",
      "Current file is: 1086\n",
      "Current file is: 1087\n",
      "Current file is: 1088\n",
      "Current file is: 1089\n",
      "Current file is: 1090\n",
      "Current file is: 1091\n",
      "Current file is: 1092\n",
      "Current file is: 1093\n",
      "Current file is: 1094\n",
      "Current file is: 1095\n",
      "Current file is: 1096\n",
      "Current file is: 1097\n",
      "Current file is: 1098\n",
      "Current file is: 1099\n",
      "Current file is: 1100\n",
      "Current file is: 1101\n",
      "Current file is: 1102\n",
      "Current file is: 1103\n",
      "Current file is: 1104\n",
      "Current file is: 1105\n",
      "Current file is: 1106\n",
      "Current file is: 1107\n",
      "Current file is: 1108\n",
      "Current file is: 1109\n",
      "Current file is: 1110\n",
      "Current file is: 1111\n",
      "Current file is: 1112\n",
      "Current file is: 1113\n",
      "Current file is: 1114\n",
      "Current file is: 1115\n",
      "Current file is: 1116\n",
      "Current file is: 1117\n",
      "Current file is: 1118\n",
      "Current file is: 1119\n"
     ]
    }
   ],
   "source": [
    "#%%capture\n",
    "psd_data, irasa_data = [], []\n",
    "\n",
    "for idx, data in enumerate(all_data):\n",
    "\n",
    "    print(f'Current file is: {idx}')\n",
    "\n",
    "    data_record = wfdb.rdsamp(join(DATA_DIR, data))\n",
    "\n",
    "    cur_data = data_record[0][:,0]\n",
    "    times = create_times(len(data_record[0])/FS, FS)\n",
    "    \n",
    "    cur_data = cur_data[times < subject_info['Length'].min()*60]\n",
    "    \n",
    "    #Compute standard hrv data\n",
    "    nperseg = FS*2\n",
    "\n",
    "    freqs, psd = compute_spectrum(cur_data, FS, method='welch', avg_type='median', nperseg=nperseg, noverlap=nperseg/2) #\n",
    "\n",
    "    line_freqs = [[48, 52], [98, 102], [148, 152], [198, 202], [248, 252], [298, 302], [348, 352],]\n",
    "\n",
    "    psd_interpol = interpolate_powerline(freqs, psd, line_freqs)\n",
    "\n",
    "    psd_data.append(psd_interpol)"
   ]
  },
  {
   "cell_type": "code",
   "execution_count": 6,
   "id": "2a6e4ddd",
   "metadata": {},
   "outputs": [],
   "source": [
    "df_psd = pd.DataFrame(np.transpose(psd_data))\n",
    "df_psd['Frequency (Hz)'] = freqs\n",
    "df_psd_tidy = df_psd.melt(id_vars='Frequency (Hz)')\n",
    "\n",
    "\n",
    "psd2fooof = np.array(psd_data)\n",
    "good_files = [~(np.isnan(file).sum() > 0) for file in psd2fooof] #only take spectra without nans\n",
    "psd2fooof = psd2fooof[good_files]\n",
    "\n",
    "#Get good idcs in subject info\n",
    "good_idcs = [int(file) for file in np.array(all_data)[good_files]]\n",
    "subject_info_clean = subject_info.loc[subject_info['ID'].isin(good_idcs)]"
   ]
  },
  {
   "cell_type": "code",
   "execution_count": 7,
   "id": "53c63fd9",
   "metadata": {},
   "outputs": [],
   "source": [
    "psd_d0 = np.array(psd_data)[good_files][subject_info_clean['Device'] == 0].mean(axis=0)\n",
    "psd_d1 = np.array(psd_data)[good_files][subject_info_clean['Device'] == 1].mean(axis=0)"
   ]
  },
  {
   "cell_type": "code",
   "execution_count": 8,
   "id": "d2ef9dd2",
   "metadata": {},
   "outputs": [
    {
     "name": "stderr",
     "output_type": "stream",
     "text": [
      "Running FOOOFGroup:  60%|██████    | 396/655 [00:08<00:06, 42.02it/s]/mnt/obob/staff/fschmidt/conda_cache/envs/ml/lib/python3.9/site-packages/fooof/core/funcs.py:67: RuntimeWarning: invalid value encountered in log10\n",
      "  ys = ys + offset - np.log10(knee + xs**exp)\n",
      "Running FOOOFGroup: 100%|██████████| 655/655 [00:14<00:00, 44.46it/s]\n",
      "Running FOOOFGroup: 100%|██████████| 655/655 [00:15<00:00, 43.17it/s]\n",
      "Running FOOOFGroup:  21%|██        | 138/655 [00:04<00:22, 23.03it/s]/mnt/obob/staff/fschmidt/conda_cache/envs/ml/lib/python3.9/site-packages/fooof/core/funcs.py:67: RuntimeWarning: invalid value encountered in log10\n",
      "  ys = ys + offset - np.log10(knee + xs**exp)\n",
      "Running FOOOFGroup: 100%|██████████| 655/655 [00:21<00:00, 31.03it/s]\n",
      "Running FOOOFGroup:  21%|██        | 137/655 [00:04<00:17, 29.03it/s]/mnt/obob/staff/fschmidt/conda_cache/envs/ml/lib/python3.9/site-packages/fooof/core/funcs.py:67: RuntimeWarning: invalid value encountered in log10\n",
      "  ys = ys + offset - np.log10(knee + xs**exp)\n",
      "Running FOOOFGroup: 100%|██████████| 655/655 [00:21<00:00, 29.78it/s]\n",
      "Running FOOOFGroup: 100%|██████████| 626/626 [00:12<00:00, 48.93it/s]\n",
      "Running FOOOFGroup: 100%|██████████| 626/626 [00:13<00:00, 44.76it/s]\n",
      "Running FOOOFGroup: 100%|██████████| 626/626 [00:19<00:00, 32.91it/s]\n",
      "Running FOOOFGroup: 100%|██████████| 626/626 [00:19<00:00, 32.30it/s]\n"
     ]
    }
   ],
   "source": [
    "def read_process_meg_ecg_psd(path, knee, exp_range=None):\n",
    "\n",
    "    df_meg_psd = pd.read_csv(path)\n",
    "    df_meg_psd_cut = df_meg_psd.query('channel == 0')\n",
    "    df_meg_psd_cut = df_meg_psd_cut[['Frequency (Hz)', 'ECG Electrode', 'age', 'subject_id']]\n",
    "    avg_psd2plot = df_meg_psd_cut.groupby('Frequency (Hz)').mean().reset_index()\n",
    "\n",
    "    wide_meg_psd = df_meg_psd_cut.pivot(values='ECG Electrode', index='subject_id', columns='Frequency (Hz)')\n",
    "\n",
    "    freqs_meg = wide_meg_psd.columns.to_numpy()\n",
    "    psd2fooof_meg = wide_meg_psd.to_numpy()\n",
    "    df_meg_age = df_meg_psd_cut.drop_duplicates(subset='subject_id')[['age', 'subject_id']].reset_index()\n",
    "\n",
    "\n",
    "    line_freqs = [[48, 52], [98, 102],]\n",
    "    psd2fooof_interpol = np.array([interpolate_powerline(freqs_meg, psd, line_freqs) for psd in psd2fooof_meg])\n",
    "\n",
    "    if exp_range == None:\n",
    "        exp_range = [45, 95, 145, 195]\n",
    "\n",
    "    corr_meg, df_all_cmb_meg = [],[]\n",
    "\n",
    "    for freq in exp_range:\n",
    "        #Pretty obvious knee in the data \n",
    "\n",
    "        if knee:\n",
    "            fg = FOOOFGroup(max_n_peaks=2, aperiodic_mode='knee', peak_width_limits=[1, 6])\n",
    "        else:\n",
    "            fg = FOOOFGroup(max_n_peaks=2, peak_width_limits=[1, 6])\n",
    "\n",
    "        fg.fit(freqs_meg, psd2fooof_interpol, freq_range=(0.1, freq), progress='tqdm')\n",
    "\n",
    "        aps = pd.DataFrame(fg.get_params('aperiodic_params'))\n",
    "\n",
    "        if knee:\n",
    "            aps.columns = ['Offset', 'Knee', 'Exponent']\n",
    "        else:\n",
    "            aps.columns = ['Offset', 'Exponent']\n",
    "\n",
    "\n",
    "        s_info_clean = df_meg_age.loc[get_good_idx(fg, thresh=2.5)].reset_index()\n",
    "        aps_clean = aps.loc[get_good_idx(fg, thresh=2.5)].reset_index()\n",
    "\n",
    "        \n",
    "        df_cmb_meg = pd.concat([aps_clean, s_info_clean], axis=1)\n",
    "        df_cmb_meg['fm_freq'] = freq\n",
    "        df_all_cmb_meg.append(df_cmb_meg)\n",
    "\n",
    "        corr_meg.append(pg.corr(df_cmb_meg['Exponent']*-1, df_cmb_meg['age'])['r'])\n",
    "\n",
    "    return corr_meg, df_all_cmb_meg, psd2fooof_meg, freqs_meg\n",
    "\n",
    "#corr_meg_sbg, df_all_cmb_meg_sbg, psd2plot_sbg, freqs_meg_sbg = read_process_meg_ecg_psd('../data/sbg_1_f_dataframe_1_145_psd.csv', knee=False)\n",
    "#corr_meg_cc, df_all_cmb_meg_cc, psd2plot_cc,  freqs_meg_cc = read_process_meg_ecg_psd('../data/cam_can_1_f_dataframe_1_145_psd.csv', knee=False)\n",
    "\n",
    "corr_meg_sbg_k, df_all_cmb_meg_sbg_k, psd2plot_sbg_k, freqs_meg_sbg = read_process_meg_ecg_psd('../data/sbg_1_f_dataframe_1_145_psd.csv', knee=True)\n",
    "corr_meg_cc_k, df_all_cmb_meg_cc_k, psd2plot_cc_k, freqs_meg_cc = read_process_meg_ecg_psd('../data/cam_can_1_f_dataframe_1_145_psd.csv', knee=True)"
   ]
  },
  {
   "cell_type": "code",
   "execution_count": 9,
   "id": "178d3c70",
   "metadata": {},
   "outputs": [],
   "source": [
    "def spectra2pandas(psd2plot, device):\n",
    "\n",
    "    data2pandas = pd.DataFrame(psd2plot.T)\n",
    "    data2pandas['Frequency (Hz)'] = freqs_meg_cc\n",
    "    tidy = data2pandas.melt(id_vars='Frequency (Hz)')\n",
    "    tidy.columns = ['Frequency (Hz)', 'subject', 'Power (V$^2$/Hz)']\n",
    "    tidy['Device'] = device\n",
    "\n",
    "    return tidy\n",
    "    \n",
    "\n",
    "d2_3plot = spectra2pandas(psd2plot_cc_k, 3)\n",
    "d2_4plot = spectra2pandas(psd2plot_sbg_k, 4)\n",
    "\n",
    "\n",
    "def physionetspectra2pandas(device):\n",
    "\n",
    "    data2pandas = pd.DataFrame(psd2fooof[subject_info_clean['Device'] == device].T)\n",
    "    data2pandas['Frequency (Hz)'] = freqs\n",
    "    tidy = data2pandas.melt(id_vars='Frequency (Hz)')\n",
    "    tidy.columns = ['Frequency (Hz)', 'subject', 'Power (V$^2$/Hz)']\n",
    "    tidy['Device'] = device\n",
    "\n",
    "    return tidy\n",
    "\n",
    "d2_1plot = physionetspectra2pandas(0)\n",
    "d2_2plot = physionetspectra2pandas(1)\n",
    "\n",
    "physio_cmb = pd.concat([d2_1plot, d2_2plot, d2_3plot, d2_4plot])"
   ]
  },
  {
   "cell_type": "code",
   "execution_count": 10,
   "id": "03b46f66",
   "metadata": {},
   "outputs": [
    {
     "data": {
      "image/png": "[encoded data removed]",
      "text/plain": [
       "<Figure size 500x500 with 1 Axes>"
      ]
     },
     "metadata": {},
     "output_type": "display_data"
    }
   ],
   "source": [
    "sns.set_style('ticks')\n",
    "sns.set_context('poster')\n",
    "\n",
    "pal = ['#D3EECD', '#98D594', '#4BB062', '#157F3B']\n",
    "\n",
    "g = sns.relplot(data=physio_cmb[physio_cmb['Frequency (Hz)'] < 200],  x='Frequency (Hz)', y='Power (V$^2$/Hz)', hue='Device', kind='line', palette=pal)\n",
    "g.axes[0,0].set_yscale('log')\n",
    "g.axes[0,0].set_xscale('log')\n",
    "\n",
    "g.figure.set_size_inches(5, 5)\n",
    "g.figure.savefig('../results/ga_ecg_psd.svg')"
   ]
  },
  {
   "cell_type": "code",
   "execution_count": 11,
   "id": "be40dd96",
   "metadata": {},
   "outputs": [],
   "source": [
    "g.figure.savefig('../results/ga_ecg_psd_10_4.svg')"
   ]
  },
  {
   "cell_type": "code",
   "execution_count": 11,
   "id": "b27eda4e",
   "metadata": {},
   "outputs": [],
   "source": [
    "#exps_cmb_150_meg_cc = pd.concat(df_all_cmb_meg_cc).query('fm_freq == 145')\n",
    "#exps_cmb_150_meg_sbg = pd.concat(df_all_cmb_meg_sbg).query('fm_freq == 145')\n",
    "\n",
    "exps_cmb_150_meg_cc_k = pd.concat(df_all_cmb_meg_cc_k).query('fm_freq == 145')\n",
    "exps_cmb_150_meg_sbg_k = pd.concat(df_all_cmb_meg_sbg_k).query('fm_freq == 145')"
   ]
  },
  {
   "cell_type": "code",
   "execution_count": 72,
   "id": "cdfa2282",
   "metadata": {},
   "outputs": [
    {
     "data": {
      "text/html": [
       "<div>\n",
       "<style scoped>\n",
       "    .dataframe tbody tr th:only-of-type {\n",
       "        vertical-align: middle;\n",
       "    }\n",
       "\n",
       "    .dataframe tbody tr th {\n",
       "        vertical-align: top;\n",
       "    }\n",
       "\n",
       "    .dataframe thead th {\n",
       "        text-align: right;\n",
       "    }\n",
       "</style>\n",
       "<table border=\"1\" class=\"dataframe\">\n",
       "  <thead>\n",
       "    <tr style=\"text-align: right;\">\n",
       "      <th></th>\n",
       "      <th>index</th>\n",
       "      <th>Offset</th>\n",
       "      <th>Knee</th>\n",
       "      <th>Exponent</th>\n",
       "      <th>level_0</th>\n",
       "      <th>index</th>\n",
       "      <th>age</th>\n",
       "      <th>subject_id</th>\n",
       "      <th>fm_freq</th>\n",
       "    </tr>\n",
       "  </thead>\n",
       "  <tbody>\n",
       "    <tr>\n",
       "      <th>0</th>\n",
       "      <td>0</td>\n",
       "      <td>3.757665</td>\n",
       "      <td>7.464077e+12</td>\n",
       "      <td>8.862271</td>\n",
       "      <td>0</td>\n",
       "      <td>0</td>\n",
       "      <td>24.17</td>\n",
       "      <td>CC110033</td>\n",
       "      <td>45</td>\n",
       "    </tr>\n",
       "    <tr>\n",
       "      <th>1</th>\n",
       "      <td>1</td>\n",
       "      <td>1.297442</td>\n",
       "      <td>7.456619e+09</td>\n",
       "      <td>7.638052</td>\n",
       "      <td>1</td>\n",
       "      <td>29580</td>\n",
       "      <td>18.75</td>\n",
       "      <td>CC110037</td>\n",
       "      <td>45</td>\n",
       "    </tr>\n",
       "    <tr>\n",
       "      <th>2</th>\n",
       "      <td>2</td>\n",
       "      <td>-7.536953</td>\n",
       "      <td>3.042442e+00</td>\n",
       "      <td>1.263016</td>\n",
       "      <td>2</td>\n",
       "      <td>59160</td>\n",
       "      <td>24.50</td>\n",
       "      <td>CC110045</td>\n",
       "      <td>45</td>\n",
       "    </tr>\n",
       "    <tr>\n",
       "      <th>3</th>\n",
       "      <td>3</td>\n",
       "      <td>-1.529155</td>\n",
       "      <td>2.795546e+07</td>\n",
       "      <td>5.646427</td>\n",
       "      <td>3</td>\n",
       "      <td>88740</td>\n",
       "      <td>22.67</td>\n",
       "      <td>CC110056</td>\n",
       "      <td>45</td>\n",
       "    </tr>\n",
       "    <tr>\n",
       "      <th>4</th>\n",
       "      <td>4</td>\n",
       "      <td>2.067506</td>\n",
       "      <td>1.368811e+11</td>\n",
       "      <td>8.126251</td>\n",
       "      <td>4</td>\n",
       "      <td>118320</td>\n",
       "      <td>28.67</td>\n",
       "      <td>CC110069</td>\n",
       "      <td>45</td>\n",
       "    </tr>\n",
       "    <tr>\n",
       "      <th>...</th>\n",
       "      <td>...</td>\n",
       "      <td>...</td>\n",
       "      <td>...</td>\n",
       "      <td>...</td>\n",
       "      <td>...</td>\n",
       "      <td>...</td>\n",
       "      <td>...</td>\n",
       "      <td>...</td>\n",
       "      <td>...</td>\n",
       "    </tr>\n",
       "    <tr>\n",
       "      <th>601</th>\n",
       "      <td>621</td>\n",
       "      <td>-6.376298</td>\n",
       "      <td>7.593051e+02</td>\n",
       "      <td>3.112072</td>\n",
       "      <td>621</td>\n",
       "      <td>18369180</td>\n",
       "      <td>79.33</td>\n",
       "      <td>CC722542</td>\n",
       "      <td>195</td>\n",
       "    </tr>\n",
       "    <tr>\n",
       "      <th>602</th>\n",
       "      <td>622</td>\n",
       "      <td>-2.085488</td>\n",
       "      <td>5.793131e+06</td>\n",
       "      <td>5.064134</td>\n",
       "      <td>622</td>\n",
       "      <td>18398760</td>\n",
       "      <td>79.83</td>\n",
       "      <td>CC722651</td>\n",
       "      <td>195</td>\n",
       "    </tr>\n",
       "    <tr>\n",
       "      <th>603</th>\n",
       "      <td>623</td>\n",
       "      <td>-3.540123</td>\n",
       "      <td>4.457487e+05</td>\n",
       "      <td>4.285845</td>\n",
       "      <td>623</td>\n",
       "      <td>18428340</td>\n",
       "      <td>84.42</td>\n",
       "      <td>CC722891</td>\n",
       "      <td>195</td>\n",
       "    </tr>\n",
       "    <tr>\n",
       "      <th>604</th>\n",
       "      <td>624</td>\n",
       "      <td>-2.336076</td>\n",
       "      <td>2.057529e+06</td>\n",
       "      <td>5.084308</td>\n",
       "      <td>624</td>\n",
       "      <td>18457920</td>\n",
       "      <td>80.08</td>\n",
       "      <td>CC723197</td>\n",
       "      <td>195</td>\n",
       "    </tr>\n",
       "    <tr>\n",
       "      <th>605</th>\n",
       "      <td>625</td>\n",
       "      <td>-3.801304</td>\n",
       "      <td>9.979687e+04</td>\n",
       "      <td>4.239609</td>\n",
       "      <td>625</td>\n",
       "      <td>18487500</td>\n",
       "      <td>86.08</td>\n",
       "      <td>CC723395</td>\n",
       "      <td>195</td>\n",
       "    </tr>\n",
       "  </tbody>\n",
       "</table>\n",
       "<p>2408 rows × 9 columns</p>\n",
       "</div>"
      ],
      "text/plain": [
       "     index    Offset          Knee  Exponent  level_0     index    age  \\\n",
       "0        0  3.757665  7.464077e+12  8.862271        0         0  24.17   \n",
       "1        1  1.297442  7.456619e+09  7.638052        1     29580  18.75   \n",
       "2        2 -7.536953  3.042442e+00  1.263016        2     59160  24.50   \n",
       "3        3 -1.529155  2.795546e+07  5.646427        3     88740  22.67   \n",
       "4        4  2.067506  1.368811e+11  8.126251        4    118320  28.67   \n",
       "..     ...       ...           ...       ...      ...       ...    ...   \n",
       "601    621 -6.376298  7.593051e+02  3.112072      621  18369180  79.33   \n",
       "602    622 -2.085488  5.793131e+06  5.064134      622  18398760  79.83   \n",
       "603    623 -3.540123  4.457487e+05  4.285845      623  18428340  84.42   \n",
       "604    624 -2.336076  2.057529e+06  5.084308      624  18457920  80.08   \n",
       "605    625 -3.801304  9.979687e+04  4.239609      625  18487500  86.08   \n",
       "\n",
       "    subject_id  fm_freq  \n",
       "0     CC110033       45  \n",
       "1     CC110037       45  \n",
       "2     CC110045       45  \n",
       "3     CC110056       45  \n",
       "4     CC110069       45  \n",
       "..         ...      ...  \n",
       "601   CC722542      195  \n",
       "602   CC722651      195  \n",
       "603   CC722891      195  \n",
       "604   CC723197      195  \n",
       "605   CC723395      195  \n",
       "\n",
       "[2408 rows x 9 columns]"
      ]
     },
     "execution_count": 72,
     "metadata": {},
     "output_type": "execute_result"
    }
   ],
   "source": [
    "pd.concat(df_all_cmb_meg_cc_k)"
   ]
  },
  {
   "cell_type": "code",
   "execution_count": 71,
   "id": "60a775f7",
   "metadata": {},
   "outputs": [
    {
     "data": {
      "text/html": [
       "<div>\n",
       "<style scoped>\n",
       "    .dataframe tbody tr th:only-of-type {\n",
       "        vertical-align: middle;\n",
       "    }\n",
       "\n",
       "    .dataframe tbody tr th {\n",
       "        vertical-align: top;\n",
       "    }\n",
       "\n",
       "    .dataframe thead th {\n",
       "        text-align: right;\n",
       "    }\n",
       "</style>\n",
       "<table border=\"1\" class=\"dataframe\">\n",
       "  <thead>\n",
       "    <tr style=\"text-align: right;\">\n",
       "      <th></th>\n",
       "      <th>index</th>\n",
       "      <th>Offset</th>\n",
       "      <th>Knee</th>\n",
       "      <th>Exponent</th>\n",
       "      <th>level_0</th>\n",
       "      <th>index</th>\n",
       "      <th>age</th>\n",
       "      <th>subject_id</th>\n",
       "      <th>fm_freq</th>\n",
       "      <th>Device</th>\n",
       "      <th>Age_group</th>\n",
       "    </tr>\n",
       "  </thead>\n",
       "  <tbody>\n",
       "    <tr>\n",
       "      <th>0</th>\n",
       "      <td>0</td>\n",
       "      <td>-3.247607</td>\n",
       "      <td>True</td>\n",
       "      <td>4.526338</td>\n",
       "      <td>0</td>\n",
       "      <td>0</td>\n",
       "      <td>24.17</td>\n",
       "      <td>CC110033</td>\n",
       "      <td>145</td>\n",
       "      <td>2</td>\n",
       "      <td>3</td>\n",
       "    </tr>\n",
       "    <tr>\n",
       "      <th>1</th>\n",
       "      <td>1</td>\n",
       "      <td>-4.528385</td>\n",
       "      <td>True</td>\n",
       "      <td>3.904951</td>\n",
       "      <td>1</td>\n",
       "      <td>29580</td>\n",
       "      <td>18.75</td>\n",
       "      <td>CC110037</td>\n",
       "      <td>145</td>\n",
       "      <td>2</td>\n",
       "      <td>1</td>\n",
       "    </tr>\n",
       "    <tr>\n",
       "      <th>2</th>\n",
       "      <td>2</td>\n",
       "      <td>-6.520816</td>\n",
       "      <td>True</td>\n",
       "      <td>1.907441</td>\n",
       "      <td>2</td>\n",
       "      <td>59160</td>\n",
       "      <td>24.50</td>\n",
       "      <td>CC110045</td>\n",
       "      <td>145</td>\n",
       "      <td>2</td>\n",
       "      <td>3</td>\n",
       "    </tr>\n",
       "    <tr>\n",
       "      <th>3</th>\n",
       "      <td>3</td>\n",
       "      <td>-2.742845</td>\n",
       "      <td>True</td>\n",
       "      <td>4.933702</td>\n",
       "      <td>3</td>\n",
       "      <td>88740</td>\n",
       "      <td>22.67</td>\n",
       "      <td>CC110056</td>\n",
       "      <td>145</td>\n",
       "      <td>2</td>\n",
       "      <td>2</td>\n",
       "    </tr>\n",
       "    <tr>\n",
       "      <th>4</th>\n",
       "      <td>4</td>\n",
       "      <td>-1.350245</td>\n",
       "      <td>True</td>\n",
       "      <td>5.857041</td>\n",
       "      <td>4</td>\n",
       "      <td>118320</td>\n",
       "      <td>28.67</td>\n",
       "      <td>CC110069</td>\n",
       "      <td>145</td>\n",
       "      <td>2</td>\n",
       "      <td>3</td>\n",
       "    </tr>\n",
       "    <tr>\n",
       "      <th>...</th>\n",
       "      <td>...</td>\n",
       "      <td>...</td>\n",
       "      <td>...</td>\n",
       "      <td>...</td>\n",
       "      <td>...</td>\n",
       "      <td>...</td>\n",
       "      <td>...</td>\n",
       "      <td>...</td>\n",
       "      <td>...</td>\n",
       "      <td>...</td>\n",
       "      <td>...</td>\n",
       "    </tr>\n",
       "    <tr>\n",
       "      <th>601</th>\n",
       "      <td>621</td>\n",
       "      <td>-6.376298</td>\n",
       "      <td>True</td>\n",
       "      <td>3.112072</td>\n",
       "      <td>621</td>\n",
       "      <td>18369180</td>\n",
       "      <td>79.33</td>\n",
       "      <td>CC722542</td>\n",
       "      <td>145</td>\n",
       "      <td>2</td>\n",
       "      <td>14</td>\n",
       "    </tr>\n",
       "    <tr>\n",
       "      <th>602</th>\n",
       "      <td>622</td>\n",
       "      <td>-2.085488</td>\n",
       "      <td>True</td>\n",
       "      <td>5.064134</td>\n",
       "      <td>622</td>\n",
       "      <td>18398760</td>\n",
       "      <td>79.83</td>\n",
       "      <td>CC722651</td>\n",
       "      <td>145</td>\n",
       "      <td>2</td>\n",
       "      <td>14</td>\n",
       "    </tr>\n",
       "    <tr>\n",
       "      <th>603</th>\n",
       "      <td>623</td>\n",
       "      <td>-3.540123</td>\n",
       "      <td>True</td>\n",
       "      <td>4.285845</td>\n",
       "      <td>623</td>\n",
       "      <td>18428340</td>\n",
       "      <td>84.42</td>\n",
       "      <td>CC722891</td>\n",
       "      <td>145</td>\n",
       "      <td>2</td>\n",
       "      <td>15</td>\n",
       "    </tr>\n",
       "    <tr>\n",
       "      <th>604</th>\n",
       "      <td>624</td>\n",
       "      <td>-2.336076</td>\n",
       "      <td>True</td>\n",
       "      <td>5.084308</td>\n",
       "      <td>624</td>\n",
       "      <td>18457920</td>\n",
       "      <td>80.08</td>\n",
       "      <td>CC723197</td>\n",
       "      <td>145</td>\n",
       "      <td>2</td>\n",
       "      <td>14</td>\n",
       "    </tr>\n",
       "    <tr>\n",
       "      <th>605</th>\n",
       "      <td>625</td>\n",
       "      <td>-3.801304</td>\n",
       "      <td>True</td>\n",
       "      <td>4.239609</td>\n",
       "      <td>625</td>\n",
       "      <td>18487500</td>\n",
       "      <td>86.08</td>\n",
       "      <td>CC723395</td>\n",
       "      <td>145</td>\n",
       "      <td>2</td>\n",
       "      <td>15</td>\n",
       "    </tr>\n",
       "  </tbody>\n",
       "</table>\n",
       "<p>606 rows × 11 columns</p>\n",
       "</div>"
      ],
      "text/plain": [
       "     index    Offset  Knee  Exponent  level_0     index    age subject_id  \\\n",
       "0        0 -3.247607  True  4.526338        0         0  24.17   CC110033   \n",
       "1        1 -4.528385  True  3.904951        1     29580  18.75   CC110037   \n",
       "2        2 -6.520816  True  1.907441        2     59160  24.50   CC110045   \n",
       "3        3 -2.742845  True  4.933702        3     88740  22.67   CC110056   \n",
       "4        4 -1.350245  True  5.857041        4    118320  28.67   CC110069   \n",
       "..     ...       ...   ...       ...      ...       ...    ...        ...   \n",
       "601    621 -6.376298  True  3.112072      621  18369180  79.33   CC722542   \n",
       "602    622 -2.085488  True  5.064134      622  18398760  79.83   CC722651   \n",
       "603    623 -3.540123  True  4.285845      623  18428340  84.42   CC722891   \n",
       "604    624 -2.336076  True  5.084308      624  18457920  80.08   CC723197   \n",
       "605    625 -3.801304  True  4.239609      625  18487500  86.08   CC723395   \n",
       "\n",
       "     fm_freq  Device Age_group  \n",
       "0        145       2         3  \n",
       "1        145       2         1  \n",
       "2        145       2         3  \n",
       "3        145       2         2  \n",
       "4        145       2         3  \n",
       "..       ...     ...       ...  \n",
       "601      145       2        14  \n",
       "602      145       2        14  \n",
       "603      145       2        15  \n",
       "604      145       2        14  \n",
       "605      145       2        15  \n",
       "\n",
       "[606 rows x 11 columns]"
      ]
     },
     "execution_count": 71,
     "metadata": {},
     "output_type": "execute_result"
    }
   ],
   "source": [
    "exps_cmb_150_meg_cc_k"
   ]
  },
  {
   "cell_type": "code",
   "execution_count": 12,
   "id": "628e641d",
   "metadata": {},
   "outputs": [],
   "source": [
    "def fit_fooof_range(knee):\n",
    "\n",
    "    d_0_corr, d_1_corr, exps_list, df_all_cmb = [],[],[],[]\n",
    "\n",
    "    exp_range = [2, 45, 95, 145, 195, 245, 295, 345, 395]\n",
    "\n",
    "    #if knee:\n",
    "    exp_range = exp_range[1:]\n",
    "\n",
    "    for freq in exp_range:\n",
    "        #Pretty obvious knee in the data\n",
    "        #Yet fitting with a knee doesnt seem to change the age correlation -> rather improves it\n",
    "        #fitting without a knee for now for comparability with the results from meg\n",
    "        if knee:\n",
    "            fg = FOOOFGroup(max_n_peaks=2, aperiodic_mode='knee', peak_width_limits=[1, 6])\n",
    "        else:\n",
    "            fg = FOOOFGroup(max_n_peaks=2, peak_width_limits=[1, 6])\n",
    "\n",
    "        fg.fit(freqs, psd2fooof, freq_range=(0.1, freq), progress='tqdm')\n",
    "\n",
    "        aps = pd.DataFrame(fg.get_params('aperiodic_params'))\n",
    "\n",
    "        if knee:\n",
    "            aps.columns = ['Offset', 'Knee', 'Exponent'] #\n",
    "        else:\n",
    "            aps.columns = ['Offset', 'Exponent']\n",
    "        exps_list.append(aps['Exponent'])\n",
    "\n",
    "        s_info_clean = subject_info_clean.loc[get_good_idx(fg, thresh=2.5)].reset_index()\n",
    "        aps_clean = aps.loc[get_good_idx(fg, thresh=2.5)].reset_index()\n",
    "\n",
    "        df_cmb = pd.concat([aps_clean, s_info_clean], axis=1)\n",
    "        df_cmb['fm_freq'] = freq\n",
    "        df_all_cmb.append(df_cmb)\n",
    "\n",
    "        d_0 = df_cmb.query('Device == 0')\n",
    "        d_1 = df_cmb.query('Device == 1')\n",
    "        \n",
    "        d_0_corr.append(pg.corr(d_0['Exponent']*-1, d_0['Age_group'])['r'])\n",
    "        d_1_corr.append(pg.corr(d_1['Exponent']*-1, d_1['Age_group'])['r'])\n",
    "\n",
    "    return  d_0_corr, d_1_corr, exps_list, df_all_cmb\n",
    "\n"
   ]
  },
  {
   "cell_type": "code",
   "execution_count": 13,
   "id": "ae4eaff8",
   "metadata": {},
   "outputs": [
    {
     "name": "stderr",
     "output_type": "stream",
     "text": [
      "Running FOOOFGroup: 100%|██████████| 1105/1105 [00:28<00:00, 39.11it/s]\n",
      "Running FOOOFGroup: 100%|██████████| 1105/1105 [00:33<00:00, 32.95it/s]\n",
      "Running FOOOFGroup: 100%|██████████| 1105/1105 [00:38<00:00, 28.34it/s]\n",
      "Running FOOOFGroup: 100%|██████████| 1105/1105 [00:48<00:00, 22.75it/s]\n",
      "Running FOOOFGroup:   4%|▍         | 42/1105 [00:02<00:54, 19.64it/s]/mnt/obob/staff/fschmidt/conda_cache/envs/ml/lib/python3.9/site-packages/fooof/core/funcs.py:67: RuntimeWarning: invalid value encountered in log10\n",
      "  ys = ys + offset - np.log10(knee + xs**exp)\n",
      "Running FOOOFGroup:  18%|█▊        | 201/1105 [00:09<00:39, 22.64it/s]/mnt/obob/staff/fschmidt/conda_cache/envs/ml/lib/python3.9/site-packages/fooof/core/funcs.py:67: RuntimeWarning: invalid value encountered in log10\n",
      "  ys = ys + offset - np.log10(knee + xs**exp)\n",
      "Running FOOOFGroup:  48%|████▊     | 530/1105 [00:25<00:27, 20.68it/s]/mnt/obob/staff/fschmidt/conda_cache/envs/ml/lib/python3.9/site-packages/fooof/core/funcs.py:67: RuntimeWarning: invalid value encountered in log10\n",
      "  ys = ys + offset - np.log10(knee + xs**exp)\n",
      "Running FOOOFGroup: 100%|██████████| 1105/1105 [00:53<00:00, 20.64it/s]\n",
      "Running FOOOFGroup:   4%|▍         | 42/1105 [00:02<00:56, 18.91it/s]/mnt/obob/staff/fschmidt/conda_cache/envs/ml/lib/python3.9/site-packages/fooof/core/funcs.py:67: RuntimeWarning: invalid value encountered in log10\n",
      "  ys = ys + offset - np.log10(knee + xs**exp)\n",
      "Running FOOOFGroup:   6%|▌         | 61/1105 [00:03<00:47, 21.80it/s]/mnt/obob/staff/fschmidt/conda_cache/envs/ml/lib/python3.9/site-packages/fooof/core/funcs.py:67: RuntimeWarning: invalid value encountered in log10\n",
      "  ys = ys + offset - np.log10(knee + xs**exp)\n",
      "Running FOOOFGroup:   7%|▋         | 82/1105 [00:04<01:23, 12.32it/s]/mnt/obob/staff/fschmidt/conda_cache/envs/ml/lib/python3.9/site-packages/fooof/core/funcs.py:67: RuntimeWarning: invalid value encountered in log10\n",
      "  ys = ys + offset - np.log10(knee + xs**exp)\n",
      "Running FOOOFGroup:  18%|█▊        | 201/1105 [00:11<00:43, 20.94it/s]/mnt/obob/staff/fschmidt/conda_cache/envs/ml/lib/python3.9/site-packages/fooof/core/funcs.py:67: RuntimeWarning: invalid value encountered in log10\n",
      "  ys = ys + offset - np.log10(knee + xs**exp)\n",
      "Running FOOOFGroup:  36%|███▋      | 403/1105 [00:22<00:41, 16.93it/s]/mnt/obob/staff/fschmidt/conda_cache/envs/ml/lib/python3.9/site-packages/fooof/core/funcs.py:67: RuntimeWarning: invalid value encountered in log10\n",
      "  ys = ys + offset - np.log10(knee + xs**exp)\n",
      "Running FOOOFGroup:  38%|███▊      | 418/1105 [00:22<00:33, 20.40it/s]/mnt/obob/staff/fschmidt/conda_cache/envs/ml/lib/python3.9/site-packages/fooof/core/funcs.py:67: RuntimeWarning: invalid value encountered in log10\n",
      "  ys = ys + offset - np.log10(knee + xs**exp)\n",
      "Running FOOOFGroup:  48%|████▊     | 529/1105 [00:28<00:33, 16.98it/s]/mnt/obob/staff/fschmidt/conda_cache/envs/ml/lib/python3.9/site-packages/fooof/core/funcs.py:67: RuntimeWarning: invalid value encountered in log10\n",
      "  ys = ys + offset - np.log10(knee + xs**exp)\n",
      "Running FOOOFGroup:  97%|█████████▋| 1068/1105 [00:58<00:02, 18.47it/s]/mnt/obob/staff/fschmidt/conda_cache/envs/ml/lib/python3.9/site-packages/fooof/core/funcs.py:67: RuntimeWarning: invalid value encountered in log10\n",
      "  ys = ys + offset - np.log10(knee + xs**exp)\n",
      "Running FOOOFGroup: 100%|██████████| 1105/1105 [01:00<00:00, 18.35it/s]\n",
      "Running FOOOFGroup:   6%|▋         | 71/1105 [00:04<00:56, 18.32it/s]/mnt/obob/staff/fschmidt/conda_cache/envs/ml/lib/python3.9/site-packages/fooof/core/funcs.py:67: RuntimeWarning: invalid value encountered in log10\n",
      "  ys = ys + offset - np.log10(knee + xs**exp)\n",
      "Running FOOOFGroup:   7%|▋         | 81/1105 [00:05<02:13,  7.66it/s]/mnt/obob/staff/fschmidt/conda_cache/envs/ml/lib/python3.9/site-packages/fooof/core/funcs.py:67: RuntimeWarning: invalid value encountered in log10\n",
      "  ys = ys + offset - np.log10(knee + xs**exp)\n",
      "Running FOOOFGroup:  24%|██▍       | 263/1105 [00:16<01:08, 12.37it/s]/mnt/obob/staff/fschmidt/conda_cache/envs/ml/lib/python3.9/site-packages/fooof/core/funcs.py:67: RuntimeWarning: invalid value encountered in log10\n",
      "  ys = ys + offset - np.log10(knee + xs**exp)\n",
      "Running FOOOFGroup:  26%|██▋       | 292/1105 [00:18<00:56, 14.31it/s]/mnt/obob/staff/fschmidt/conda_cache/envs/ml/lib/python3.9/site-packages/fooof/core/funcs.py:67: RuntimeWarning: invalid value encountered in log10\n",
      "  ys = ys + offset - np.log10(knee + xs**exp)\n",
      "Running FOOOFGroup:  37%|███▋      | 404/1105 [00:24<00:43, 16.08it/s]/mnt/obob/staff/fschmidt/conda_cache/envs/ml/lib/python3.9/site-packages/fooof/core/funcs.py:67: RuntimeWarning: invalid value encountered in log10\n",
      "  ys = ys + offset - np.log10(knee + xs**exp)\n",
      "Running FOOOFGroup:  55%|█████▌    | 611/1105 [00:38<00:29, 16.48it/s]/mnt/obob/staff/fschmidt/conda_cache/envs/ml/lib/python3.9/site-packages/fooof/core/funcs.py:67: RuntimeWarning: invalid value encountered in log10\n",
      "  ys = ys + offset - np.log10(knee + xs**exp)\n",
      "Running FOOOFGroup:  61%|██████▏   | 677/1105 [00:42<00:20, 20.43it/s]/mnt/obob/staff/fschmidt/conda_cache/envs/ml/lib/python3.9/site-packages/fooof/core/funcs.py:67: RuntimeWarning: invalid value encountered in log10\n",
      "  ys = ys + offset - np.log10(knee + xs**exp)\n",
      "Running FOOOFGroup:  65%|██████▌   | 719/1105 [00:45<00:20, 18.97it/s]/mnt/obob/staff/fschmidt/conda_cache/envs/ml/lib/python3.9/site-packages/fooof/core/funcs.py:67: RuntimeWarning: invalid value encountered in log10\n",
      "  ys = ys + offset - np.log10(knee + xs**exp)\n",
      "Running FOOOFGroup:  97%|█████████▋| 1069/1105 [01:06<00:02, 16.87it/s]/mnt/obob/staff/fschmidt/conda_cache/envs/ml/lib/python3.9/site-packages/fooof/core/funcs.py:67: RuntimeWarning: invalid value encountered in log10\n",
      "  ys = ys + offset - np.log10(knee + xs**exp)\n",
      "Running FOOOFGroup: 100%|██████████| 1105/1105 [01:08<00:00, 16.11it/s]\n",
      "Running FOOOFGroup:   6%|▋         | 71/1105 [00:04<01:04, 16.10it/s]/mnt/obob/staff/fschmidt/conda_cache/envs/ml/lib/python3.9/site-packages/fooof/core/funcs.py:67: RuntimeWarning: invalid value encountered in log10\n",
      "  ys = ys + offset - np.log10(knee + xs**exp)\n",
      "Running FOOOFGroup:   7%|▋         | 81/1105 [00:05<01:38, 10.38it/s]/mnt/obob/staff/fschmidt/conda_cache/envs/ml/lib/python3.9/site-packages/fooof/core/funcs.py:67: RuntimeWarning: invalid value encountered in log10\n",
      "  ys = ys + offset - np.log10(knee + xs**exp)\n",
      "Running FOOOFGroup:  17%|█▋        | 191/1105 [00:12<00:44, 20.38it/s]/mnt/obob/staff/fschmidt/conda_cache/envs/ml/lib/python3.9/site-packages/fooof/core/funcs.py:67: RuntimeWarning: invalid value encountered in log10\n",
      "  ys = ys + offset - np.log10(knee + xs**exp)\n",
      "Running FOOOFGroup:  18%|█▊        | 204/1105 [00:13<00:51, 17.37it/s]/mnt/obob/staff/fschmidt/conda_cache/envs/ml/lib/python3.9/site-packages/fooof/core/funcs.py:67: RuntimeWarning: invalid value encountered in log10\n",
      "  ys = ys + offset - np.log10(knee + xs**exp)\n",
      "Running FOOOFGroup:  24%|██▍       | 263/1105 [00:16<00:58, 14.37it/s]/mnt/obob/staff/fschmidt/conda_cache/envs/ml/lib/python3.9/site-packages/fooof/core/funcs.py:67: RuntimeWarning: invalid value encountered in log10\n",
      "  ys = ys + offset - np.log10(knee + xs**exp)\n",
      "Running FOOOFGroup:  29%|██▉       | 321/1105 [00:20<00:50, 15.67it/s]/mnt/obob/staff/fschmidt/conda_cache/envs/ml/lib/python3.9/site-packages/fooof/core/funcs.py:67: RuntimeWarning: invalid value encountered in log10\n",
      "  ys = ys + offset - np.log10(knee + xs**exp)\n",
      "Running FOOOFGroup:  37%|███▋      | 405/1105 [00:25<00:41, 16.86it/s]/mnt/obob/staff/fschmidt/conda_cache/envs/ml/lib/python3.9/site-packages/fooof/core/funcs.py:67: RuntimeWarning: invalid value encountered in log10\n",
      "  ys = ys + offset - np.log10(knee + xs**exp)\n",
      "Running FOOOFGroup:  44%|████▍     | 487/1105 [00:31<00:38, 16.25it/s]/mnt/obob/staff/fschmidt/conda_cache/envs/ml/lib/python3.9/site-packages/fooof/core/funcs.py:67: RuntimeWarning: invalid value encountered in log10\n",
      "  ys = ys + offset - np.log10(knee + xs**exp)\n",
      "Running FOOOFGroup:  50%|█████     | 555/1105 [00:35<00:28, 19.20it/s]/mnt/obob/staff/fschmidt/conda_cache/envs/ml/lib/python3.9/site-packages/fooof/core/funcs.py:67: RuntimeWarning: invalid value encountered in log10\n",
      "  ys = ys + offset - np.log10(knee + xs**exp)\n",
      "Running FOOOFGroup:  55%|█████▌    | 611/1105 [00:39<00:36, 13.70it/s]/mnt/obob/staff/fschmidt/conda_cache/envs/ml/lib/python3.9/site-packages/fooof/core/funcs.py:67: RuntimeWarning: invalid value encountered in log10\n",
      "  ys = ys + offset - np.log10(knee + xs**exp)\n",
      "Running FOOOFGroup:  61%|██████▏   | 677/1105 [00:43<00:23, 18.60it/s]/mnt/obob/staff/fschmidt/conda_cache/envs/ml/lib/python3.9/site-packages/fooof/core/funcs.py:67: RuntimeWarning: invalid value encountered in log10\n",
      "  ys = ys + offset - np.log10(knee + xs**exp)\n",
      "/mnt/obob/staff/fschmidt/conda_cache/envs/ml/lib/python3.9/site-packages/fooof/core/funcs.py:67: RuntimeWarning: invalid value encountered in log10\n",
      "  ys = ys + offset - np.log10(knee + xs**exp)\n",
      "Running FOOOFGroup:  65%|██████▌   | 719/1105 [00:46<00:23, 16.68it/s]/mnt/obob/staff/fschmidt/conda_cache/envs/ml/lib/python3.9/site-packages/fooof/core/funcs.py:67: RuntimeWarning: invalid value encountered in log10\n",
      "  ys = ys + offset - np.log10(knee + xs**exp)\n",
      "Running FOOOFGroup:  67%|██████▋   | 738/1105 [00:47<00:26, 13.98it/s]/mnt/obob/staff/fschmidt/conda_cache/envs/ml/lib/python3.9/site-packages/fooof/core/funcs.py:67: RuntimeWarning: invalid value encountered in log10\n",
      "  ys = ys + offset - np.log10(knee + xs**exp)\n",
      "Running FOOOFGroup:  70%|███████   | 777/1105 [00:50<00:22, 14.46it/s]/mnt/obob/staff/fschmidt/conda_cache/envs/ml/lib/python3.9/site-packages/fooof/core/funcs.py:67: RuntimeWarning: invalid value encountered in log10\n",
      "  ys = ys + offset - np.log10(knee + xs**exp)\n",
      "Running FOOOFGroup:  91%|█████████▏| 1009/1105 [01:05<00:05, 16.48it/s]/mnt/obob/staff/fschmidt/conda_cache/envs/ml/lib/python3.9/site-packages/fooof/core/funcs.py:67: RuntimeWarning: invalid value encountered in log10\n",
      "  ys = ys + offset - np.log10(knee + xs**exp)\n",
      "Running FOOOFGroup:  97%|█████████▋| 1069/1105 [01:09<00:02, 17.55it/s]/mnt/obob/staff/fschmidt/conda_cache/envs/ml/lib/python3.9/site-packages/fooof/core/funcs.py:67: RuntimeWarning: invalid value encountered in log10\n",
      "  ys = ys + offset - np.log10(knee + xs**exp)\n",
      "Running FOOOFGroup: 100%|██████████| 1105/1105 [01:11<00:00, 15.51it/s]\n"
     ]
    }
   ],
   "source": [
    "#d_0_corr, d_1_corr, exps_list, df_all_cmb = fit_fooof_range(knee=False)\n",
    "d_0_corr_k, d_1_corr_k, exps_list_k, df_all_cmb_k = fit_fooof_range(knee=True)"
   ]
  },
  {
   "cell_type": "code",
   "execution_count": 14,
   "id": "9c3e4d0a",
   "metadata": {},
   "outputs": [],
   "source": [
    "from fooof.utils.params import compute_knee_frequency\n",
    "\n",
    "df_cmb_pn = pd.concat(df_all_cmb_k).query('fm_freq == 145')\n",
    "d0 = df_cmb_pn.query('Device == 0')\n",
    "d1 = df_cmb_pn.query('Device == 1')\n",
    "\n",
    "knee_d0 = compute_knee_frequency(d0['Knee'], d0['Exponent'])\n",
    "knee_d1 = compute_knee_frequency(d1['Knee'], d1['Exponent'])\n",
    "knee_d2 = compute_knee_frequency(exps_cmb_150_meg_cc_k['Knee'], exps_cmb_150_meg_cc_k['Exponent'])\n",
    "knee_d3 = compute_knee_frequency(exps_cmb_150_meg_sbg_k['Knee'], exps_cmb_150_meg_sbg_k['Exponent'])"
   ]
  },
  {
   "cell_type": "code",
   "execution_count": 15,
   "id": "c56160e1",
   "metadata": {},
   "outputs": [
    {
     "name": "stdout",
     "output_type": "stream",
     "text": [
      "15.66822066796557 5.698142725685038\n",
      "10.297694342352793 2.782133161045741\n",
      "14.102456539015758 6.456212754085843\n",
      "16.043731384595233 6.438109288339425\n"
     ]
    }
   ],
   "source": [
    "print(knee_d0.mean(), knee_d0.std())\n",
    "print(knee_d1.mean(), knee_d1.std())\n",
    "print(knee_d2.mean(), knee_d2.std())\n",
    "print(knee_d3.mean(), knee_d3.std())"
   ]
  },
  {
   "cell_type": "code",
   "execution_count": 16,
   "id": "253f9346",
   "metadata": {},
   "outputs": [
    {
     "name": "stdout",
     "output_type": "stream",
     "text": [
      "14.226551360898972 6.0642395386023145\n"
     ]
    }
   ],
   "source": [
    "knee_list = [knee_d0, knee_d1, knee_d2, knee_d3]\n",
    "\n",
    "print(np.nanmean(np.concatenate(knee_list)), np.nanstd(np.concatenate(knee_list)))"
   ]
  },
  {
   "cell_type": "code",
   "execution_count": 17,
   "id": "97aadb60",
   "metadata": {},
   "outputs": [
    {
     "data": {
      "image/png": "[encoded data removed]",
      "text/plain": [
       "<Figure size 400x600 with 4 Axes>"
      ]
     },
     "metadata": {},
     "output_type": "display_data"
    }
   ],
   "source": [
    "\n",
    "fig, axes = plt.subplots(2,2)\n",
    "axes = axes.reshape(-1)\n",
    "colors = ['#D3EECD', '#98D594', '#4BB062', '#157F3B']\n",
    "\n",
    "for ax, cur_knee, color in zip(axes, knee_list, colors):\n",
    "    sns.histplot(cur_knee, ax=ax, color=color)\n",
    "    ax.set_xlim(1, 30)\n",
    "    ax.set_xlabel('Frequency (Hz)')\n",
    "\n",
    "fig.tight_layout()\n",
    "fig.set_size_inches(4,6)\n",
    "sns.despine()\n",
    "fig.savefig('../results/knee_freq_hist.svg')"
   ]
  },
  {
   "cell_type": "code",
   "execution_count": 20,
   "id": "99446ba6",
   "metadata": {},
   "outputs": [
    {
     "ename": "NameError",
     "evalue": "name 'exps_no_knee' is not defined",
     "output_type": "error",
     "traceback": [
      "\u001b[0;31m---------------------------------------------------------------------------\u001b[0m",
      "\u001b[0;31mNameError\u001b[0m                                 Traceback (most recent call last)",
      "\u001b[1;32m/mnt/obob/staff/fschmidt/cardiac_1_f/notebooks/c_1_f_ecg_only.ipynb Cell 18\u001b[0m in \u001b[0;36m<cell line: 3>\u001b[0;34m()\u001b[0m\n\u001b[1;32m      <a href='vscode-notebook-cell://ssh-remote%2Bobob-bomber-fschmidt.hpc.sbg.ac.at/mnt/obob/staff/fschmidt/cardiac_1_f/notebooks/c_1_f_ecg_only.ipynb#X23sdnNjb2RlLXJlbW90ZQ%3D%3D?line=0'>1</a>\u001b[0m exps_knee \u001b[39m=\u001b[39m pd\u001b[39m.\u001b[39mconcat(df_all_cmb_k)[[\u001b[39m'\u001b[39m\u001b[39mfm_freq\u001b[39m\u001b[39m'\u001b[39m, \u001b[39m'\u001b[39m\u001b[39mExponent\u001b[39m\u001b[39m'\u001b[39m, \u001b[39m'\u001b[39m\u001b[39mID\u001b[39m\u001b[39m'\u001b[39m, \u001b[39m'\u001b[39m\u001b[39mDevice\u001b[39m\u001b[39m'\u001b[39m]]\n\u001b[0;32m----> <a href='vscode-notebook-cell://ssh-remote%2Bobob-bomber-fschmidt.hpc.sbg.ac.at/mnt/obob/staff/fschmidt/cardiac_1_f/notebooks/c_1_f_ecg_only.ipynb#X23sdnNjb2RlLXJlbW90ZQ%3D%3D?line=2'>3</a>\u001b[0m exps_cmb \u001b[39m=\u001b[39m exps_knee\u001b[39m.\u001b[39mmerge(exps_no_knee, on\u001b[39m=\u001b[39m[\u001b[39m'\u001b[39m\u001b[39mID\u001b[39m\u001b[39m'\u001b[39m, \u001b[39m'\u001b[39m\u001b[39mfm_freq\u001b[39m\u001b[39m'\u001b[39m, \u001b[39m'\u001b[39m\u001b[39mDevice\u001b[39m\u001b[39m'\u001b[39m])\n",
      "\u001b[0;31mNameError\u001b[0m: name 'exps_no_knee' is not defined"
     ]
    }
   ],
   "source": [
    "exps_knee = pd.concat(df_all_cmb_k)[['fm_freq', 'Exponent', 'ID', 'Device']]\n"
   ]
  },
  {
   "cell_type": "code",
   "execution_count": 21,
   "id": "153de33b",
   "metadata": {},
   "outputs": [
    {
     "name": "stderr",
     "output_type": "stream",
     "text": [
      "/tmp/ipykernel_17559/3869187347.py:12: UserWarning: FixedFormatter should only be used together with FixedLocator\n",
      "  ax.set_xticklabels(freqs, rotation = 90)\n"
     ]
    },
    {
     "data": {
      "image/png": "[encoded data removed]",
      "text/plain": [
       "<Figure size 300x500 with 1 Axes>"
      ]
     },
     "metadata": {},
     "output_type": "display_data"
    }
   ],
   "source": [
    "freqs = ['45', '95', '145', '195', '245', '295', '345', '395']\n",
    "fig, ax = plt.subplots()\n",
    "exp_range = ['45', '95', '145', '195',]\n",
    " \n",
    "ax.plot(freqs, np.array(d_0_corr_k).flatten(), label='ECG Dataset 1', color='#D3EECD')\n",
    "ax.plot(freqs, np.array(d_1_corr_k).flatten(), label='ECG Dataset 2', color='#98D594')\n",
    "ax.plot(exp_range, np.array(corr_meg_cc_k).flatten(), label='ECG Cam-Can', color='#4BB062')\n",
    "ax.plot(exp_range, np.array(corr_meg_sbg_k).flatten(), label='ECG Salzburg', color='#157F3B')\n",
    "ax.set_ylabel('Correlation Coefficient (Age Group)')\n",
    "ax.set_xlabel('Upper Frequency Limit FOOOF Model fit (Hz)')\n",
    "ax.legend()\n",
    "ax.set_xticklabels(freqs, rotation = 90)\n",
    "fig.set_size_inches(3, 5)\n",
    "sns.despine()\n",
    "fig.savefig('../results/corr_age_freq_range_ecg_only_hf_knee_4.svg')"
   ]
  },
  {
   "cell_type": "code",
   "execution_count": 22,
   "id": "4273b703",
   "metadata": {},
   "outputs": [],
   "source": [
    "#df_cmb_150 = pd.concat(df_all_cmb).query('fm_freq == 145')\n",
    "df_cmb_150_k = pd.concat(df_all_cmb_k).query('fm_freq == 145')\n",
    "#df_cmb_150.dropna(inplace=True) #need to drop this now to save trouble in my bayesian models\n",
    "df_cmb_150_k.dropna(inplace=True)\n",
    "\n",
    "\n",
    "def add_age_groups(ecg_meg):\n",
    "\n",
    "        #recode in age group to plot ecg from meg and ecg from other devices on the same scale\n",
    "\n",
    "        #1 (18-19 years), 2 (20-24 years), 3 (25-29 years), 4 (30-34 years), 5 (35-39 years), \n",
    "        #6 (40-44 years), 7 (45-49 years), 8 (50-54 years), 9 (55-59 years), 10 (60-64 years), \n",
    "        #11 (65-69 years), 12 (70-74 years), 13 (75-79 years), 14 (80-84 years), 15 (85-92 years)\n",
    "        #note this probably wont change the age corr a lot as a check precompute here\n",
    "\n",
    "\n",
    "        #i hate recoding.. but necessary for figure\n",
    "\n",
    "        #ag_list = [18, 19, 20, 24, 25, 29, 30, 34, 35, 39, 40, 44, 45, 49, 50, 54, 55, 59, 60, 64,\n",
    "        # 65, 69, 70, 74, 75, 79, 80, 84, 85, 92]\n",
    "\n",
    "        ag_list = [17, 19, 24, 29, 34, 39, 44, 49, 54, 59, 64, 69, 74, 79, 84, 92]\n",
    "\n",
    "        labels = np.arange(1, 16)\n",
    "        ecg_meg['Age_group'] = pd.cut(ecg_meg['age'], bins=ag_list, labels=labels)\n",
    "\n",
    "        return ecg_meg\n",
    "\n",
    "#read meg data\n",
    "def ecg_from_meg(path, device_n):\n",
    "\n",
    "        ecg_meg = pd.read_csv(path).query('channel == 0')[['heart_slope', 'age', 'subject_id']]\n",
    "        ecg_meg.reset_index(inplace=True)\n",
    "\n",
    "        ecg_meg.drop(columns='index', inplace=True)\n",
    "        ecg_meg.columns = ['Exponent', 'age', 'subject_id']\n",
    "        ecg_meg['Device'] = device_n\n",
    "\n",
    "        ecg_meg = add_age_groups(ecg_meg)\n",
    "\n",
    "        return ecg_meg\n",
    "\n",
    "\n",
    "\n",
    "exp_ecg_cam_can = ecg_from_meg('../data/cam_can_1_f_dataframe_1_145.csv', 3)\n",
    "exp_ecg_sbg = ecg_from_meg('../data/sbg_1_f_dataframe_1_145.csv', 4)\n",
    "#ecg_meg.drop(columns='age', inplace=True)"
   ]
  },
  {
   "cell_type": "code",
   "execution_count": 75,
   "id": "8eb2d349",
   "metadata": {},
   "outputs": [
    {
     "data": {
      "text/html": [
       "<div>\n",
       "<style scoped>\n",
       "    .dataframe tbody tr th:only-of-type {\n",
       "        vertical-align: middle;\n",
       "    }\n",
       "\n",
       "    .dataframe tbody tr th {\n",
       "        vertical-align: top;\n",
       "    }\n",
       "\n",
       "    .dataframe thead th {\n",
       "        text-align: right;\n",
       "    }\n",
       "</style>\n",
       "<table border=\"1\" class=\"dataframe\">\n",
       "  <thead>\n",
       "    <tr style=\"text-align: right;\">\n",
       "      <th></th>\n",
       "      <th>Exponent</th>\n",
       "      <th>Age_group</th>\n",
       "      <th>fm_freq</th>\n",
       "      <th>Device</th>\n",
       "    </tr>\n",
       "  </thead>\n",
       "  <tbody>\n",
       "    <tr>\n",
       "      <th>0</th>\n",
       "      <td>6.818220</td>\n",
       "      <td>2</td>\n",
       "      <td>45</td>\n",
       "      <td>4</td>\n",
       "    </tr>\n",
       "    <tr>\n",
       "      <th>1</th>\n",
       "      <td>4.447921</td>\n",
       "      <td>12</td>\n",
       "      <td>45</td>\n",
       "      <td>4</td>\n",
       "    </tr>\n",
       "    <tr>\n",
       "      <th>2</th>\n",
       "      <td>6.828747</td>\n",
       "      <td>12</td>\n",
       "      <td>45</td>\n",
       "      <td>4</td>\n",
       "    </tr>\n",
       "    <tr>\n",
       "      <th>3</th>\n",
       "      <td>6.590377</td>\n",
       "      <td>12</td>\n",
       "      <td>45</td>\n",
       "      <td>4</td>\n",
       "    </tr>\n",
       "    <tr>\n",
       "      <th>4</th>\n",
       "      <td>6.697359</td>\n",
       "      <td>12</td>\n",
       "      <td>45</td>\n",
       "      <td>4</td>\n",
       "    </tr>\n",
       "    <tr>\n",
       "      <th>...</th>\n",
       "      <td>...</td>\n",
       "      <td>...</td>\n",
       "      <td>...</td>\n",
       "      <td>...</td>\n",
       "    </tr>\n",
       "    <tr>\n",
       "      <th>630</th>\n",
       "      <td>6.113653</td>\n",
       "      <td>1</td>\n",
       "      <td>195</td>\n",
       "      <td>4</td>\n",
       "    </tr>\n",
       "    <tr>\n",
       "      <th>631</th>\n",
       "      <td>3.728580</td>\n",
       "      <td>1</td>\n",
       "      <td>195</td>\n",
       "      <td>4</td>\n",
       "    </tr>\n",
       "    <tr>\n",
       "      <th>632</th>\n",
       "      <td>6.526916</td>\n",
       "      <td>1</td>\n",
       "      <td>195</td>\n",
       "      <td>4</td>\n",
       "    </tr>\n",
       "    <tr>\n",
       "      <th>633</th>\n",
       "      <td>4.647951</td>\n",
       "      <td>1</td>\n",
       "      <td>195</td>\n",
       "      <td>4</td>\n",
       "    </tr>\n",
       "    <tr>\n",
       "      <th>634</th>\n",
       "      <td>5.558704</td>\n",
       "      <td>1</td>\n",
       "      <td>195</td>\n",
       "      <td>4</td>\n",
       "    </tr>\n",
       "  </tbody>\n",
       "</table>\n",
       "<p>2529 rows × 4 columns</p>\n",
       "</div>"
      ],
      "text/plain": [
       "     Exponent Age_group  fm_freq  Device\n",
       "0    6.818220         2       45       4\n",
       "1    4.447921        12       45       4\n",
       "2    6.828747        12       45       4\n",
       "3    6.590377        12       45       4\n",
       "4    6.697359        12       45       4\n",
       "..        ...       ...      ...     ...\n",
       "630  6.113653         1      195       4\n",
       "631  3.728580         1      195       4\n",
       "632  6.526916         1      195       4\n",
       "633  4.647951         1      195       4\n",
       "634  5.558704         1      195       4\n",
       "\n",
       "[2529 rows x 4 columns]"
      ]
     },
     "execution_count": 75,
     "metadata": {},
     "output_type": "execute_result"
    }
   ],
   "source": [
    "\n",
    "\n",
    "\n",
    "def add_infos2ecg(df, device_n):\n",
    "\n",
    "    meg_cc = pd.concat(df)\n",
    "    meg_cc = add_age_groups(meg_cc)\n",
    "    meg_cc['Device'] = device_n\n",
    "    \n",
    "    return meg_cc[['Exponent', 'Age_group', 'fm_freq', 'Device']]\n",
    "\n",
    "\n",
    "add_infos2ecg(df_all_cmb_meg_cc_k, 3)\n",
    "add_infos2ecg(df_all_cmb_meg_sbg_k, 4)"
   ]
  },
  {
   "cell_type": "code",
   "execution_count": 80,
   "id": "c6a79c4d",
   "metadata": {},
   "outputs": [],
   "source": [
    "df2test_across_tmp = pd.concat(df_all_cmb_k)[['Exponent', 'Age_group', 'fm_freq', 'Device']]\n",
    "\n",
    "df2test_across = pd.concat([df2test_across_tmp, add_infos2ecg(df_all_cmb_meg_cc_k, 3), add_infos2ecg(df_all_cmb_meg_sbg_k, 4)])\n",
    "df2test_across['Slope'] = df2test_across['Exponent'] * -1"
   ]
  },
  {
   "cell_type": "code",
   "execution_count": 83,
   "id": "adf9a0e8",
   "metadata": {},
   "outputs": [
    {
     "name": "stderr",
     "output_type": "stream",
     "text": [
      "Auto-assigning NUTS sampler...\n",
      "Initializing NUTS using jitter+adapt_diag...\n",
      "Sequential sampling (4 chains in 1 job)\n",
      "NUTS: [Intercept, Age_group, Slope_sigma, Slope_nu]\n"
     ]
    },
    {
     "data": {
      "text/html": [
       "\n",
       "<style>\n",
       "    /* Turns off some styling */\n",
       "    progress {\n",
       "        /* gets rid of default border in Firefox and Opera. */\n",
       "        border: none;\n",
       "        /* Needs to be in here for Safari polyfill so background images work as expected. */\n",
       "        background-size: auto;\n",
       "    }\n",
       "    progress:not([value]), progress:not([value])::-webkit-progress-bar {\n",
       "        background: repeating-linear-gradient(45deg, #7e7e7e, #7e7e7e 10px, #5c5c5c 10px, #5c5c5c 20px);\n",
       "    }\n",
       "    .progress-bar-interrupted, .progress-bar-interrupted::-webkit-progress-bar {\n",
       "        background: #F44336;\n",
       "    }\n",
       "</style>\n"
      ],
      "text/plain": [
       "<IPython.core.display.HTML object>"
      ]
     },
     "metadata": {},
     "output_type": "display_data"
    },
    {
     "data": {
      "text/html": [
       "\n",
       "    <div>\n",
       "      <progress value='4000' class='' max='4000' style='width:300px; height:20px; vertical-align: middle;'></progress>\n",
       "      100.00% [4000/4000 00:04&lt;00:00 Sampling chain 0, 0 divergences]\n",
       "    </div>\n",
       "    "
      ],
      "text/plain": [
       "<IPython.core.display.HTML object>"
      ]
     },
     "metadata": {},
     "output_type": "display_data"
    },
    {
     "data": {
      "text/html": [
       "\n",
       "<style>\n",
       "    /* Turns off some styling */\n",
       "    progress {\n",
       "        /* gets rid of default border in Firefox and Opera. */\n",
       "        border: none;\n",
       "        /* Needs to be in here for Safari polyfill so background images work as expected. */\n",
       "        background-size: auto;\n",
       "    }\n",
       "    progress:not([value]), progress:not([value])::-webkit-progress-bar {\n",
       "        background: repeating-linear-gradient(45deg, #7e7e7e, #7e7e7e 10px, #5c5c5c 10px, #5c5c5c 20px);\n",
       "    }\n",
       "    .progress-bar-interrupted, .progress-bar-interrupted::-webkit-progress-bar {\n",
       "        background: #F44336;\n",
       "    }\n",
       "</style>\n"
      ],
      "text/plain": [
       "<IPython.core.display.HTML object>"
      ]
     },
     "metadata": {},
     "output_type": "display_data"
    },
    {
     "data": {
      "text/html": [
       "\n",
       "    <div>\n",
       "      <progress value='4000' class='' max='4000' style='width:300px; height:20px; vertical-align: middle;'></progress>\n",
       "      100.00% [4000/4000 00:04&lt;00:00 Sampling chain 1, 0 divergences]\n",
       "    </div>\n",
       "    "
      ],
      "text/plain": [
       "<IPython.core.display.HTML object>"
      ]
     },
     "metadata": {},
     "output_type": "display_data"
    },
    {
     "data": {
      "text/html": [
       "\n",
       "<style>\n",
       "    /* Turns off some styling */\n",
       "    progress {\n",
       "        /* gets rid of default border in Firefox and Opera. */\n",
       "        border: none;\n",
       "        /* Needs to be in here for Safari polyfill so background images work as expected. */\n",
       "        background-size: auto;\n",
       "    }\n",
       "    progress:not([value]), progress:not([value])::-webkit-progress-bar {\n",
       "        background: repeating-linear-gradient(45deg, #7e7e7e, #7e7e7e 10px, #5c5c5c 10px, #5c5c5c 20px);\n",
       "    }\n",
       "    .progress-bar-interrupted, .progress-bar-interrupted::-webkit-progress-bar {\n",
       "        background: #F44336;\n",
       "    }\n",
       "</style>\n"
      ],
      "text/plain": [
       "<IPython.core.display.HTML object>"
      ]
     },
     "metadata": {},
     "output_type": "display_data"
    },
    {
     "data": {
      "text/html": [
       "\n",
       "    <div>\n",
       "      <progress value='4000' class='' max='4000' style='width:300px; height:20px; vertical-align: middle;'></progress>\n",
       "      100.00% [4000/4000 00:04&lt;00:00 Sampling chain 2, 0 divergences]\n",
       "    </div>\n",
       "    "
      ],
      "text/plain": [
       "<IPython.core.display.HTML object>"
      ]
     },
     "metadata": {},
     "output_type": "display_data"
    },
    {
     "data": {
      "text/html": [
       "\n",
       "<style>\n",
       "    /* Turns off some styling */\n",
       "    progress {\n",
       "        /* gets rid of default border in Firefox and Opera. */\n",
       "        border: none;\n",
       "        /* Needs to be in here for Safari polyfill so background images work as expected. */\n",
       "        background-size: auto;\n",
       "    }\n",
       "    progress:not([value]), progress:not([value])::-webkit-progress-bar {\n",
       "        background: repeating-linear-gradient(45deg, #7e7e7e, #7e7e7e 10px, #5c5c5c 10px, #5c5c5c 20px);\n",
       "    }\n",
       "    .progress-bar-interrupted, .progress-bar-interrupted::-webkit-progress-bar {\n",
       "        background: #F44336;\n",
       "    }\n",
       "</style>\n"
      ],
      "text/plain": [
       "<IPython.core.display.HTML object>"
      ]
     },
     "metadata": {},
     "output_type": "display_data"
    },
    {
     "data": {
      "text/html": [
       "\n",
       "    <div>\n",
       "      <progress value='4000' class='' max='4000' style='width:300px; height:20px; vertical-align: middle;'></progress>\n",
       "      100.00% [4000/4000 00:04&lt;00:00 Sampling chain 3, 0 divergences]\n",
       "    </div>\n",
       "    "
      ],
      "text/plain": [
       "<IPython.core.display.HTML object>"
      ]
     },
     "metadata": {},
     "output_type": "display_data"
    },
    {
     "name": "stderr",
     "output_type": "stream",
     "text": [
      "Sampling 4 chains for 2_000 tune and 2_000 draw iterations (8_000 + 8_000 draws total) took 18 seconds.\n",
      "Auto-assigning NUTS sampler...\n",
      "Initializing NUTS using jitter+adapt_diag...\n",
      "Sequential sampling (4 chains in 1 job)\n",
      "NUTS: [Intercept, Age_group, Slope_sigma, Slope_nu]\n"
     ]
    },
    {
     "data": {
      "text/html": [
       "\n",
       "<style>\n",
       "    /* Turns off some styling */\n",
       "    progress {\n",
       "        /* gets rid of default border in Firefox and Opera. */\n",
       "        border: none;\n",
       "        /* Needs to be in here for Safari polyfill so background images work as expected. */\n",
       "        background-size: auto;\n",
       "    }\n",
       "    progress:not([value]), progress:not([value])::-webkit-progress-bar {\n",
       "        background: repeating-linear-gradient(45deg, #7e7e7e, #7e7e7e 10px, #5c5c5c 10px, #5c5c5c 20px);\n",
       "    }\n",
       "    .progress-bar-interrupted, .progress-bar-interrupted::-webkit-progress-bar {\n",
       "        background: #F44336;\n",
       "    }\n",
       "</style>\n"
      ],
      "text/plain": [
       "<IPython.core.display.HTML object>"
      ]
     },
     "metadata": {},
     "output_type": "display_data"
    },
    {
     "data": {
      "text/html": [
       "\n",
       "    <div>\n",
       "      <progress value='4000' class='' max='4000' style='width:300px; height:20px; vertical-align: middle;'></progress>\n",
       "      100.00% [4000/4000 00:04&lt;00:00 Sampling chain 0, 0 divergences]\n",
       "    </div>\n",
       "    "
      ],
      "text/plain": [
       "<IPython.core.display.HTML object>"
      ]
     },
     "metadata": {},
     "output_type": "display_data"
    },
    {
     "data": {
      "text/html": [
       "\n",
       "<style>\n",
       "    /* Turns off some styling */\n",
       "    progress {\n",
       "        /* gets rid of default border in Firefox and Opera. */\n",
       "        border: none;\n",
       "        /* Needs to be in here for Safari polyfill so background images work as expected. */\n",
       "        background-size: auto;\n",
       "    }\n",
       "    progress:not([value]), progress:not([value])::-webkit-progress-bar {\n",
       "        background: repeating-linear-gradient(45deg, #7e7e7e, #7e7e7e 10px, #5c5c5c 10px, #5c5c5c 20px);\n",
       "    }\n",
       "    .progress-bar-interrupted, .progress-bar-interrupted::-webkit-progress-bar {\n",
       "        background: #F44336;\n",
       "    }\n",
       "</style>\n"
      ],
      "text/plain": [
       "<IPython.core.display.HTML object>"
      ]
     },
     "metadata": {},
     "output_type": "display_data"
    },
    {
     "data": {
      "text/html": [
       "\n",
       "    <div>\n",
       "      <progress value='4000' class='' max='4000' style='width:300px; height:20px; vertical-align: middle;'></progress>\n",
       "      100.00% [4000/4000 00:04&lt;00:00 Sampling chain 1, 0 divergences]\n",
       "    </div>\n",
       "    "
      ],
      "text/plain": [
       "<IPython.core.display.HTML object>"
      ]
     },
     "metadata": {},
     "output_type": "display_data"
    },
    {
     "data": {
      "text/html": [
       "\n",
       "<style>\n",
       "    /* Turns off some styling */\n",
       "    progress {\n",
       "        /* gets rid of default border in Firefox and Opera. */\n",
       "        border: none;\n",
       "        /* Needs to be in here for Safari polyfill so background images work as expected. */\n",
       "        background-size: auto;\n",
       "    }\n",
       "    progress:not([value]), progress:not([value])::-webkit-progress-bar {\n",
       "        background: repeating-linear-gradient(45deg, #7e7e7e, #7e7e7e 10px, #5c5c5c 10px, #5c5c5c 20px);\n",
       "    }\n",
       "    .progress-bar-interrupted, .progress-bar-interrupted::-webkit-progress-bar {\n",
       "        background: #F44336;\n",
       "    }\n",
       "</style>\n"
      ],
      "text/plain": [
       "<IPython.core.display.HTML object>"
      ]
     },
     "metadata": {},
     "output_type": "display_data"
    },
    {
     "data": {
      "text/html": [
       "\n",
       "    <div>\n",
       "      <progress value='4000' class='' max='4000' style='width:300px; height:20px; vertical-align: middle;'></progress>\n",
       "      100.00% [4000/4000 00:04&lt;00:00 Sampling chain 2, 0 divergences]\n",
       "    </div>\n",
       "    "
      ],
      "text/plain": [
       "<IPython.core.display.HTML object>"
      ]
     },
     "metadata": {},
     "output_type": "display_data"
    },
    {
     "data": {
      "text/html": [
       "\n",
       "<style>\n",
       "    /* Turns off some styling */\n",
       "    progress {\n",
       "        /* gets rid of default border in Firefox and Opera. */\n",
       "        border: none;\n",
       "        /* Needs to be in here for Safari polyfill so background images work as expected. */\n",
       "        background-size: auto;\n",
       "    }\n",
       "    progress:not([value]), progress:not([value])::-webkit-progress-bar {\n",
       "        background: repeating-linear-gradient(45deg, #7e7e7e, #7e7e7e 10px, #5c5c5c 10px, #5c5c5c 20px);\n",
       "    }\n",
       "    .progress-bar-interrupted, .progress-bar-interrupted::-webkit-progress-bar {\n",
       "        background: #F44336;\n",
       "    }\n",
       "</style>\n"
      ],
      "text/plain": [
       "<IPython.core.display.HTML object>"
      ]
     },
     "metadata": {},
     "output_type": "display_data"
    },
    {
     "data": {
      "text/html": [
       "\n",
       "    <div>\n",
       "      <progress value='4000' class='' max='4000' style='width:300px; height:20px; vertical-align: middle;'></progress>\n",
       "      100.00% [4000/4000 00:04&lt;00:00 Sampling chain 3, 0 divergences]\n",
       "    </div>\n",
       "    "
      ],
      "text/plain": [
       "<IPython.core.display.HTML object>"
      ]
     },
     "metadata": {},
     "output_type": "display_data"
    },
    {
     "name": "stderr",
     "output_type": "stream",
     "text": [
      "Sampling 4 chains for 2_000 tune and 2_000 draw iterations (8_000 + 8_000 draws total) took 17 seconds.\n",
      "Auto-assigning NUTS sampler...\n",
      "Initializing NUTS using jitter+adapt_diag...\n",
      "Sequential sampling (4 chains in 1 job)\n",
      "NUTS: [Intercept, Age_group, Slope_sigma, Slope_nu]\n"
     ]
    },
    {
     "data": {
      "text/html": [
       "\n",
       "<style>\n",
       "    /* Turns off some styling */\n",
       "    progress {\n",
       "        /* gets rid of default border in Firefox and Opera. */\n",
       "        border: none;\n",
       "        /* Needs to be in here for Safari polyfill so background images work as expected. */\n",
       "        background-size: auto;\n",
       "    }\n",
       "    progress:not([value]), progress:not([value])::-webkit-progress-bar {\n",
       "        background: repeating-linear-gradient(45deg, #7e7e7e, #7e7e7e 10px, #5c5c5c 10px, #5c5c5c 20px);\n",
       "    }\n",
       "    .progress-bar-interrupted, .progress-bar-interrupted::-webkit-progress-bar {\n",
       "        background: #F44336;\n",
       "    }\n",
       "</style>\n"
      ],
      "text/plain": [
       "<IPython.core.display.HTML object>"
      ]
     },
     "metadata": {},
     "output_type": "display_data"
    },
    {
     "data": {
      "text/html": [
       "\n",
       "    <div>\n",
       "      <progress value='4000' class='' max='4000' style='width:300px; height:20px; vertical-align: middle;'></progress>\n",
       "      100.00% [4000/4000 00:03&lt;00:00 Sampling chain 0, 0 divergences]\n",
       "    </div>\n",
       "    "
      ],
      "text/plain": [
       "<IPython.core.display.HTML object>"
      ]
     },
     "metadata": {},
     "output_type": "display_data"
    },
    {
     "data": {
      "text/html": [
       "\n",
       "<style>\n",
       "    /* Turns off some styling */\n",
       "    progress {\n",
       "        /* gets rid of default border in Firefox and Opera. */\n",
       "        border: none;\n",
       "        /* Needs to be in here for Safari polyfill so background images work as expected. */\n",
       "        background-size: auto;\n",
       "    }\n",
       "    progress:not([value]), progress:not([value])::-webkit-progress-bar {\n",
       "        background: repeating-linear-gradient(45deg, #7e7e7e, #7e7e7e 10px, #5c5c5c 10px, #5c5c5c 20px);\n",
       "    }\n",
       "    .progress-bar-interrupted, .progress-bar-interrupted::-webkit-progress-bar {\n",
       "        background: #F44336;\n",
       "    }\n",
       "</style>\n"
      ],
      "text/plain": [
       "<IPython.core.display.HTML object>"
      ]
     },
     "metadata": {},
     "output_type": "display_data"
    },
    {
     "data": {
      "text/html": [
       "\n",
       "    <div>\n",
       "      <progress value='4000' class='' max='4000' style='width:300px; height:20px; vertical-align: middle;'></progress>\n",
       "      100.00% [4000/4000 00:03&lt;00:00 Sampling chain 1, 0 divergences]\n",
       "    </div>\n",
       "    "
      ],
      "text/plain": [
       "<IPython.core.display.HTML object>"
      ]
     },
     "metadata": {},
     "output_type": "display_data"
    },
    {
     "data": {
      "text/html": [
       "\n",
       "<style>\n",
       "    /* Turns off some styling */\n",
       "    progress {\n",
       "        /* gets rid of default border in Firefox and Opera. */\n",
       "        border: none;\n",
       "        /* Needs to be in here for Safari polyfill so background images work as expected. */\n",
       "        background-size: auto;\n",
       "    }\n",
       "    progress:not([value]), progress:not([value])::-webkit-progress-bar {\n",
       "        background: repeating-linear-gradient(45deg, #7e7e7e, #7e7e7e 10px, #5c5c5c 10px, #5c5c5c 20px);\n",
       "    }\n",
       "    .progress-bar-interrupted, .progress-bar-interrupted::-webkit-progress-bar {\n",
       "        background: #F44336;\n",
       "    }\n",
       "</style>\n"
      ],
      "text/plain": [
       "<IPython.core.display.HTML object>"
      ]
     },
     "metadata": {},
     "output_type": "display_data"
    },
    {
     "data": {
      "text/html": [
       "\n",
       "    <div>\n",
       "      <progress value='4000' class='' max='4000' style='width:300px; height:20px; vertical-align: middle;'></progress>\n",
       "      100.00% [4000/4000 00:03&lt;00:00 Sampling chain 2, 0 divergences]\n",
       "    </div>\n",
       "    "
      ],
      "text/plain": [
       "<IPython.core.display.HTML object>"
      ]
     },
     "metadata": {},
     "output_type": "display_data"
    },
    {
     "data": {
      "text/html": [
       "\n",
       "<style>\n",
       "    /* Turns off some styling */\n",
       "    progress {\n",
       "        /* gets rid of default border in Firefox and Opera. */\n",
       "        border: none;\n",
       "        /* Needs to be in here for Safari polyfill so background images work as expected. */\n",
       "        background-size: auto;\n",
       "    }\n",
       "    progress:not([value]), progress:not([value])::-webkit-progress-bar {\n",
       "        background: repeating-linear-gradient(45deg, #7e7e7e, #7e7e7e 10px, #5c5c5c 10px, #5c5c5c 20px);\n",
       "    }\n",
       "    .progress-bar-interrupted, .progress-bar-interrupted::-webkit-progress-bar {\n",
       "        background: #F44336;\n",
       "    }\n",
       "</style>\n"
      ],
      "text/plain": [
       "<IPython.core.display.HTML object>"
      ]
     },
     "metadata": {},
     "output_type": "display_data"
    },
    {
     "data": {
      "text/html": [
       "\n",
       "    <div>\n",
       "      <progress value='4000' class='' max='4000' style='width:300px; height:20px; vertical-align: middle;'></progress>\n",
       "      100.00% [4000/4000 00:04&lt;00:00 Sampling chain 3, 0 divergences]\n",
       "    </div>\n",
       "    "
      ],
      "text/plain": [
       "<IPython.core.display.HTML object>"
      ]
     },
     "metadata": {},
     "output_type": "display_data"
    },
    {
     "name": "stderr",
     "output_type": "stream",
     "text": [
      "Sampling 4 chains for 2_000 tune and 2_000 draw iterations (8_000 + 8_000 draws total) took 16 seconds.\n",
      "Auto-assigning NUTS sampler...\n",
      "Initializing NUTS using jitter+adapt_diag...\n",
      "Sequential sampling (4 chains in 1 job)\n",
      "NUTS: [Intercept, Age_group, Slope_sigma, Slope_nu]\n"
     ]
    },
    {
     "data": {
      "text/html": [
       "\n",
       "<style>\n",
       "    /* Turns off some styling */\n",
       "    progress {\n",
       "        /* gets rid of default border in Firefox and Opera. */\n",
       "        border: none;\n",
       "        /* Needs to be in here for Safari polyfill so background images work as expected. */\n",
       "        background-size: auto;\n",
       "    }\n",
       "    progress:not([value]), progress:not([value])::-webkit-progress-bar {\n",
       "        background: repeating-linear-gradient(45deg, #7e7e7e, #7e7e7e 10px, #5c5c5c 10px, #5c5c5c 20px);\n",
       "    }\n",
       "    .progress-bar-interrupted, .progress-bar-interrupted::-webkit-progress-bar {\n",
       "        background: #F44336;\n",
       "    }\n",
       "</style>\n"
      ],
      "text/plain": [
       "<IPython.core.display.HTML object>"
      ]
     },
     "metadata": {},
     "output_type": "display_data"
    },
    {
     "data": {
      "text/html": [
       "\n",
       "    <div>\n",
       "      <progress value='4000' class='' max='4000' style='width:300px; height:20px; vertical-align: middle;'></progress>\n",
       "      100.00% [4000/4000 00:03&lt;00:00 Sampling chain 0, 0 divergences]\n",
       "    </div>\n",
       "    "
      ],
      "text/plain": [
       "<IPython.core.display.HTML object>"
      ]
     },
     "metadata": {},
     "output_type": "display_data"
    },
    {
     "data": {
      "text/html": [
       "\n",
       "<style>\n",
       "    /* Turns off some styling */\n",
       "    progress {\n",
       "        /* gets rid of default border in Firefox and Opera. */\n",
       "        border: none;\n",
       "        /* Needs to be in here for Safari polyfill so background images work as expected. */\n",
       "        background-size: auto;\n",
       "    }\n",
       "    progress:not([value]), progress:not([value])::-webkit-progress-bar {\n",
       "        background: repeating-linear-gradient(45deg, #7e7e7e, #7e7e7e 10px, #5c5c5c 10px, #5c5c5c 20px);\n",
       "    }\n",
       "    .progress-bar-interrupted, .progress-bar-interrupted::-webkit-progress-bar {\n",
       "        background: #F44336;\n",
       "    }\n",
       "</style>\n"
      ],
      "text/plain": [
       "<IPython.core.display.HTML object>"
      ]
     },
     "metadata": {},
     "output_type": "display_data"
    },
    {
     "data": {
      "text/html": [
       "\n",
       "    <div>\n",
       "      <progress value='4000' class='' max='4000' style='width:300px; height:20px; vertical-align: middle;'></progress>\n",
       "      100.00% [4000/4000 00:03&lt;00:00 Sampling chain 1, 0 divergences]\n",
       "    </div>\n",
       "    "
      ],
      "text/plain": [
       "<IPython.core.display.HTML object>"
      ]
     },
     "metadata": {},
     "output_type": "display_data"
    },
    {
     "data": {
      "text/html": [
       "\n",
       "<style>\n",
       "    /* Turns off some styling */\n",
       "    progress {\n",
       "        /* gets rid of default border in Firefox and Opera. */\n",
       "        border: none;\n",
       "        /* Needs to be in here for Safari polyfill so background images work as expected. */\n",
       "        background-size: auto;\n",
       "    }\n",
       "    progress:not([value]), progress:not([value])::-webkit-progress-bar {\n",
       "        background: repeating-linear-gradient(45deg, #7e7e7e, #7e7e7e 10px, #5c5c5c 10px, #5c5c5c 20px);\n",
       "    }\n",
       "    .progress-bar-interrupted, .progress-bar-interrupted::-webkit-progress-bar {\n",
       "        background: #F44336;\n",
       "    }\n",
       "</style>\n"
      ],
      "text/plain": [
       "<IPython.core.display.HTML object>"
      ]
     },
     "metadata": {},
     "output_type": "display_data"
    },
    {
     "data": {
      "text/html": [
       "\n",
       "    <div>\n",
       "      <progress value='4000' class='' max='4000' style='width:300px; height:20px; vertical-align: middle;'></progress>\n",
       "      100.00% [4000/4000 00:03&lt;00:00 Sampling chain 2, 0 divergences]\n",
       "    </div>\n",
       "    "
      ],
      "text/plain": [
       "<IPython.core.display.HTML object>"
      ]
     },
     "metadata": {},
     "output_type": "display_data"
    },
    {
     "data": {
      "text/html": [
       "\n",
       "<style>\n",
       "    /* Turns off some styling */\n",
       "    progress {\n",
       "        /* gets rid of default border in Firefox and Opera. */\n",
       "        border: none;\n",
       "        /* Needs to be in here for Safari polyfill so background images work as expected. */\n",
       "        background-size: auto;\n",
       "    }\n",
       "    progress:not([value]), progress:not([value])::-webkit-progress-bar {\n",
       "        background: repeating-linear-gradient(45deg, #7e7e7e, #7e7e7e 10px, #5c5c5c 10px, #5c5c5c 20px);\n",
       "    }\n",
       "    .progress-bar-interrupted, .progress-bar-interrupted::-webkit-progress-bar {\n",
       "        background: #F44336;\n",
       "    }\n",
       "</style>\n"
      ],
      "text/plain": [
       "<IPython.core.display.HTML object>"
      ]
     },
     "metadata": {},
     "output_type": "display_data"
    },
    {
     "data": {
      "text/html": [
       "\n",
       "    <div>\n",
       "      <progress value='4000' class='' max='4000' style='width:300px; height:20px; vertical-align: middle;'></progress>\n",
       "      100.00% [4000/4000 00:03&lt;00:00 Sampling chain 3, 0 divergences]\n",
       "    </div>\n",
       "    "
      ],
      "text/plain": [
       "<IPython.core.display.HTML object>"
      ]
     },
     "metadata": {},
     "output_type": "display_data"
    },
    {
     "name": "stderr",
     "output_type": "stream",
     "text": [
      "Sampling 4 chains for 2_000 tune and 2_000 draw iterations (8_000 + 8_000 draws total) took 15 seconds.\n",
      "Auto-assigning NUTS sampler...\n",
      "Initializing NUTS using jitter+adapt_diag...\n",
      "Sequential sampling (4 chains in 1 job)\n",
      "NUTS: [Intercept, Age_group, Slope_sigma, Slope_nu]\n"
     ]
    },
    {
     "data": {
      "text/html": [
       "\n",
       "<style>\n",
       "    /* Turns off some styling */\n",
       "    progress {\n",
       "        /* gets rid of default border in Firefox and Opera. */\n",
       "        border: none;\n",
       "        /* Needs to be in here for Safari polyfill so background images work as expected. */\n",
       "        background-size: auto;\n",
       "    }\n",
       "    progress:not([value]), progress:not([value])::-webkit-progress-bar {\n",
       "        background: repeating-linear-gradient(45deg, #7e7e7e, #7e7e7e 10px, #5c5c5c 10px, #5c5c5c 20px);\n",
       "    }\n",
       "    .progress-bar-interrupted, .progress-bar-interrupted::-webkit-progress-bar {\n",
       "        background: #F44336;\n",
       "    }\n",
       "</style>\n"
      ],
      "text/plain": [
       "<IPython.core.display.HTML object>"
      ]
     },
     "metadata": {},
     "output_type": "display_data"
    },
    {
     "data": {
      "text/html": [
       "\n",
       "    <div>\n",
       "      <progress value='4000' class='' max='4000' style='width:300px; height:20px; vertical-align: middle;'></progress>\n",
       "      100.00% [4000/4000 00:03&lt;00:00 Sampling chain 0, 0 divergences]\n",
       "    </div>\n",
       "    "
      ],
      "text/plain": [
       "<IPython.core.display.HTML object>"
      ]
     },
     "metadata": {},
     "output_type": "display_data"
    },
    {
     "data": {
      "text/html": [
       "\n",
       "<style>\n",
       "    /* Turns off some styling */\n",
       "    progress {\n",
       "        /* gets rid of default border in Firefox and Opera. */\n",
       "        border: none;\n",
       "        /* Needs to be in here for Safari polyfill so background images work as expected. */\n",
       "        background-size: auto;\n",
       "    }\n",
       "    progress:not([value]), progress:not([value])::-webkit-progress-bar {\n",
       "        background: repeating-linear-gradient(45deg, #7e7e7e, #7e7e7e 10px, #5c5c5c 10px, #5c5c5c 20px);\n",
       "    }\n",
       "    .progress-bar-interrupted, .progress-bar-interrupted::-webkit-progress-bar {\n",
       "        background: #F44336;\n",
       "    }\n",
       "</style>\n"
      ],
      "text/plain": [
       "<IPython.core.display.HTML object>"
      ]
     },
     "metadata": {},
     "output_type": "display_data"
    },
    {
     "data": {
      "text/html": [
       "\n",
       "    <div>\n",
       "      <progress value='4000' class='' max='4000' style='width:300px; height:20px; vertical-align: middle;'></progress>\n",
       "      100.00% [4000/4000 00:03&lt;00:00 Sampling chain 1, 0 divergences]\n",
       "    </div>\n",
       "    "
      ],
      "text/plain": [
       "<IPython.core.display.HTML object>"
      ]
     },
     "metadata": {},
     "output_type": "display_data"
    },
    {
     "data": {
      "text/html": [
       "\n",
       "<style>\n",
       "    /* Turns off some styling */\n",
       "    progress {\n",
       "        /* gets rid of default border in Firefox and Opera. */\n",
       "        border: none;\n",
       "        /* Needs to be in here for Safari polyfill so background images work as expected. */\n",
       "        background-size: auto;\n",
       "    }\n",
       "    progress:not([value]), progress:not([value])::-webkit-progress-bar {\n",
       "        background: repeating-linear-gradient(45deg, #7e7e7e, #7e7e7e 10px, #5c5c5c 10px, #5c5c5c 20px);\n",
       "    }\n",
       "    .progress-bar-interrupted, .progress-bar-interrupted::-webkit-progress-bar {\n",
       "        background: #F44336;\n",
       "    }\n",
       "</style>\n"
      ],
      "text/plain": [
       "<IPython.core.display.HTML object>"
      ]
     },
     "metadata": {},
     "output_type": "display_data"
    },
    {
     "data": {
      "text/html": [
       "\n",
       "    <div>\n",
       "      <progress value='4000' class='' max='4000' style='width:300px; height:20px; vertical-align: middle;'></progress>\n",
       "      100.00% [4000/4000 00:04&lt;00:00 Sampling chain 2, 0 divergences]\n",
       "    </div>\n",
       "    "
      ],
      "text/plain": [
       "<IPython.core.display.HTML object>"
      ]
     },
     "metadata": {},
     "output_type": "display_data"
    },
    {
     "data": {
      "text/html": [
       "\n",
       "<style>\n",
       "    /* Turns off some styling */\n",
       "    progress {\n",
       "        /* gets rid of default border in Firefox and Opera. */\n",
       "        border: none;\n",
       "        /* Needs to be in here for Safari polyfill so background images work as expected. */\n",
       "        background-size: auto;\n",
       "    }\n",
       "    progress:not([value]), progress:not([value])::-webkit-progress-bar {\n",
       "        background: repeating-linear-gradient(45deg, #7e7e7e, #7e7e7e 10px, #5c5c5c 10px, #5c5c5c 20px);\n",
       "    }\n",
       "    .progress-bar-interrupted, .progress-bar-interrupted::-webkit-progress-bar {\n",
       "        background: #F44336;\n",
       "    }\n",
       "</style>\n"
      ],
      "text/plain": [
       "<IPython.core.display.HTML object>"
      ]
     },
     "metadata": {},
     "output_type": "display_data"
    },
    {
     "data": {
      "text/html": [
       "\n",
       "    <div>\n",
       "      <progress value='4000' class='' max='4000' style='width:300px; height:20px; vertical-align: middle;'></progress>\n",
       "      100.00% [4000/4000 00:03&lt;00:00 Sampling chain 3, 0 divergences]\n",
       "    </div>\n",
       "    "
      ],
      "text/plain": [
       "<IPython.core.display.HTML object>"
      ]
     },
     "metadata": {},
     "output_type": "display_data"
    },
    {
     "name": "stderr",
     "output_type": "stream",
     "text": [
      "Sampling 4 chains for 2_000 tune and 2_000 draw iterations (8_000 + 8_000 draws total) took 16 seconds.\n",
      "Auto-assigning NUTS sampler...\n",
      "Initializing NUTS using jitter+adapt_diag...\n",
      "Sequential sampling (4 chains in 1 job)\n",
      "NUTS: [Intercept, Age_group, Slope_sigma, Slope_nu]\n"
     ]
    },
    {
     "data": {
      "text/html": [
       "\n",
       "<style>\n",
       "    /* Turns off some styling */\n",
       "    progress {\n",
       "        /* gets rid of default border in Firefox and Opera. */\n",
       "        border: none;\n",
       "        /* Needs to be in here for Safari polyfill so background images work as expected. */\n",
       "        background-size: auto;\n",
       "    }\n",
       "    progress:not([value]), progress:not([value])::-webkit-progress-bar {\n",
       "        background: repeating-linear-gradient(45deg, #7e7e7e, #7e7e7e 10px, #5c5c5c 10px, #5c5c5c 20px);\n",
       "    }\n",
       "    .progress-bar-interrupted, .progress-bar-interrupted::-webkit-progress-bar {\n",
       "        background: #F44336;\n",
       "    }\n",
       "</style>\n"
      ],
      "text/plain": [
       "<IPython.core.display.HTML object>"
      ]
     },
     "metadata": {},
     "output_type": "display_data"
    },
    {
     "data": {
      "text/html": [
       "\n",
       "    <div>\n",
       "      <progress value='4000' class='' max='4000' style='width:300px; height:20px; vertical-align: middle;'></progress>\n",
       "      100.00% [4000/4000 00:04&lt;00:00 Sampling chain 0, 0 divergences]\n",
       "    </div>\n",
       "    "
      ],
      "text/plain": [
       "<IPython.core.display.HTML object>"
      ]
     },
     "metadata": {},
     "output_type": "display_data"
    },
    {
     "data": {
      "text/html": [
       "\n",
       "<style>\n",
       "    /* Turns off some styling */\n",
       "    progress {\n",
       "        /* gets rid of default border in Firefox and Opera. */\n",
       "        border: none;\n",
       "        /* Needs to be in here for Safari polyfill so background images work as expected. */\n",
       "        background-size: auto;\n",
       "    }\n",
       "    progress:not([value]), progress:not([value])::-webkit-progress-bar {\n",
       "        background: repeating-linear-gradient(45deg, #7e7e7e, #7e7e7e 10px, #5c5c5c 10px, #5c5c5c 20px);\n",
       "    }\n",
       "    .progress-bar-interrupted, .progress-bar-interrupted::-webkit-progress-bar {\n",
       "        background: #F44336;\n",
       "    }\n",
       "</style>\n"
      ],
      "text/plain": [
       "<IPython.core.display.HTML object>"
      ]
     },
     "metadata": {},
     "output_type": "display_data"
    },
    {
     "data": {
      "text/html": [
       "\n",
       "    <div>\n",
       "      <progress value='4000' class='' max='4000' style='width:300px; height:20px; vertical-align: middle;'></progress>\n",
       "      100.00% [4000/4000 00:04&lt;00:00 Sampling chain 1, 0 divergences]\n",
       "    </div>\n",
       "    "
      ],
      "text/plain": [
       "<IPython.core.display.HTML object>"
      ]
     },
     "metadata": {},
     "output_type": "display_data"
    },
    {
     "data": {
      "text/html": [
       "\n",
       "<style>\n",
       "    /* Turns off some styling */\n",
       "    progress {\n",
       "        /* gets rid of default border in Firefox and Opera. */\n",
       "        border: none;\n",
       "        /* Needs to be in here for Safari polyfill so background images work as expected. */\n",
       "        background-size: auto;\n",
       "    }\n",
       "    progress:not([value]), progress:not([value])::-webkit-progress-bar {\n",
       "        background: repeating-linear-gradient(45deg, #7e7e7e, #7e7e7e 10px, #5c5c5c 10px, #5c5c5c 20px);\n",
       "    }\n",
       "    .progress-bar-interrupted, .progress-bar-interrupted::-webkit-progress-bar {\n",
       "        background: #F44336;\n",
       "    }\n",
       "</style>\n"
      ],
      "text/plain": [
       "<IPython.core.display.HTML object>"
      ]
     },
     "metadata": {},
     "output_type": "display_data"
    },
    {
     "data": {
      "text/html": [
       "\n",
       "    <div>\n",
       "      <progress value='4000' class='' max='4000' style='width:300px; height:20px; vertical-align: middle;'></progress>\n",
       "      100.00% [4000/4000 00:04&lt;00:00 Sampling chain 2, 0 divergences]\n",
       "    </div>\n",
       "    "
      ],
      "text/plain": [
       "<IPython.core.display.HTML object>"
      ]
     },
     "metadata": {},
     "output_type": "display_data"
    },
    {
     "data": {
      "text/html": [
       "\n",
       "<style>\n",
       "    /* Turns off some styling */\n",
       "    progress {\n",
       "        /* gets rid of default border in Firefox and Opera. */\n",
       "        border: none;\n",
       "        /* Needs to be in here for Safari polyfill so background images work as expected. */\n",
       "        background-size: auto;\n",
       "    }\n",
       "    progress:not([value]), progress:not([value])::-webkit-progress-bar {\n",
       "        background: repeating-linear-gradient(45deg, #7e7e7e, #7e7e7e 10px, #5c5c5c 10px, #5c5c5c 20px);\n",
       "    }\n",
       "    .progress-bar-interrupted, .progress-bar-interrupted::-webkit-progress-bar {\n",
       "        background: #F44336;\n",
       "    }\n",
       "</style>\n"
      ],
      "text/plain": [
       "<IPython.core.display.HTML object>"
      ]
     },
     "metadata": {},
     "output_type": "display_data"
    },
    {
     "data": {
      "text/html": [
       "\n",
       "    <div>\n",
       "      <progress value='4000' class='' max='4000' style='width:300px; height:20px; vertical-align: middle;'></progress>\n",
       "      100.00% [4000/4000 00:04&lt;00:00 Sampling chain 3, 0 divergences]\n",
       "    </div>\n",
       "    "
      ],
      "text/plain": [
       "<IPython.core.display.HTML object>"
      ]
     },
     "metadata": {},
     "output_type": "display_data"
    },
    {
     "name": "stderr",
     "output_type": "stream",
     "text": [
      "Sampling 4 chains for 2_000 tune and 2_000 draw iterations (8_000 + 8_000 draws total) took 17 seconds.\n",
      "Auto-assigning NUTS sampler...\n",
      "Initializing NUTS using jitter+adapt_diag...\n",
      "Sequential sampling (4 chains in 1 job)\n",
      "NUTS: [Intercept, Age_group, Slope_sigma, Slope_nu]\n"
     ]
    },
    {
     "data": {
      "text/html": [
       "\n",
       "<style>\n",
       "    /* Turns off some styling */\n",
       "    progress {\n",
       "        /* gets rid of default border in Firefox and Opera. */\n",
       "        border: none;\n",
       "        /* Needs to be in here for Safari polyfill so background images work as expected. */\n",
       "        background-size: auto;\n",
       "    }\n",
       "    progress:not([value]), progress:not([value])::-webkit-progress-bar {\n",
       "        background: repeating-linear-gradient(45deg, #7e7e7e, #7e7e7e 10px, #5c5c5c 10px, #5c5c5c 20px);\n",
       "    }\n",
       "    .progress-bar-interrupted, .progress-bar-interrupted::-webkit-progress-bar {\n",
       "        background: #F44336;\n",
       "    }\n",
       "</style>\n"
      ],
      "text/plain": [
       "<IPython.core.display.HTML object>"
      ]
     },
     "metadata": {},
     "output_type": "display_data"
    },
    {
     "data": {
      "text/html": [
       "\n",
       "    <div>\n",
       "      <progress value='4000' class='' max='4000' style='width:300px; height:20px; vertical-align: middle;'></progress>\n",
       "      100.00% [4000/4000 00:04&lt;00:00 Sampling chain 0, 0 divergences]\n",
       "    </div>\n",
       "    "
      ],
      "text/plain": [
       "<IPython.core.display.HTML object>"
      ]
     },
     "metadata": {},
     "output_type": "display_data"
    },
    {
     "data": {
      "text/html": [
       "\n",
       "<style>\n",
       "    /* Turns off some styling */\n",
       "    progress {\n",
       "        /* gets rid of default border in Firefox and Opera. */\n",
       "        border: none;\n",
       "        /* Needs to be in here for Safari polyfill so background images work as expected. */\n",
       "        background-size: auto;\n",
       "    }\n",
       "    progress:not([value]), progress:not([value])::-webkit-progress-bar {\n",
       "        background: repeating-linear-gradient(45deg, #7e7e7e, #7e7e7e 10px, #5c5c5c 10px, #5c5c5c 20px);\n",
       "    }\n",
       "    .progress-bar-interrupted, .progress-bar-interrupted::-webkit-progress-bar {\n",
       "        background: #F44336;\n",
       "    }\n",
       "</style>\n"
      ],
      "text/plain": [
       "<IPython.core.display.HTML object>"
      ]
     },
     "metadata": {},
     "output_type": "display_data"
    },
    {
     "data": {
      "text/html": [
       "\n",
       "    <div>\n",
       "      <progress value='4000' class='' max='4000' style='width:300px; height:20px; vertical-align: middle;'></progress>\n",
       "      100.00% [4000/4000 00:04&lt;00:00 Sampling chain 1, 0 divergences]\n",
       "    </div>\n",
       "    "
      ],
      "text/plain": [
       "<IPython.core.display.HTML object>"
      ]
     },
     "metadata": {},
     "output_type": "display_data"
    },
    {
     "data": {
      "text/html": [
       "\n",
       "<style>\n",
       "    /* Turns off some styling */\n",
       "    progress {\n",
       "        /* gets rid of default border in Firefox and Opera. */\n",
       "        border: none;\n",
       "        /* Needs to be in here for Safari polyfill so background images work as expected. */\n",
       "        background-size: auto;\n",
       "    }\n",
       "    progress:not([value]), progress:not([value])::-webkit-progress-bar {\n",
       "        background: repeating-linear-gradient(45deg, #7e7e7e, #7e7e7e 10px, #5c5c5c 10px, #5c5c5c 20px);\n",
       "    }\n",
       "    .progress-bar-interrupted, .progress-bar-interrupted::-webkit-progress-bar {\n",
       "        background: #F44336;\n",
       "    }\n",
       "</style>\n"
      ],
      "text/plain": [
       "<IPython.core.display.HTML object>"
      ]
     },
     "metadata": {},
     "output_type": "display_data"
    },
    {
     "data": {
      "text/html": [
       "\n",
       "    <div>\n",
       "      <progress value='4000' class='' max='4000' style='width:300px; height:20px; vertical-align: middle;'></progress>\n",
       "      100.00% [4000/4000 00:04&lt;00:00 Sampling chain 2, 0 divergences]\n",
       "    </div>\n",
       "    "
      ],
      "text/plain": [
       "<IPython.core.display.HTML object>"
      ]
     },
     "metadata": {},
     "output_type": "display_data"
    },
    {
     "data": {
      "text/html": [
       "\n",
       "<style>\n",
       "    /* Turns off some styling */\n",
       "    progress {\n",
       "        /* gets rid of default border in Firefox and Opera. */\n",
       "        border: none;\n",
       "        /* Needs to be in here for Safari polyfill so background images work as expected. */\n",
       "        background-size: auto;\n",
       "    }\n",
       "    progress:not([value]), progress:not([value])::-webkit-progress-bar {\n",
       "        background: repeating-linear-gradient(45deg, #7e7e7e, #7e7e7e 10px, #5c5c5c 10px, #5c5c5c 20px);\n",
       "    }\n",
       "    .progress-bar-interrupted, .progress-bar-interrupted::-webkit-progress-bar {\n",
       "        background: #F44336;\n",
       "    }\n",
       "</style>\n"
      ],
      "text/plain": [
       "<IPython.core.display.HTML object>"
      ]
     },
     "metadata": {},
     "output_type": "display_data"
    },
    {
     "data": {
      "text/html": [
       "\n",
       "    <div>\n",
       "      <progress value='4000' class='' max='4000' style='width:300px; height:20px; vertical-align: middle;'></progress>\n",
       "      100.00% [4000/4000 00:04&lt;00:00 Sampling chain 3, 0 divergences]\n",
       "    </div>\n",
       "    "
      ],
      "text/plain": [
       "<IPython.core.display.HTML object>"
      ]
     },
     "metadata": {},
     "output_type": "display_data"
    },
    {
     "name": "stderr",
     "output_type": "stream",
     "text": [
      "Sampling 4 chains for 2_000 tune and 2_000 draw iterations (8_000 + 8_000 draws total) took 18 seconds.\n",
      "Auto-assigning NUTS sampler...\n",
      "Initializing NUTS using jitter+adapt_diag...\n",
      "Sequential sampling (4 chains in 1 job)\n",
      "NUTS: [Intercept, Age_group, Slope_sigma, Slope_nu]\n"
     ]
    },
    {
     "data": {
      "text/html": [
       "\n",
       "<style>\n",
       "    /* Turns off some styling */\n",
       "    progress {\n",
       "        /* gets rid of default border in Firefox and Opera. */\n",
       "        border: none;\n",
       "        /* Needs to be in here for Safari polyfill so background images work as expected. */\n",
       "        background-size: auto;\n",
       "    }\n",
       "    progress:not([value]), progress:not([value])::-webkit-progress-bar {\n",
       "        background: repeating-linear-gradient(45deg, #7e7e7e, #7e7e7e 10px, #5c5c5c 10px, #5c5c5c 20px);\n",
       "    }\n",
       "    .progress-bar-interrupted, .progress-bar-interrupted::-webkit-progress-bar {\n",
       "        background: #F44336;\n",
       "    }\n",
       "</style>\n"
      ],
      "text/plain": [
       "<IPython.core.display.HTML object>"
      ]
     },
     "metadata": {},
     "output_type": "display_data"
    },
    {
     "data": {
      "text/html": [
       "\n",
       "    <div>\n",
       "      <progress value='4000' class='' max='4000' style='width:300px; height:20px; vertical-align: middle;'></progress>\n",
       "      100.00% [4000/4000 00:04&lt;00:00 Sampling chain 0, 0 divergences]\n",
       "    </div>\n",
       "    "
      ],
      "text/plain": [
       "<IPython.core.display.HTML object>"
      ]
     },
     "metadata": {},
     "output_type": "display_data"
    },
    {
     "data": {
      "text/html": [
       "\n",
       "<style>\n",
       "    /* Turns off some styling */\n",
       "    progress {\n",
       "        /* gets rid of default border in Firefox and Opera. */\n",
       "        border: none;\n",
       "        /* Needs to be in here for Safari polyfill so background images work as expected. */\n",
       "        background-size: auto;\n",
       "    }\n",
       "    progress:not([value]), progress:not([value])::-webkit-progress-bar {\n",
       "        background: repeating-linear-gradient(45deg, #7e7e7e, #7e7e7e 10px, #5c5c5c 10px, #5c5c5c 20px);\n",
       "    }\n",
       "    .progress-bar-interrupted, .progress-bar-interrupted::-webkit-progress-bar {\n",
       "        background: #F44336;\n",
       "    }\n",
       "</style>\n"
      ],
      "text/plain": [
       "<IPython.core.display.HTML object>"
      ]
     },
     "metadata": {},
     "output_type": "display_data"
    },
    {
     "data": {
      "text/html": [
       "\n",
       "    <div>\n",
       "      <progress value='4000' class='' max='4000' style='width:300px; height:20px; vertical-align: middle;'></progress>\n",
       "      100.00% [4000/4000 00:04&lt;00:00 Sampling chain 1, 0 divergences]\n",
       "    </div>\n",
       "    "
      ],
      "text/plain": [
       "<IPython.core.display.HTML object>"
      ]
     },
     "metadata": {},
     "output_type": "display_data"
    },
    {
     "data": {
      "text/html": [
       "\n",
       "<style>\n",
       "    /* Turns off some styling */\n",
       "    progress {\n",
       "        /* gets rid of default border in Firefox and Opera. */\n",
       "        border: none;\n",
       "        /* Needs to be in here for Safari polyfill so background images work as expected. */\n",
       "        background-size: auto;\n",
       "    }\n",
       "    progress:not([value]), progress:not([value])::-webkit-progress-bar {\n",
       "        background: repeating-linear-gradient(45deg, #7e7e7e, #7e7e7e 10px, #5c5c5c 10px, #5c5c5c 20px);\n",
       "    }\n",
       "    .progress-bar-interrupted, .progress-bar-interrupted::-webkit-progress-bar {\n",
       "        background: #F44336;\n",
       "    }\n",
       "</style>\n"
      ],
      "text/plain": [
       "<IPython.core.display.HTML object>"
      ]
     },
     "metadata": {},
     "output_type": "display_data"
    },
    {
     "data": {
      "text/html": [
       "\n",
       "    <div>\n",
       "      <progress value='4000' class='' max='4000' style='width:300px; height:20px; vertical-align: middle;'></progress>\n",
       "      100.00% [4000/4000 00:04&lt;00:00 Sampling chain 2, 0 divergences]\n",
       "    </div>\n",
       "    "
      ],
      "text/plain": [
       "<IPython.core.display.HTML object>"
      ]
     },
     "metadata": {},
     "output_type": "display_data"
    },
    {
     "data": {
      "text/html": [
       "\n",
       "<style>\n",
       "    /* Turns off some styling */\n",
       "    progress {\n",
       "        /* gets rid of default border in Firefox and Opera. */\n",
       "        border: none;\n",
       "        /* Needs to be in here for Safari polyfill so background images work as expected. */\n",
       "        background-size: auto;\n",
       "    }\n",
       "    progress:not([value]), progress:not([value])::-webkit-progress-bar {\n",
       "        background: repeating-linear-gradient(45deg, #7e7e7e, #7e7e7e 10px, #5c5c5c 10px, #5c5c5c 20px);\n",
       "    }\n",
       "    .progress-bar-interrupted, .progress-bar-interrupted::-webkit-progress-bar {\n",
       "        background: #F44336;\n",
       "    }\n",
       "</style>\n"
      ],
      "text/plain": [
       "<IPython.core.display.HTML object>"
      ]
     },
     "metadata": {},
     "output_type": "display_data"
    },
    {
     "data": {
      "text/html": [
       "\n",
       "    <div>\n",
       "      <progress value='4000' class='' max='4000' style='width:300px; height:20px; vertical-align: middle;'></progress>\n",
       "      100.00% [4000/4000 00:04&lt;00:00 Sampling chain 3, 0 divergences]\n",
       "    </div>\n",
       "    "
      ],
      "text/plain": [
       "<IPython.core.display.HTML object>"
      ]
     },
     "metadata": {},
     "output_type": "display_data"
    },
    {
     "name": "stderr",
     "output_type": "stream",
     "text": [
      "Sampling 4 chains for 2_000 tune and 2_000 draw iterations (8_000 + 8_000 draws total) took 18 seconds.\n",
      "Auto-assigning NUTS sampler...\n",
      "Initializing NUTS using jitter+adapt_diag...\n",
      "Sequential sampling (4 chains in 1 job)\n",
      "NUTS: [Intercept, Age_group, Slope_sigma, Slope_nu]\n"
     ]
    },
    {
     "data": {
      "text/html": [
       "\n",
       "<style>\n",
       "    /* Turns off some styling */\n",
       "    progress {\n",
       "        /* gets rid of default border in Firefox and Opera. */\n",
       "        border: none;\n",
       "        /* Needs to be in here for Safari polyfill so background images work as expected. */\n",
       "        background-size: auto;\n",
       "    }\n",
       "    progress:not([value]), progress:not([value])::-webkit-progress-bar {\n",
       "        background: repeating-linear-gradient(45deg, #7e7e7e, #7e7e7e 10px, #5c5c5c 10px, #5c5c5c 20px);\n",
       "    }\n",
       "    .progress-bar-interrupted, .progress-bar-interrupted::-webkit-progress-bar {\n",
       "        background: #F44336;\n",
       "    }\n",
       "</style>\n"
      ],
      "text/plain": [
       "<IPython.core.display.HTML object>"
      ]
     },
     "metadata": {},
     "output_type": "display_data"
    },
    {
     "data": {
      "text/html": [
       "\n",
       "    <div>\n",
       "      <progress value='4000' class='' max='4000' style='width:300px; height:20px; vertical-align: middle;'></progress>\n",
       "      100.00% [4000/4000 00:04&lt;00:00 Sampling chain 0, 0 divergences]\n",
       "    </div>\n",
       "    "
      ],
      "text/plain": [
       "<IPython.core.display.HTML object>"
      ]
     },
     "metadata": {},
     "output_type": "display_data"
    },
    {
     "data": {
      "text/html": [
       "\n",
       "<style>\n",
       "    /* Turns off some styling */\n",
       "    progress {\n",
       "        /* gets rid of default border in Firefox and Opera. */\n",
       "        border: none;\n",
       "        /* Needs to be in here for Safari polyfill so background images work as expected. */\n",
       "        background-size: auto;\n",
       "    }\n",
       "    progress:not([value]), progress:not([value])::-webkit-progress-bar {\n",
       "        background: repeating-linear-gradient(45deg, #7e7e7e, #7e7e7e 10px, #5c5c5c 10px, #5c5c5c 20px);\n",
       "    }\n",
       "    .progress-bar-interrupted, .progress-bar-interrupted::-webkit-progress-bar {\n",
       "        background: #F44336;\n",
       "    }\n",
       "</style>\n"
      ],
      "text/plain": [
       "<IPython.core.display.HTML object>"
      ]
     },
     "metadata": {},
     "output_type": "display_data"
    },
    {
     "data": {
      "text/html": [
       "\n",
       "    <div>\n",
       "      <progress value='4000' class='' max='4000' style='width:300px; height:20px; vertical-align: middle;'></progress>\n",
       "      100.00% [4000/4000 00:04&lt;00:00 Sampling chain 1, 0 divergences]\n",
       "    </div>\n",
       "    "
      ],
      "text/plain": [
       "<IPython.core.display.HTML object>"
      ]
     },
     "metadata": {},
     "output_type": "display_data"
    },
    {
     "data": {
      "text/html": [
       "\n",
       "<style>\n",
       "    /* Turns off some styling */\n",
       "    progress {\n",
       "        /* gets rid of default border in Firefox and Opera. */\n",
       "        border: none;\n",
       "        /* Needs to be in here for Safari polyfill so background images work as expected. */\n",
       "        background-size: auto;\n",
       "    }\n",
       "    progress:not([value]), progress:not([value])::-webkit-progress-bar {\n",
       "        background: repeating-linear-gradient(45deg, #7e7e7e, #7e7e7e 10px, #5c5c5c 10px, #5c5c5c 20px);\n",
       "    }\n",
       "    .progress-bar-interrupted, .progress-bar-interrupted::-webkit-progress-bar {\n",
       "        background: #F44336;\n",
       "    }\n",
       "</style>\n"
      ],
      "text/plain": [
       "<IPython.core.display.HTML object>"
      ]
     },
     "metadata": {},
     "output_type": "display_data"
    },
    {
     "data": {
      "text/html": [
       "\n",
       "    <div>\n",
       "      <progress value='4000' class='' max='4000' style='width:300px; height:20px; vertical-align: middle;'></progress>\n",
       "      100.00% [4000/4000 00:04&lt;00:00 Sampling chain 2, 0 divergences]\n",
       "    </div>\n",
       "    "
      ],
      "text/plain": [
       "<IPython.core.display.HTML object>"
      ]
     },
     "metadata": {},
     "output_type": "display_data"
    },
    {
     "data": {
      "text/html": [
       "\n",
       "<style>\n",
       "    /* Turns off some styling */\n",
       "    progress {\n",
       "        /* gets rid of default border in Firefox and Opera. */\n",
       "        border: none;\n",
       "        /* Needs to be in here for Safari polyfill so background images work as expected. */\n",
       "        background-size: auto;\n",
       "    }\n",
       "    progress:not([value]), progress:not([value])::-webkit-progress-bar {\n",
       "        background: repeating-linear-gradient(45deg, #7e7e7e, #7e7e7e 10px, #5c5c5c 10px, #5c5c5c 20px);\n",
       "    }\n",
       "    .progress-bar-interrupted, .progress-bar-interrupted::-webkit-progress-bar {\n",
       "        background: #F44336;\n",
       "    }\n",
       "</style>\n"
      ],
      "text/plain": [
       "<IPython.core.display.HTML object>"
      ]
     },
     "metadata": {},
     "output_type": "display_data"
    },
    {
     "data": {
      "text/html": [
       "\n",
       "    <div>\n",
       "      <progress value='4000' class='' max='4000' style='width:300px; height:20px; vertical-align: middle;'></progress>\n",
       "      100.00% [4000/4000 00:04&lt;00:00 Sampling chain 3, 0 divergences]\n",
       "    </div>\n",
       "    "
      ],
      "text/plain": [
       "<IPython.core.display.HTML object>"
      ]
     },
     "metadata": {},
     "output_type": "display_data"
    },
    {
     "name": "stderr",
     "output_type": "stream",
     "text": [
      "Sampling 4 chains for 2_000 tune and 2_000 draw iterations (8_000 + 8_000 draws total) took 18 seconds.\n",
      "Auto-assigning NUTS sampler...\n",
      "Initializing NUTS using jitter+adapt_diag...\n",
      "Sequential sampling (4 chains in 1 job)\n",
      "NUTS: [Intercept, Age_group, Slope_sigma, Slope_nu]\n"
     ]
    },
    {
     "data": {
      "text/html": [
       "\n",
       "<style>\n",
       "    /* Turns off some styling */\n",
       "    progress {\n",
       "        /* gets rid of default border in Firefox and Opera. */\n",
       "        border: none;\n",
       "        /* Needs to be in here for Safari polyfill so background images work as expected. */\n",
       "        background-size: auto;\n",
       "    }\n",
       "    progress:not([value]), progress:not([value])::-webkit-progress-bar {\n",
       "        background: repeating-linear-gradient(45deg, #7e7e7e, #7e7e7e 10px, #5c5c5c 10px, #5c5c5c 20px);\n",
       "    }\n",
       "    .progress-bar-interrupted, .progress-bar-interrupted::-webkit-progress-bar {\n",
       "        background: #F44336;\n",
       "    }\n",
       "</style>\n"
      ],
      "text/plain": [
       "<IPython.core.display.HTML object>"
      ]
     },
     "metadata": {},
     "output_type": "display_data"
    },
    {
     "data": {
      "text/html": [
       "\n",
       "    <div>\n",
       "      <progress value='4000' class='' max='4000' style='width:300px; height:20px; vertical-align: middle;'></progress>\n",
       "      100.00% [4000/4000 00:04&lt;00:00 Sampling chain 0, 0 divergences]\n",
       "    </div>\n",
       "    "
      ],
      "text/plain": [
       "<IPython.core.display.HTML object>"
      ]
     },
     "metadata": {},
     "output_type": "display_data"
    },
    {
     "data": {
      "text/html": [
       "\n",
       "<style>\n",
       "    /* Turns off some styling */\n",
       "    progress {\n",
       "        /* gets rid of default border in Firefox and Opera. */\n",
       "        border: none;\n",
       "        /* Needs to be in here for Safari polyfill so background images work as expected. */\n",
       "        background-size: auto;\n",
       "    }\n",
       "    progress:not([value]), progress:not([value])::-webkit-progress-bar {\n",
       "        background: repeating-linear-gradient(45deg, #7e7e7e, #7e7e7e 10px, #5c5c5c 10px, #5c5c5c 20px);\n",
       "    }\n",
       "    .progress-bar-interrupted, .progress-bar-interrupted::-webkit-progress-bar {\n",
       "        background: #F44336;\n",
       "    }\n",
       "</style>\n"
      ],
      "text/plain": [
       "<IPython.core.display.HTML object>"
      ]
     },
     "metadata": {},
     "output_type": "display_data"
    },
    {
     "data": {
      "text/html": [
       "\n",
       "    <div>\n",
       "      <progress value='4000' class='' max='4000' style='width:300px; height:20px; vertical-align: middle;'></progress>\n",
       "      100.00% [4000/4000 00:04&lt;00:00 Sampling chain 1, 0 divergences]\n",
       "    </div>\n",
       "    "
      ],
      "text/plain": [
       "<IPython.core.display.HTML object>"
      ]
     },
     "metadata": {},
     "output_type": "display_data"
    },
    {
     "data": {
      "text/html": [
       "\n",
       "<style>\n",
       "    /* Turns off some styling */\n",
       "    progress {\n",
       "        /* gets rid of default border in Firefox and Opera. */\n",
       "        border: none;\n",
       "        /* Needs to be in here for Safari polyfill so background images work as expected. */\n",
       "        background-size: auto;\n",
       "    }\n",
       "    progress:not([value]), progress:not([value])::-webkit-progress-bar {\n",
       "        background: repeating-linear-gradient(45deg, #7e7e7e, #7e7e7e 10px, #5c5c5c 10px, #5c5c5c 20px);\n",
       "    }\n",
       "    .progress-bar-interrupted, .progress-bar-interrupted::-webkit-progress-bar {\n",
       "        background: #F44336;\n",
       "    }\n",
       "</style>\n"
      ],
      "text/plain": [
       "<IPython.core.display.HTML object>"
      ]
     },
     "metadata": {},
     "output_type": "display_data"
    },
    {
     "data": {
      "text/html": [
       "\n",
       "    <div>\n",
       "      <progress value='4000' class='' max='4000' style='width:300px; height:20px; vertical-align: middle;'></progress>\n",
       "      100.00% [4000/4000 00:04&lt;00:00 Sampling chain 2, 0 divergences]\n",
       "    </div>\n",
       "    "
      ],
      "text/plain": [
       "<IPython.core.display.HTML object>"
      ]
     },
     "metadata": {},
     "output_type": "display_data"
    },
    {
     "data": {
      "text/html": [
       "\n",
       "<style>\n",
       "    /* Turns off some styling */\n",
       "    progress {\n",
       "        /* gets rid of default border in Firefox and Opera. */\n",
       "        border: none;\n",
       "        /* Needs to be in here for Safari polyfill so background images work as expected. */\n",
       "        background-size: auto;\n",
       "    }\n",
       "    progress:not([value]), progress:not([value])::-webkit-progress-bar {\n",
       "        background: repeating-linear-gradient(45deg, #7e7e7e, #7e7e7e 10px, #5c5c5c 10px, #5c5c5c 20px);\n",
       "    }\n",
       "    .progress-bar-interrupted, .progress-bar-interrupted::-webkit-progress-bar {\n",
       "        background: #F44336;\n",
       "    }\n",
       "</style>\n"
      ],
      "text/plain": [
       "<IPython.core.display.HTML object>"
      ]
     },
     "metadata": {},
     "output_type": "display_data"
    },
    {
     "data": {
      "text/html": [
       "\n",
       "    <div>\n",
       "      <progress value='4000' class='' max='4000' style='width:300px; height:20px; vertical-align: middle;'></progress>\n",
       "      100.00% [4000/4000 00:04&lt;00:00 Sampling chain 3, 0 divergences]\n",
       "    </div>\n",
       "    "
      ],
      "text/plain": [
       "<IPython.core.display.HTML object>"
      ]
     },
     "metadata": {},
     "output_type": "display_data"
    },
    {
     "name": "stderr",
     "output_type": "stream",
     "text": [
      "Sampling 4 chains for 2_000 tune and 2_000 draw iterations (8_000 + 8_000 draws total) took 18 seconds.\n",
      "Auto-assigning NUTS sampler...\n",
      "Initializing NUTS using jitter+adapt_diag...\n",
      "Sequential sampling (4 chains in 1 job)\n",
      "NUTS: [Intercept, Age_group, Slope_sigma, Slope_nu]\n"
     ]
    },
    {
     "data": {
      "text/html": [
       "\n",
       "<style>\n",
       "    /* Turns off some styling */\n",
       "    progress {\n",
       "        /* gets rid of default border in Firefox and Opera. */\n",
       "        border: none;\n",
       "        /* Needs to be in here for Safari polyfill so background images work as expected. */\n",
       "        background-size: auto;\n",
       "    }\n",
       "    progress:not([value]), progress:not([value])::-webkit-progress-bar {\n",
       "        background: repeating-linear-gradient(45deg, #7e7e7e, #7e7e7e 10px, #5c5c5c 10px, #5c5c5c 20px);\n",
       "    }\n",
       "    .progress-bar-interrupted, .progress-bar-interrupted::-webkit-progress-bar {\n",
       "        background: #F44336;\n",
       "    }\n",
       "</style>\n"
      ],
      "text/plain": [
       "<IPython.core.display.HTML object>"
      ]
     },
     "metadata": {},
     "output_type": "display_data"
    },
    {
     "data": {
      "text/html": [
       "\n",
       "    <div>\n",
       "      <progress value='4000' class='' max='4000' style='width:300px; height:20px; vertical-align: middle;'></progress>\n",
       "      100.00% [4000/4000 00:04&lt;00:00 Sampling chain 0, 0 divergences]\n",
       "    </div>\n",
       "    "
      ],
      "text/plain": [
       "<IPython.core.display.HTML object>"
      ]
     },
     "metadata": {},
     "output_type": "display_data"
    },
    {
     "data": {
      "text/html": [
       "\n",
       "<style>\n",
       "    /* Turns off some styling */\n",
       "    progress {\n",
       "        /* gets rid of default border in Firefox and Opera. */\n",
       "        border: none;\n",
       "        /* Needs to be in here for Safari polyfill so background images work as expected. */\n",
       "        background-size: auto;\n",
       "    }\n",
       "    progress:not([value]), progress:not([value])::-webkit-progress-bar {\n",
       "        background: repeating-linear-gradient(45deg, #7e7e7e, #7e7e7e 10px, #5c5c5c 10px, #5c5c5c 20px);\n",
       "    }\n",
       "    .progress-bar-interrupted, .progress-bar-interrupted::-webkit-progress-bar {\n",
       "        background: #F44336;\n",
       "    }\n",
       "</style>\n"
      ],
      "text/plain": [
       "<IPython.core.display.HTML object>"
      ]
     },
     "metadata": {},
     "output_type": "display_data"
    },
    {
     "data": {
      "text/html": [
       "\n",
       "    <div>\n",
       "      <progress value='4000' class='' max='4000' style='width:300px; height:20px; vertical-align: middle;'></progress>\n",
       "      100.00% [4000/4000 00:04&lt;00:00 Sampling chain 1, 0 divergences]\n",
       "    </div>\n",
       "    "
      ],
      "text/plain": [
       "<IPython.core.display.HTML object>"
      ]
     },
     "metadata": {},
     "output_type": "display_data"
    },
    {
     "data": {
      "text/html": [
       "\n",
       "<style>\n",
       "    /* Turns off some styling */\n",
       "    progress {\n",
       "        /* gets rid of default border in Firefox and Opera. */\n",
       "        border: none;\n",
       "        /* Needs to be in here for Safari polyfill so background images work as expected. */\n",
       "        background-size: auto;\n",
       "    }\n",
       "    progress:not([value]), progress:not([value])::-webkit-progress-bar {\n",
       "        background: repeating-linear-gradient(45deg, #7e7e7e, #7e7e7e 10px, #5c5c5c 10px, #5c5c5c 20px);\n",
       "    }\n",
       "    .progress-bar-interrupted, .progress-bar-interrupted::-webkit-progress-bar {\n",
       "        background: #F44336;\n",
       "    }\n",
       "</style>\n"
      ],
      "text/plain": [
       "<IPython.core.display.HTML object>"
      ]
     },
     "metadata": {},
     "output_type": "display_data"
    },
    {
     "data": {
      "text/html": [
       "\n",
       "    <div>\n",
       "      <progress value='4000' class='' max='4000' style='width:300px; height:20px; vertical-align: middle;'></progress>\n",
       "      100.00% [4000/4000 00:04&lt;00:00 Sampling chain 2, 0 divergences]\n",
       "    </div>\n",
       "    "
      ],
      "text/plain": [
       "<IPython.core.display.HTML object>"
      ]
     },
     "metadata": {},
     "output_type": "display_data"
    },
    {
     "data": {
      "text/html": [
       "\n",
       "<style>\n",
       "    /* Turns off some styling */\n",
       "    progress {\n",
       "        /* gets rid of default border in Firefox and Opera. */\n",
       "        border: none;\n",
       "        /* Needs to be in here for Safari polyfill so background images work as expected. */\n",
       "        background-size: auto;\n",
       "    }\n",
       "    progress:not([value]), progress:not([value])::-webkit-progress-bar {\n",
       "        background: repeating-linear-gradient(45deg, #7e7e7e, #7e7e7e 10px, #5c5c5c 10px, #5c5c5c 20px);\n",
       "    }\n",
       "    .progress-bar-interrupted, .progress-bar-interrupted::-webkit-progress-bar {\n",
       "        background: #F44336;\n",
       "    }\n",
       "</style>\n"
      ],
      "text/plain": [
       "<IPython.core.display.HTML object>"
      ]
     },
     "metadata": {},
     "output_type": "display_data"
    },
    {
     "data": {
      "text/html": [
       "\n",
       "    <div>\n",
       "      <progress value='4000' class='' max='4000' style='width:300px; height:20px; vertical-align: middle;'></progress>\n",
       "      100.00% [4000/4000 00:04&lt;00:00 Sampling chain 3, 0 divergences]\n",
       "    </div>\n",
       "    "
      ],
      "text/plain": [
       "<IPython.core.display.HTML object>"
      ]
     },
     "metadata": {},
     "output_type": "display_data"
    },
    {
     "name": "stderr",
     "output_type": "stream",
     "text": [
      "Sampling 4 chains for 2_000 tune and 2_000 draw iterations (8_000 + 8_000 draws total) took 17 seconds.\n",
      "Auto-assigning NUTS sampler...\n",
      "Initializing NUTS using jitter+adapt_diag...\n",
      "Sequential sampling (4 chains in 1 job)\n",
      "NUTS: [Intercept, Age_group, Slope_sigma, Slope_nu]\n"
     ]
    },
    {
     "data": {
      "text/html": [
       "\n",
       "<style>\n",
       "    /* Turns off some styling */\n",
       "    progress {\n",
       "        /* gets rid of default border in Firefox and Opera. */\n",
       "        border: none;\n",
       "        /* Needs to be in here for Safari polyfill so background images work as expected. */\n",
       "        background-size: auto;\n",
       "    }\n",
       "    progress:not([value]), progress:not([value])::-webkit-progress-bar {\n",
       "        background: repeating-linear-gradient(45deg, #7e7e7e, #7e7e7e 10px, #5c5c5c 10px, #5c5c5c 20px);\n",
       "    }\n",
       "    .progress-bar-interrupted, .progress-bar-interrupted::-webkit-progress-bar {\n",
       "        background: #F44336;\n",
       "    }\n",
       "</style>\n"
      ],
      "text/plain": [
       "<IPython.core.display.HTML object>"
      ]
     },
     "metadata": {},
     "output_type": "display_data"
    },
    {
     "data": {
      "text/html": [
       "\n",
       "    <div>\n",
       "      <progress value='4000' class='' max='4000' style='width:300px; height:20px; vertical-align: middle;'></progress>\n",
       "      100.00% [4000/4000 00:04&lt;00:00 Sampling chain 0, 0 divergences]\n",
       "    </div>\n",
       "    "
      ],
      "text/plain": [
       "<IPython.core.display.HTML object>"
      ]
     },
     "metadata": {},
     "output_type": "display_data"
    },
    {
     "data": {
      "text/html": [
       "\n",
       "<style>\n",
       "    /* Turns off some styling */\n",
       "    progress {\n",
       "        /* gets rid of default border in Firefox and Opera. */\n",
       "        border: none;\n",
       "        /* Needs to be in here for Safari polyfill so background images work as expected. */\n",
       "        background-size: auto;\n",
       "    }\n",
       "    progress:not([value]), progress:not([value])::-webkit-progress-bar {\n",
       "        background: repeating-linear-gradient(45deg, #7e7e7e, #7e7e7e 10px, #5c5c5c 10px, #5c5c5c 20px);\n",
       "    }\n",
       "    .progress-bar-interrupted, .progress-bar-interrupted::-webkit-progress-bar {\n",
       "        background: #F44336;\n",
       "    }\n",
       "</style>\n"
      ],
      "text/plain": [
       "<IPython.core.display.HTML object>"
      ]
     },
     "metadata": {},
     "output_type": "display_data"
    },
    {
     "data": {
      "text/html": [
       "\n",
       "    <div>\n",
       "      <progress value='4000' class='' max='4000' style='width:300px; height:20px; vertical-align: middle;'></progress>\n",
       "      100.00% [4000/4000 00:03&lt;00:00 Sampling chain 1, 0 divergences]\n",
       "    </div>\n",
       "    "
      ],
      "text/plain": [
       "<IPython.core.display.HTML object>"
      ]
     },
     "metadata": {},
     "output_type": "display_data"
    },
    {
     "data": {
      "text/html": [
       "\n",
       "<style>\n",
       "    /* Turns off some styling */\n",
       "    progress {\n",
       "        /* gets rid of default border in Firefox and Opera. */\n",
       "        border: none;\n",
       "        /* Needs to be in here for Safari polyfill so background images work as expected. */\n",
       "        background-size: auto;\n",
       "    }\n",
       "    progress:not([value]), progress:not([value])::-webkit-progress-bar {\n",
       "        background: repeating-linear-gradient(45deg, #7e7e7e, #7e7e7e 10px, #5c5c5c 10px, #5c5c5c 20px);\n",
       "    }\n",
       "    .progress-bar-interrupted, .progress-bar-interrupted::-webkit-progress-bar {\n",
       "        background: #F44336;\n",
       "    }\n",
       "</style>\n"
      ],
      "text/plain": [
       "<IPython.core.display.HTML object>"
      ]
     },
     "metadata": {},
     "output_type": "display_data"
    },
    {
     "data": {
      "text/html": [
       "\n",
       "    <div>\n",
       "      <progress value='4000' class='' max='4000' style='width:300px; height:20px; vertical-align: middle;'></progress>\n",
       "      100.00% [4000/4000 00:03&lt;00:00 Sampling chain 2, 0 divergences]\n",
       "    </div>\n",
       "    "
      ],
      "text/plain": [
       "<IPython.core.display.HTML object>"
      ]
     },
     "metadata": {},
     "output_type": "display_data"
    },
    {
     "data": {
      "text/html": [
       "\n",
       "<style>\n",
       "    /* Turns off some styling */\n",
       "    progress {\n",
       "        /* gets rid of default border in Firefox and Opera. */\n",
       "        border: none;\n",
       "        /* Needs to be in here for Safari polyfill so background images work as expected. */\n",
       "        background-size: auto;\n",
       "    }\n",
       "    progress:not([value]), progress:not([value])::-webkit-progress-bar {\n",
       "        background: repeating-linear-gradient(45deg, #7e7e7e, #7e7e7e 10px, #5c5c5c 10px, #5c5c5c 20px);\n",
       "    }\n",
       "    .progress-bar-interrupted, .progress-bar-interrupted::-webkit-progress-bar {\n",
       "        background: #F44336;\n",
       "    }\n",
       "</style>\n"
      ],
      "text/plain": [
       "<IPython.core.display.HTML object>"
      ]
     },
     "metadata": {},
     "output_type": "display_data"
    },
    {
     "data": {
      "text/html": [
       "\n",
       "    <div>\n",
       "      <progress value='4000' class='' max='4000' style='width:300px; height:20px; vertical-align: middle;'></progress>\n",
       "      100.00% [4000/4000 00:03&lt;00:00 Sampling chain 3, 0 divergences]\n",
       "    </div>\n",
       "    "
      ],
      "text/plain": [
       "<IPython.core.display.HTML object>"
      ]
     },
     "metadata": {},
     "output_type": "display_data"
    },
    {
     "name": "stderr",
     "output_type": "stream",
     "text": [
      "Sampling 4 chains for 2_000 tune and 2_000 draw iterations (8_000 + 8_000 draws total) took 16 seconds.\n",
      "Auto-assigning NUTS sampler...\n",
      "Initializing NUTS using jitter+adapt_diag...\n",
      "Sequential sampling (4 chains in 1 job)\n",
      "NUTS: [Intercept, Age_group, Slope_sigma, Slope_nu]\n"
     ]
    },
    {
     "data": {
      "text/html": [
       "\n",
       "<style>\n",
       "    /* Turns off some styling */\n",
       "    progress {\n",
       "        /* gets rid of default border in Firefox and Opera. */\n",
       "        border: none;\n",
       "        /* Needs to be in here for Safari polyfill so background images work as expected. */\n",
       "        background-size: auto;\n",
       "    }\n",
       "    progress:not([value]), progress:not([value])::-webkit-progress-bar {\n",
       "        background: repeating-linear-gradient(45deg, #7e7e7e, #7e7e7e 10px, #5c5c5c 10px, #5c5c5c 20px);\n",
       "    }\n",
       "    .progress-bar-interrupted, .progress-bar-interrupted::-webkit-progress-bar {\n",
       "        background: #F44336;\n",
       "    }\n",
       "</style>\n"
      ],
      "text/plain": [
       "<IPython.core.display.HTML object>"
      ]
     },
     "metadata": {},
     "output_type": "display_data"
    },
    {
     "data": {
      "text/html": [
       "\n",
       "    <div>\n",
       "      <progress value='4000' class='' max='4000' style='width:300px; height:20px; vertical-align: middle;'></progress>\n",
       "      100.00% [4000/4000 00:03&lt;00:00 Sampling chain 0, 0 divergences]\n",
       "    </div>\n",
       "    "
      ],
      "text/plain": [
       "<IPython.core.display.HTML object>"
      ]
     },
     "metadata": {},
     "output_type": "display_data"
    },
    {
     "data": {
      "text/html": [
       "\n",
       "<style>\n",
       "    /* Turns off some styling */\n",
       "    progress {\n",
       "        /* gets rid of default border in Firefox and Opera. */\n",
       "        border: none;\n",
       "        /* Needs to be in here for Safari polyfill so background images work as expected. */\n",
       "        background-size: auto;\n",
       "    }\n",
       "    progress:not([value]), progress:not([value])::-webkit-progress-bar {\n",
       "        background: repeating-linear-gradient(45deg, #7e7e7e, #7e7e7e 10px, #5c5c5c 10px, #5c5c5c 20px);\n",
       "    }\n",
       "    .progress-bar-interrupted, .progress-bar-interrupted::-webkit-progress-bar {\n",
       "        background: #F44336;\n",
       "    }\n",
       "</style>\n"
      ],
      "text/plain": [
       "<IPython.core.display.HTML object>"
      ]
     },
     "metadata": {},
     "output_type": "display_data"
    },
    {
     "data": {
      "text/html": [
       "\n",
       "    <div>\n",
       "      <progress value='4000' class='' max='4000' style='width:300px; height:20px; vertical-align: middle;'></progress>\n",
       "      100.00% [4000/4000 00:03&lt;00:00 Sampling chain 1, 0 divergences]\n",
       "    </div>\n",
       "    "
      ],
      "text/plain": [
       "<IPython.core.display.HTML object>"
      ]
     },
     "metadata": {},
     "output_type": "display_data"
    },
    {
     "data": {
      "text/html": [
       "\n",
       "<style>\n",
       "    /* Turns off some styling */\n",
       "    progress {\n",
       "        /* gets rid of default border in Firefox and Opera. */\n",
       "        border: none;\n",
       "        /* Needs to be in here for Safari polyfill so background images work as expected. */\n",
       "        background-size: auto;\n",
       "    }\n",
       "    progress:not([value]), progress:not([value])::-webkit-progress-bar {\n",
       "        background: repeating-linear-gradient(45deg, #7e7e7e, #7e7e7e 10px, #5c5c5c 10px, #5c5c5c 20px);\n",
       "    }\n",
       "    .progress-bar-interrupted, .progress-bar-interrupted::-webkit-progress-bar {\n",
       "        background: #F44336;\n",
       "    }\n",
       "</style>\n"
      ],
      "text/plain": [
       "<IPython.core.display.HTML object>"
      ]
     },
     "metadata": {},
     "output_type": "display_data"
    },
    {
     "data": {
      "text/html": [
       "\n",
       "    <div>\n",
       "      <progress value='4000' class='' max='4000' style='width:300px; height:20px; vertical-align: middle;'></progress>\n",
       "      100.00% [4000/4000 00:03&lt;00:00 Sampling chain 2, 0 divergences]\n",
       "    </div>\n",
       "    "
      ],
      "text/plain": [
       "<IPython.core.display.HTML object>"
      ]
     },
     "metadata": {},
     "output_type": "display_data"
    },
    {
     "data": {
      "text/html": [
       "\n",
       "<style>\n",
       "    /* Turns off some styling */\n",
       "    progress {\n",
       "        /* gets rid of default border in Firefox and Opera. */\n",
       "        border: none;\n",
       "        /* Needs to be in here for Safari polyfill so background images work as expected. */\n",
       "        background-size: auto;\n",
       "    }\n",
       "    progress:not([value]), progress:not([value])::-webkit-progress-bar {\n",
       "        background: repeating-linear-gradient(45deg, #7e7e7e, #7e7e7e 10px, #5c5c5c 10px, #5c5c5c 20px);\n",
       "    }\n",
       "    .progress-bar-interrupted, .progress-bar-interrupted::-webkit-progress-bar {\n",
       "        background: #F44336;\n",
       "    }\n",
       "</style>\n"
      ],
      "text/plain": [
       "<IPython.core.display.HTML object>"
      ]
     },
     "metadata": {},
     "output_type": "display_data"
    },
    {
     "data": {
      "text/html": [
       "\n",
       "    <div>\n",
       "      <progress value='4000' class='' max='4000' style='width:300px; height:20px; vertical-align: middle;'></progress>\n",
       "      100.00% [4000/4000 00:03&lt;00:00 Sampling chain 3, 0 divergences]\n",
       "    </div>\n",
       "    "
      ],
      "text/plain": [
       "<IPython.core.display.HTML object>"
      ]
     },
     "metadata": {},
     "output_type": "display_data"
    },
    {
     "name": "stderr",
     "output_type": "stream",
     "text": [
      "Sampling 4 chains for 2_000 tune and 2_000 draw iterations (8_000 + 8_000 draws total) took 16 seconds.\n",
      "Auto-assigning NUTS sampler...\n",
      "Initializing NUTS using jitter+adapt_diag...\n",
      "Sequential sampling (4 chains in 1 job)\n",
      "NUTS: [Intercept, Age_group, Slope_sigma, Slope_nu]\n"
     ]
    },
    {
     "data": {
      "text/html": [
       "\n",
       "<style>\n",
       "    /* Turns off some styling */\n",
       "    progress {\n",
       "        /* gets rid of default border in Firefox and Opera. */\n",
       "        border: none;\n",
       "        /* Needs to be in here for Safari polyfill so background images work as expected. */\n",
       "        background-size: auto;\n",
       "    }\n",
       "    progress:not([value]), progress:not([value])::-webkit-progress-bar {\n",
       "        background: repeating-linear-gradient(45deg, #7e7e7e, #7e7e7e 10px, #5c5c5c 10px, #5c5c5c 20px);\n",
       "    }\n",
       "    .progress-bar-interrupted, .progress-bar-interrupted::-webkit-progress-bar {\n",
       "        background: #F44336;\n",
       "    }\n",
       "</style>\n"
      ],
      "text/plain": [
       "<IPython.core.display.HTML object>"
      ]
     },
     "metadata": {},
     "output_type": "display_data"
    },
    {
     "data": {
      "text/html": [
       "\n",
       "    <div>\n",
       "      <progress value='4000' class='' max='4000' style='width:300px; height:20px; vertical-align: middle;'></progress>\n",
       "      100.00% [4000/4000 00:03&lt;00:00 Sampling chain 0, 0 divergences]\n",
       "    </div>\n",
       "    "
      ],
      "text/plain": [
       "<IPython.core.display.HTML object>"
      ]
     },
     "metadata": {},
     "output_type": "display_data"
    },
    {
     "data": {
      "text/html": [
       "\n",
       "<style>\n",
       "    /* Turns off some styling */\n",
       "    progress {\n",
       "        /* gets rid of default border in Firefox and Opera. */\n",
       "        border: none;\n",
       "        /* Needs to be in here for Safari polyfill so background images work as expected. */\n",
       "        background-size: auto;\n",
       "    }\n",
       "    progress:not([value]), progress:not([value])::-webkit-progress-bar {\n",
       "        background: repeating-linear-gradient(45deg, #7e7e7e, #7e7e7e 10px, #5c5c5c 10px, #5c5c5c 20px);\n",
       "    }\n",
       "    .progress-bar-interrupted, .progress-bar-interrupted::-webkit-progress-bar {\n",
       "        background: #F44336;\n",
       "    }\n",
       "</style>\n"
      ],
      "text/plain": [
       "<IPython.core.display.HTML object>"
      ]
     },
     "metadata": {},
     "output_type": "display_data"
    },
    {
     "data": {
      "text/html": [
       "\n",
       "    <div>\n",
       "      <progress value='4000' class='' max='4000' style='width:300px; height:20px; vertical-align: middle;'></progress>\n",
       "      100.00% [4000/4000 00:03&lt;00:00 Sampling chain 1, 0 divergences]\n",
       "    </div>\n",
       "    "
      ],
      "text/plain": [
       "<IPython.core.display.HTML object>"
      ]
     },
     "metadata": {},
     "output_type": "display_data"
    },
    {
     "data": {
      "text/html": [
       "\n",
       "<style>\n",
       "    /* Turns off some styling */\n",
       "    progress {\n",
       "        /* gets rid of default border in Firefox and Opera. */\n",
       "        border: none;\n",
       "        /* Needs to be in here for Safari polyfill so background images work as expected. */\n",
       "        background-size: auto;\n",
       "    }\n",
       "    progress:not([value]), progress:not([value])::-webkit-progress-bar {\n",
       "        background: repeating-linear-gradient(45deg, #7e7e7e, #7e7e7e 10px, #5c5c5c 10px, #5c5c5c 20px);\n",
       "    }\n",
       "    .progress-bar-interrupted, .progress-bar-interrupted::-webkit-progress-bar {\n",
       "        background: #F44336;\n",
       "    }\n",
       "</style>\n"
      ],
      "text/plain": [
       "<IPython.core.display.HTML object>"
      ]
     },
     "metadata": {},
     "output_type": "display_data"
    },
    {
     "data": {
      "text/html": [
       "\n",
       "    <div>\n",
       "      <progress value='4000' class='' max='4000' style='width:300px; height:20px; vertical-align: middle;'></progress>\n",
       "      100.00% [4000/4000 00:03&lt;00:00 Sampling chain 2, 0 divergences]\n",
       "    </div>\n",
       "    "
      ],
      "text/plain": [
       "<IPython.core.display.HTML object>"
      ]
     },
     "metadata": {},
     "output_type": "display_data"
    },
    {
     "data": {
      "text/html": [
       "\n",
       "<style>\n",
       "    /* Turns off some styling */\n",
       "    progress {\n",
       "        /* gets rid of default border in Firefox and Opera. */\n",
       "        border: none;\n",
       "        /* Needs to be in here for Safari polyfill so background images work as expected. */\n",
       "        background-size: auto;\n",
       "    }\n",
       "    progress:not([value]), progress:not([value])::-webkit-progress-bar {\n",
       "        background: repeating-linear-gradient(45deg, #7e7e7e, #7e7e7e 10px, #5c5c5c 10px, #5c5c5c 20px);\n",
       "    }\n",
       "    .progress-bar-interrupted, .progress-bar-interrupted::-webkit-progress-bar {\n",
       "        background: #F44336;\n",
       "    }\n",
       "</style>\n"
      ],
      "text/plain": [
       "<IPython.core.display.HTML object>"
      ]
     },
     "metadata": {},
     "output_type": "display_data"
    },
    {
     "data": {
      "text/html": [
       "\n",
       "    <div>\n",
       "      <progress value='4000' class='' max='4000' style='width:300px; height:20px; vertical-align: middle;'></progress>\n",
       "      100.00% [4000/4000 00:04&lt;00:00 Sampling chain 3, 0 divergences]\n",
       "    </div>\n",
       "    "
      ],
      "text/plain": [
       "<IPython.core.display.HTML object>"
      ]
     },
     "metadata": {},
     "output_type": "display_data"
    },
    {
     "name": "stderr",
     "output_type": "stream",
     "text": [
      "Sampling 4 chains for 2_000 tune and 2_000 draw iterations (8_000 + 8_000 draws total) took 16 seconds.\n",
      "Auto-assigning NUTS sampler...\n",
      "Initializing NUTS using jitter+adapt_diag...\n",
      "Sequential sampling (4 chains in 1 job)\n",
      "NUTS: [Intercept, Age_group, Slope_sigma, Slope_nu]\n"
     ]
    },
    {
     "data": {
      "text/html": [
       "\n",
       "<style>\n",
       "    /* Turns off some styling */\n",
       "    progress {\n",
       "        /* gets rid of default border in Firefox and Opera. */\n",
       "        border: none;\n",
       "        /* Needs to be in here for Safari polyfill so background images work as expected. */\n",
       "        background-size: auto;\n",
       "    }\n",
       "    progress:not([value]), progress:not([value])::-webkit-progress-bar {\n",
       "        background: repeating-linear-gradient(45deg, #7e7e7e, #7e7e7e 10px, #5c5c5c 10px, #5c5c5c 20px);\n",
       "    }\n",
       "    .progress-bar-interrupted, .progress-bar-interrupted::-webkit-progress-bar {\n",
       "        background: #F44336;\n",
       "    }\n",
       "</style>\n"
      ],
      "text/plain": [
       "<IPython.core.display.HTML object>"
      ]
     },
     "metadata": {},
     "output_type": "display_data"
    },
    {
     "data": {
      "text/html": [
       "\n",
       "    <div>\n",
       "      <progress value='4000' class='' max='4000' style='width:300px; height:20px; vertical-align: middle;'></progress>\n",
       "      100.00% [4000/4000 00:03&lt;00:00 Sampling chain 0, 0 divergences]\n",
       "    </div>\n",
       "    "
      ],
      "text/plain": [
       "<IPython.core.display.HTML object>"
      ]
     },
     "metadata": {},
     "output_type": "display_data"
    },
    {
     "data": {
      "text/html": [
       "\n",
       "<style>\n",
       "    /* Turns off some styling */\n",
       "    progress {\n",
       "        /* gets rid of default border in Firefox and Opera. */\n",
       "        border: none;\n",
       "        /* Needs to be in here for Safari polyfill so background images work as expected. */\n",
       "        background-size: auto;\n",
       "    }\n",
       "    progress:not([value]), progress:not([value])::-webkit-progress-bar {\n",
       "        background: repeating-linear-gradient(45deg, #7e7e7e, #7e7e7e 10px, #5c5c5c 10px, #5c5c5c 20px);\n",
       "    }\n",
       "    .progress-bar-interrupted, .progress-bar-interrupted::-webkit-progress-bar {\n",
       "        background: #F44336;\n",
       "    }\n",
       "</style>\n"
      ],
      "text/plain": [
       "<IPython.core.display.HTML object>"
      ]
     },
     "metadata": {},
     "output_type": "display_data"
    },
    {
     "data": {
      "text/html": [
       "\n",
       "    <div>\n",
       "      <progress value='4000' class='' max='4000' style='width:300px; height:20px; vertical-align: middle;'></progress>\n",
       "      100.00% [4000/4000 00:03&lt;00:00 Sampling chain 1, 0 divergences]\n",
       "    </div>\n",
       "    "
      ],
      "text/plain": [
       "<IPython.core.display.HTML object>"
      ]
     },
     "metadata": {},
     "output_type": "display_data"
    },
    {
     "data": {
      "text/html": [
       "\n",
       "<style>\n",
       "    /* Turns off some styling */\n",
       "    progress {\n",
       "        /* gets rid of default border in Firefox and Opera. */\n",
       "        border: none;\n",
       "        /* Needs to be in here for Safari polyfill so background images work as expected. */\n",
       "        background-size: auto;\n",
       "    }\n",
       "    progress:not([value]), progress:not([value])::-webkit-progress-bar {\n",
       "        background: repeating-linear-gradient(45deg, #7e7e7e, #7e7e7e 10px, #5c5c5c 10px, #5c5c5c 20px);\n",
       "    }\n",
       "    .progress-bar-interrupted, .progress-bar-interrupted::-webkit-progress-bar {\n",
       "        background: #F44336;\n",
       "    }\n",
       "</style>\n"
      ],
      "text/plain": [
       "<IPython.core.display.HTML object>"
      ]
     },
     "metadata": {},
     "output_type": "display_data"
    },
    {
     "data": {
      "text/html": [
       "\n",
       "    <div>\n",
       "      <progress value='4000' class='' max='4000' style='width:300px; height:20px; vertical-align: middle;'></progress>\n",
       "      100.00% [4000/4000 00:03&lt;00:00 Sampling chain 2, 0 divergences]\n",
       "    </div>\n",
       "    "
      ],
      "text/plain": [
       "<IPython.core.display.HTML object>"
      ]
     },
     "metadata": {},
     "output_type": "display_data"
    },
    {
     "data": {
      "text/html": [
       "\n",
       "<style>\n",
       "    /* Turns off some styling */\n",
       "    progress {\n",
       "        /* gets rid of default border in Firefox and Opera. */\n",
       "        border: none;\n",
       "        /* Needs to be in here for Safari polyfill so background images work as expected. */\n",
       "        background-size: auto;\n",
       "    }\n",
       "    progress:not([value]), progress:not([value])::-webkit-progress-bar {\n",
       "        background: repeating-linear-gradient(45deg, #7e7e7e, #7e7e7e 10px, #5c5c5c 10px, #5c5c5c 20px);\n",
       "    }\n",
       "    .progress-bar-interrupted, .progress-bar-interrupted::-webkit-progress-bar {\n",
       "        background: #F44336;\n",
       "    }\n",
       "</style>\n"
      ],
      "text/plain": [
       "<IPython.core.display.HTML object>"
      ]
     },
     "metadata": {},
     "output_type": "display_data"
    },
    {
     "data": {
      "text/html": [
       "\n",
       "    <div>\n",
       "      <progress value='4000' class='' max='4000' style='width:300px; height:20px; vertical-align: middle;'></progress>\n",
       "      100.00% [4000/4000 00:03&lt;00:00 Sampling chain 3, 0 divergences]\n",
       "    </div>\n",
       "    "
      ],
      "text/plain": [
       "<IPython.core.display.HTML object>"
      ]
     },
     "metadata": {},
     "output_type": "display_data"
    },
    {
     "name": "stderr",
     "output_type": "stream",
     "text": [
      "Sampling 4 chains for 2_000 tune and 2_000 draw iterations (8_000 + 8_000 draws total) took 15 seconds.\n",
      "Auto-assigning NUTS sampler...\n",
      "Initializing NUTS using jitter+adapt_diag...\n",
      "Sequential sampling (4 chains in 1 job)\n",
      "NUTS: [Intercept, Age_group, Slope_sigma, Slope_nu]\n"
     ]
    },
    {
     "data": {
      "text/html": [
       "\n",
       "<style>\n",
       "    /* Turns off some styling */\n",
       "    progress {\n",
       "        /* gets rid of default border in Firefox and Opera. */\n",
       "        border: none;\n",
       "        /* Needs to be in here for Safari polyfill so background images work as expected. */\n",
       "        background-size: auto;\n",
       "    }\n",
       "    progress:not([value]), progress:not([value])::-webkit-progress-bar {\n",
       "        background: repeating-linear-gradient(45deg, #7e7e7e, #7e7e7e 10px, #5c5c5c 10px, #5c5c5c 20px);\n",
       "    }\n",
       "    .progress-bar-interrupted, .progress-bar-interrupted::-webkit-progress-bar {\n",
       "        background: #F44336;\n",
       "    }\n",
       "</style>\n"
      ],
      "text/plain": [
       "<IPython.core.display.HTML object>"
      ]
     },
     "metadata": {},
     "output_type": "display_data"
    },
    {
     "data": {
      "text/html": [
       "\n",
       "    <div>\n",
       "      <progress value='4000' class='' max='4000' style='width:300px; height:20px; vertical-align: middle;'></progress>\n",
       "      100.00% [4000/4000 00:04&lt;00:00 Sampling chain 0, 0 divergences]\n",
       "    </div>\n",
       "    "
      ],
      "text/plain": [
       "<IPython.core.display.HTML object>"
      ]
     },
     "metadata": {},
     "output_type": "display_data"
    },
    {
     "data": {
      "text/html": [
       "\n",
       "<style>\n",
       "    /* Turns off some styling */\n",
       "    progress {\n",
       "        /* gets rid of default border in Firefox and Opera. */\n",
       "        border: none;\n",
       "        /* Needs to be in here for Safari polyfill so background images work as expected. */\n",
       "        background-size: auto;\n",
       "    }\n",
       "    progress:not([value]), progress:not([value])::-webkit-progress-bar {\n",
       "        background: repeating-linear-gradient(45deg, #7e7e7e, #7e7e7e 10px, #5c5c5c 10px, #5c5c5c 20px);\n",
       "    }\n",
       "    .progress-bar-interrupted, .progress-bar-interrupted::-webkit-progress-bar {\n",
       "        background: #F44336;\n",
       "    }\n",
       "</style>\n"
      ],
      "text/plain": [
       "<IPython.core.display.HTML object>"
      ]
     },
     "metadata": {},
     "output_type": "display_data"
    },
    {
     "data": {
      "text/html": [
       "\n",
       "    <div>\n",
       "      <progress value='4000' class='' max='4000' style='width:300px; height:20px; vertical-align: middle;'></progress>\n",
       "      100.00% [4000/4000 00:03&lt;00:00 Sampling chain 1, 0 divergences]\n",
       "    </div>\n",
       "    "
      ],
      "text/plain": [
       "<IPython.core.display.HTML object>"
      ]
     },
     "metadata": {},
     "output_type": "display_data"
    },
    {
     "data": {
      "text/html": [
       "\n",
       "<style>\n",
       "    /* Turns off some styling */\n",
       "    progress {\n",
       "        /* gets rid of default border in Firefox and Opera. */\n",
       "        border: none;\n",
       "        /* Needs to be in here for Safari polyfill so background images work as expected. */\n",
       "        background-size: auto;\n",
       "    }\n",
       "    progress:not([value]), progress:not([value])::-webkit-progress-bar {\n",
       "        background: repeating-linear-gradient(45deg, #7e7e7e, #7e7e7e 10px, #5c5c5c 10px, #5c5c5c 20px);\n",
       "    }\n",
       "    .progress-bar-interrupted, .progress-bar-interrupted::-webkit-progress-bar {\n",
       "        background: #F44336;\n",
       "    }\n",
       "</style>\n"
      ],
      "text/plain": [
       "<IPython.core.display.HTML object>"
      ]
     },
     "metadata": {},
     "output_type": "display_data"
    },
    {
     "data": {
      "text/html": [
       "\n",
       "    <div>\n",
       "      <progress value='4000' class='' max='4000' style='width:300px; height:20px; vertical-align: middle;'></progress>\n",
       "      100.00% [4000/4000 00:03&lt;00:00 Sampling chain 2, 0 divergences]\n",
       "    </div>\n",
       "    "
      ],
      "text/plain": [
       "<IPython.core.display.HTML object>"
      ]
     },
     "metadata": {},
     "output_type": "display_data"
    },
    {
     "data": {
      "text/html": [
       "\n",
       "<style>\n",
       "    /* Turns off some styling */\n",
       "    progress {\n",
       "        /* gets rid of default border in Firefox and Opera. */\n",
       "        border: none;\n",
       "        /* Needs to be in here for Safari polyfill so background images work as expected. */\n",
       "        background-size: auto;\n",
       "    }\n",
       "    progress:not([value]), progress:not([value])::-webkit-progress-bar {\n",
       "        background: repeating-linear-gradient(45deg, #7e7e7e, #7e7e7e 10px, #5c5c5c 10px, #5c5c5c 20px);\n",
       "    }\n",
       "    .progress-bar-interrupted, .progress-bar-interrupted::-webkit-progress-bar {\n",
       "        background: #F44336;\n",
       "    }\n",
       "</style>\n"
      ],
      "text/plain": [
       "<IPython.core.display.HTML object>"
      ]
     },
     "metadata": {},
     "output_type": "display_data"
    },
    {
     "data": {
      "text/html": [
       "\n",
       "    <div>\n",
       "      <progress value='4000' class='' max='4000' style='width:300px; height:20px; vertical-align: middle;'></progress>\n",
       "      100.00% [4000/4000 00:03&lt;00:00 Sampling chain 3, 0 divergences]\n",
       "    </div>\n",
       "    "
      ],
      "text/plain": [
       "<IPython.core.display.HTML object>"
      ]
     },
     "metadata": {},
     "output_type": "display_data"
    },
    {
     "name": "stderr",
     "output_type": "stream",
     "text": [
      "Sampling 4 chains for 2_000 tune and 2_000 draw iterations (8_000 + 8_000 draws total) took 16 seconds.\n",
      "Auto-assigning NUTS sampler...\n",
      "Initializing NUTS using jitter+adapt_diag...\n",
      "Sequential sampling (4 chains in 1 job)\n",
      "NUTS: [Intercept, Age_group, Slope_sigma, Slope_nu]\n"
     ]
    },
    {
     "data": {
      "text/html": [
       "\n",
       "<style>\n",
       "    /* Turns off some styling */\n",
       "    progress {\n",
       "        /* gets rid of default border in Firefox and Opera. */\n",
       "        border: none;\n",
       "        /* Needs to be in here for Safari polyfill so background images work as expected. */\n",
       "        background-size: auto;\n",
       "    }\n",
       "    progress:not([value]), progress:not([value])::-webkit-progress-bar {\n",
       "        background: repeating-linear-gradient(45deg, #7e7e7e, #7e7e7e 10px, #5c5c5c 10px, #5c5c5c 20px);\n",
       "    }\n",
       "    .progress-bar-interrupted, .progress-bar-interrupted::-webkit-progress-bar {\n",
       "        background: #F44336;\n",
       "    }\n",
       "</style>\n"
      ],
      "text/plain": [
       "<IPython.core.display.HTML object>"
      ]
     },
     "metadata": {},
     "output_type": "display_data"
    },
    {
     "data": {
      "text/html": [
       "\n",
       "    <div>\n",
       "      <progress value='4000' class='' max='4000' style='width:300px; height:20px; vertical-align: middle;'></progress>\n",
       "      100.00% [4000/4000 00:04&lt;00:00 Sampling chain 0, 0 divergences]\n",
       "    </div>\n",
       "    "
      ],
      "text/plain": [
       "<IPython.core.display.HTML object>"
      ]
     },
     "metadata": {},
     "output_type": "display_data"
    },
    {
     "data": {
      "text/html": [
       "\n",
       "<style>\n",
       "    /* Turns off some styling */\n",
       "    progress {\n",
       "        /* gets rid of default border in Firefox and Opera. */\n",
       "        border: none;\n",
       "        /* Needs to be in here for Safari polyfill so background images work as expected. */\n",
       "        background-size: auto;\n",
       "    }\n",
       "    progress:not([value]), progress:not([value])::-webkit-progress-bar {\n",
       "        background: repeating-linear-gradient(45deg, #7e7e7e, #7e7e7e 10px, #5c5c5c 10px, #5c5c5c 20px);\n",
       "    }\n",
       "    .progress-bar-interrupted, .progress-bar-interrupted::-webkit-progress-bar {\n",
       "        background: #F44336;\n",
       "    }\n",
       "</style>\n"
      ],
      "text/plain": [
       "<IPython.core.display.HTML object>"
      ]
     },
     "metadata": {},
     "output_type": "display_data"
    },
    {
     "data": {
      "text/html": [
       "\n",
       "    <div>\n",
       "      <progress value='4000' class='' max='4000' style='width:300px; height:20px; vertical-align: middle;'></progress>\n",
       "      100.00% [4000/4000 00:04&lt;00:00 Sampling chain 1, 0 divergences]\n",
       "    </div>\n",
       "    "
      ],
      "text/plain": [
       "<IPython.core.display.HTML object>"
      ]
     },
     "metadata": {},
     "output_type": "display_data"
    },
    {
     "data": {
      "text/html": [
       "\n",
       "<style>\n",
       "    /* Turns off some styling */\n",
       "    progress {\n",
       "        /* gets rid of default border in Firefox and Opera. */\n",
       "        border: none;\n",
       "        /* Needs to be in here for Safari polyfill so background images work as expected. */\n",
       "        background-size: auto;\n",
       "    }\n",
       "    progress:not([value]), progress:not([value])::-webkit-progress-bar {\n",
       "        background: repeating-linear-gradient(45deg, #7e7e7e, #7e7e7e 10px, #5c5c5c 10px, #5c5c5c 20px);\n",
       "    }\n",
       "    .progress-bar-interrupted, .progress-bar-interrupted::-webkit-progress-bar {\n",
       "        background: #F44336;\n",
       "    }\n",
       "</style>\n"
      ],
      "text/plain": [
       "<IPython.core.display.HTML object>"
      ]
     },
     "metadata": {},
     "output_type": "display_data"
    },
    {
     "data": {
      "text/html": [
       "\n",
       "    <div>\n",
       "      <progress value='4000' class='' max='4000' style='width:300px; height:20px; vertical-align: middle;'></progress>\n",
       "      100.00% [4000/4000 00:04&lt;00:00 Sampling chain 2, 0 divergences]\n",
       "    </div>\n",
       "    "
      ],
      "text/plain": [
       "<IPython.core.display.HTML object>"
      ]
     },
     "metadata": {},
     "output_type": "display_data"
    },
    {
     "data": {
      "text/html": [
       "\n",
       "<style>\n",
       "    /* Turns off some styling */\n",
       "    progress {\n",
       "        /* gets rid of default border in Firefox and Opera. */\n",
       "        border: none;\n",
       "        /* Needs to be in here for Safari polyfill so background images work as expected. */\n",
       "        background-size: auto;\n",
       "    }\n",
       "    progress:not([value]), progress:not([value])::-webkit-progress-bar {\n",
       "        background: repeating-linear-gradient(45deg, #7e7e7e, #7e7e7e 10px, #5c5c5c 10px, #5c5c5c 20px);\n",
       "    }\n",
       "    .progress-bar-interrupted, .progress-bar-interrupted::-webkit-progress-bar {\n",
       "        background: #F44336;\n",
       "    }\n",
       "</style>\n"
      ],
      "text/plain": [
       "<IPython.core.display.HTML object>"
      ]
     },
     "metadata": {},
     "output_type": "display_data"
    },
    {
     "data": {
      "text/html": [
       "\n",
       "    <div>\n",
       "      <progress value='4000' class='' max='4000' style='width:300px; height:20px; vertical-align: middle;'></progress>\n",
       "      100.00% [4000/4000 00:04&lt;00:00 Sampling chain 3, 0 divergences]\n",
       "    </div>\n",
       "    "
      ],
      "text/plain": [
       "<IPython.core.display.HTML object>"
      ]
     },
     "metadata": {},
     "output_type": "display_data"
    },
    {
     "name": "stderr",
     "output_type": "stream",
     "text": [
      "Sampling 4 chains for 2_000 tune and 2_000 draw iterations (8_000 + 8_000 draws total) took 19 seconds.\n",
      "Auto-assigning NUTS sampler...\n",
      "Initializing NUTS using jitter+adapt_diag...\n",
      "Sequential sampling (4 chains in 1 job)\n",
      "NUTS: [Intercept, Age_group, Slope_sigma, Slope_nu]\n"
     ]
    },
    {
     "data": {
      "text/html": [
       "\n",
       "<style>\n",
       "    /* Turns off some styling */\n",
       "    progress {\n",
       "        /* gets rid of default border in Firefox and Opera. */\n",
       "        border: none;\n",
       "        /* Needs to be in here for Safari polyfill so background images work as expected. */\n",
       "        background-size: auto;\n",
       "    }\n",
       "    progress:not([value]), progress:not([value])::-webkit-progress-bar {\n",
       "        background: repeating-linear-gradient(45deg, #7e7e7e, #7e7e7e 10px, #5c5c5c 10px, #5c5c5c 20px);\n",
       "    }\n",
       "    .progress-bar-interrupted, .progress-bar-interrupted::-webkit-progress-bar {\n",
       "        background: #F44336;\n",
       "    }\n",
       "</style>\n"
      ],
      "text/plain": [
       "<IPython.core.display.HTML object>"
      ]
     },
     "metadata": {},
     "output_type": "display_data"
    },
    {
     "data": {
      "text/html": [
       "\n",
       "    <div>\n",
       "      <progress value='4000' class='' max='4000' style='width:300px; height:20px; vertical-align: middle;'></progress>\n",
       "      100.00% [4000/4000 00:04&lt;00:00 Sampling chain 0, 0 divergences]\n",
       "    </div>\n",
       "    "
      ],
      "text/plain": [
       "<IPython.core.display.HTML object>"
      ]
     },
     "metadata": {},
     "output_type": "display_data"
    },
    {
     "data": {
      "text/html": [
       "\n",
       "<style>\n",
       "    /* Turns off some styling */\n",
       "    progress {\n",
       "        /* gets rid of default border in Firefox and Opera. */\n",
       "        border: none;\n",
       "        /* Needs to be in here for Safari polyfill so background images work as expected. */\n",
       "        background-size: auto;\n",
       "    }\n",
       "    progress:not([value]), progress:not([value])::-webkit-progress-bar {\n",
       "        background: repeating-linear-gradient(45deg, #7e7e7e, #7e7e7e 10px, #5c5c5c 10px, #5c5c5c 20px);\n",
       "    }\n",
       "    .progress-bar-interrupted, .progress-bar-interrupted::-webkit-progress-bar {\n",
       "        background: #F44336;\n",
       "    }\n",
       "</style>\n"
      ],
      "text/plain": [
       "<IPython.core.display.HTML object>"
      ]
     },
     "metadata": {},
     "output_type": "display_data"
    },
    {
     "data": {
      "text/html": [
       "\n",
       "    <div>\n",
       "      <progress value='4000' class='' max='4000' style='width:300px; height:20px; vertical-align: middle;'></progress>\n",
       "      100.00% [4000/4000 00:03&lt;00:00 Sampling chain 1, 0 divergences]\n",
       "    </div>\n",
       "    "
      ],
      "text/plain": [
       "<IPython.core.display.HTML object>"
      ]
     },
     "metadata": {},
     "output_type": "display_data"
    },
    {
     "data": {
      "text/html": [
       "\n",
       "<style>\n",
       "    /* Turns off some styling */\n",
       "    progress {\n",
       "        /* gets rid of default border in Firefox and Opera. */\n",
       "        border: none;\n",
       "        /* Needs to be in here for Safari polyfill so background images work as expected. */\n",
       "        background-size: auto;\n",
       "    }\n",
       "    progress:not([value]), progress:not([value])::-webkit-progress-bar {\n",
       "        background: repeating-linear-gradient(45deg, #7e7e7e, #7e7e7e 10px, #5c5c5c 10px, #5c5c5c 20px);\n",
       "    }\n",
       "    .progress-bar-interrupted, .progress-bar-interrupted::-webkit-progress-bar {\n",
       "        background: #F44336;\n",
       "    }\n",
       "</style>\n"
      ],
      "text/plain": [
       "<IPython.core.display.HTML object>"
      ]
     },
     "metadata": {},
     "output_type": "display_data"
    },
    {
     "data": {
      "text/html": [
       "\n",
       "    <div>\n",
       "      <progress value='4000' class='' max='4000' style='width:300px; height:20px; vertical-align: middle;'></progress>\n",
       "      100.00% [4000/4000 00:03&lt;00:00 Sampling chain 2, 0 divergences]\n",
       "    </div>\n",
       "    "
      ],
      "text/plain": [
       "<IPython.core.display.HTML object>"
      ]
     },
     "metadata": {},
     "output_type": "display_data"
    },
    {
     "data": {
      "text/html": [
       "\n",
       "<style>\n",
       "    /* Turns off some styling */\n",
       "    progress {\n",
       "        /* gets rid of default border in Firefox and Opera. */\n",
       "        border: none;\n",
       "        /* Needs to be in here for Safari polyfill so background images work as expected. */\n",
       "        background-size: auto;\n",
       "    }\n",
       "    progress:not([value]), progress:not([value])::-webkit-progress-bar {\n",
       "        background: repeating-linear-gradient(45deg, #7e7e7e, #7e7e7e 10px, #5c5c5c 10px, #5c5c5c 20px);\n",
       "    }\n",
       "    .progress-bar-interrupted, .progress-bar-interrupted::-webkit-progress-bar {\n",
       "        background: #F44336;\n",
       "    }\n",
       "</style>\n"
      ],
      "text/plain": [
       "<IPython.core.display.HTML object>"
      ]
     },
     "metadata": {},
     "output_type": "display_data"
    },
    {
     "data": {
      "text/html": [
       "\n",
       "    <div>\n",
       "      <progress value='4000' class='' max='4000' style='width:300px; height:20px; vertical-align: middle;'></progress>\n",
       "      100.00% [4000/4000 00:04&lt;00:00 Sampling chain 3, 0 divergences]\n",
       "    </div>\n",
       "    "
      ],
      "text/plain": [
       "<IPython.core.display.HTML object>"
      ]
     },
     "metadata": {},
     "output_type": "display_data"
    },
    {
     "name": "stderr",
     "output_type": "stream",
     "text": [
      "Sampling 4 chains for 2_000 tune and 2_000 draw iterations (8_000 + 8_000 draws total) took 16 seconds.\n",
      "Auto-assigning NUTS sampler...\n",
      "Initializing NUTS using jitter+adapt_diag...\n",
      "Sequential sampling (4 chains in 1 job)\n",
      "NUTS: [Intercept, Age_group, Slope_sigma, Slope_nu]\n"
     ]
    },
    {
     "data": {
      "text/html": [
       "\n",
       "<style>\n",
       "    /* Turns off some styling */\n",
       "    progress {\n",
       "        /* gets rid of default border in Firefox and Opera. */\n",
       "        border: none;\n",
       "        /* Needs to be in here for Safari polyfill so background images work as expected. */\n",
       "        background-size: auto;\n",
       "    }\n",
       "    progress:not([value]), progress:not([value])::-webkit-progress-bar {\n",
       "        background: repeating-linear-gradient(45deg, #7e7e7e, #7e7e7e 10px, #5c5c5c 10px, #5c5c5c 20px);\n",
       "    }\n",
       "    .progress-bar-interrupted, .progress-bar-interrupted::-webkit-progress-bar {\n",
       "        background: #F44336;\n",
       "    }\n",
       "</style>\n"
      ],
      "text/plain": [
       "<IPython.core.display.HTML object>"
      ]
     },
     "metadata": {},
     "output_type": "display_data"
    },
    {
     "data": {
      "text/html": [
       "\n",
       "    <div>\n",
       "      <progress value='4000' class='' max='4000' style='width:300px; height:20px; vertical-align: middle;'></progress>\n",
       "      100.00% [4000/4000 00:03&lt;00:00 Sampling chain 0, 0 divergences]\n",
       "    </div>\n",
       "    "
      ],
      "text/plain": [
       "<IPython.core.display.HTML object>"
      ]
     },
     "metadata": {},
     "output_type": "display_data"
    },
    {
     "data": {
      "text/html": [
       "\n",
       "<style>\n",
       "    /* Turns off some styling */\n",
       "    progress {\n",
       "        /* gets rid of default border in Firefox and Opera. */\n",
       "        border: none;\n",
       "        /* Needs to be in here for Safari polyfill so background images work as expected. */\n",
       "        background-size: auto;\n",
       "    }\n",
       "    progress:not([value]), progress:not([value])::-webkit-progress-bar {\n",
       "        background: repeating-linear-gradient(45deg, #7e7e7e, #7e7e7e 10px, #5c5c5c 10px, #5c5c5c 20px);\n",
       "    }\n",
       "    .progress-bar-interrupted, .progress-bar-interrupted::-webkit-progress-bar {\n",
       "        background: #F44336;\n",
       "    }\n",
       "</style>\n"
      ],
      "text/plain": [
       "<IPython.core.display.HTML object>"
      ]
     },
     "metadata": {},
     "output_type": "display_data"
    },
    {
     "data": {
      "text/html": [
       "\n",
       "    <div>\n",
       "      <progress value='4000' class='' max='4000' style='width:300px; height:20px; vertical-align: middle;'></progress>\n",
       "      100.00% [4000/4000 00:03&lt;00:00 Sampling chain 1, 0 divergences]\n",
       "    </div>\n",
       "    "
      ],
      "text/plain": [
       "<IPython.core.display.HTML object>"
      ]
     },
     "metadata": {},
     "output_type": "display_data"
    },
    {
     "data": {
      "text/html": [
       "\n",
       "<style>\n",
       "    /* Turns off some styling */\n",
       "    progress {\n",
       "        /* gets rid of default border in Firefox and Opera. */\n",
       "        border: none;\n",
       "        /* Needs to be in here for Safari polyfill so background images work as expected. */\n",
       "        background-size: auto;\n",
       "    }\n",
       "    progress:not([value]), progress:not([value])::-webkit-progress-bar {\n",
       "        background: repeating-linear-gradient(45deg, #7e7e7e, #7e7e7e 10px, #5c5c5c 10px, #5c5c5c 20px);\n",
       "    }\n",
       "    .progress-bar-interrupted, .progress-bar-interrupted::-webkit-progress-bar {\n",
       "        background: #F44336;\n",
       "    }\n",
       "</style>\n"
      ],
      "text/plain": [
       "<IPython.core.display.HTML object>"
      ]
     },
     "metadata": {},
     "output_type": "display_data"
    },
    {
     "data": {
      "text/html": [
       "\n",
       "    <div>\n",
       "      <progress value='4000' class='' max='4000' style='width:300px; height:20px; vertical-align: middle;'></progress>\n",
       "      100.00% [4000/4000 00:03&lt;00:00 Sampling chain 2, 0 divergences]\n",
       "    </div>\n",
       "    "
      ],
      "text/plain": [
       "<IPython.core.display.HTML object>"
      ]
     },
     "metadata": {},
     "output_type": "display_data"
    },
    {
     "data": {
      "text/html": [
       "\n",
       "<style>\n",
       "    /* Turns off some styling */\n",
       "    progress {\n",
       "        /* gets rid of default border in Firefox and Opera. */\n",
       "        border: none;\n",
       "        /* Needs to be in here for Safari polyfill so background images work as expected. */\n",
       "        background-size: auto;\n",
       "    }\n",
       "    progress:not([value]), progress:not([value])::-webkit-progress-bar {\n",
       "        background: repeating-linear-gradient(45deg, #7e7e7e, #7e7e7e 10px, #5c5c5c 10px, #5c5c5c 20px);\n",
       "    }\n",
       "    .progress-bar-interrupted, .progress-bar-interrupted::-webkit-progress-bar {\n",
       "        background: #F44336;\n",
       "    }\n",
       "</style>\n"
      ],
      "text/plain": [
       "<IPython.core.display.HTML object>"
      ]
     },
     "metadata": {},
     "output_type": "display_data"
    },
    {
     "data": {
      "text/html": [
       "\n",
       "    <div>\n",
       "      <progress value='4000' class='' max='4000' style='width:300px; height:20px; vertical-align: middle;'></progress>\n",
       "      100.00% [4000/4000 00:03&lt;00:00 Sampling chain 3, 0 divergences]\n",
       "    </div>\n",
       "    "
      ],
      "text/plain": [
       "<IPython.core.display.HTML object>"
      ]
     },
     "metadata": {},
     "output_type": "display_data"
    },
    {
     "name": "stderr",
     "output_type": "stream",
     "text": [
      "Sampling 4 chains for 2_000 tune and 2_000 draw iterations (8_000 + 8_000 draws total) took 15 seconds.\n",
      "Auto-assigning NUTS sampler...\n",
      "Initializing NUTS using jitter+adapt_diag...\n",
      "Sequential sampling (4 chains in 1 job)\n",
      "NUTS: [Intercept, Age_group, Slope_sigma, Slope_nu]\n"
     ]
    },
    {
     "data": {
      "text/html": [
       "\n",
       "<style>\n",
       "    /* Turns off some styling */\n",
       "    progress {\n",
       "        /* gets rid of default border in Firefox and Opera. */\n",
       "        border: none;\n",
       "        /* Needs to be in here for Safari polyfill so background images work as expected. */\n",
       "        background-size: auto;\n",
       "    }\n",
       "    progress:not([value]), progress:not([value])::-webkit-progress-bar {\n",
       "        background: repeating-linear-gradient(45deg, #7e7e7e, #7e7e7e 10px, #5c5c5c 10px, #5c5c5c 20px);\n",
       "    }\n",
       "    .progress-bar-interrupted, .progress-bar-interrupted::-webkit-progress-bar {\n",
       "        background: #F44336;\n",
       "    }\n",
       "</style>\n"
      ],
      "text/plain": [
       "<IPython.core.display.HTML object>"
      ]
     },
     "metadata": {},
     "output_type": "display_data"
    },
    {
     "data": {
      "text/html": [
       "\n",
       "    <div>\n",
       "      <progress value='4000' class='' max='4000' style='width:300px; height:20px; vertical-align: middle;'></progress>\n",
       "      100.00% [4000/4000 00:03&lt;00:00 Sampling chain 0, 0 divergences]\n",
       "    </div>\n",
       "    "
      ],
      "text/plain": [
       "<IPython.core.display.HTML object>"
      ]
     },
     "metadata": {},
     "output_type": "display_data"
    },
    {
     "data": {
      "text/html": [
       "\n",
       "<style>\n",
       "    /* Turns off some styling */\n",
       "    progress {\n",
       "        /* gets rid of default border in Firefox and Opera. */\n",
       "        border: none;\n",
       "        /* Needs to be in here for Safari polyfill so background images work as expected. */\n",
       "        background-size: auto;\n",
       "    }\n",
       "    progress:not([value]), progress:not([value])::-webkit-progress-bar {\n",
       "        background: repeating-linear-gradient(45deg, #7e7e7e, #7e7e7e 10px, #5c5c5c 10px, #5c5c5c 20px);\n",
       "    }\n",
       "    .progress-bar-interrupted, .progress-bar-interrupted::-webkit-progress-bar {\n",
       "        background: #F44336;\n",
       "    }\n",
       "</style>\n"
      ],
      "text/plain": [
       "<IPython.core.display.HTML object>"
      ]
     },
     "metadata": {},
     "output_type": "display_data"
    },
    {
     "data": {
      "text/html": [
       "\n",
       "    <div>\n",
       "      <progress value='4000' class='' max='4000' style='width:300px; height:20px; vertical-align: middle;'></progress>\n",
       "      100.00% [4000/4000 00:04&lt;00:00 Sampling chain 1, 0 divergences]\n",
       "    </div>\n",
       "    "
      ],
      "text/plain": [
       "<IPython.core.display.HTML object>"
      ]
     },
     "metadata": {},
     "output_type": "display_data"
    },
    {
     "data": {
      "text/html": [
       "\n",
       "<style>\n",
       "    /* Turns off some styling */\n",
       "    progress {\n",
       "        /* gets rid of default border in Firefox and Opera. */\n",
       "        border: none;\n",
       "        /* Needs to be in here for Safari polyfill so background images work as expected. */\n",
       "        background-size: auto;\n",
       "    }\n",
       "    progress:not([value]), progress:not([value])::-webkit-progress-bar {\n",
       "        background: repeating-linear-gradient(45deg, #7e7e7e, #7e7e7e 10px, #5c5c5c 10px, #5c5c5c 20px);\n",
       "    }\n",
       "    .progress-bar-interrupted, .progress-bar-interrupted::-webkit-progress-bar {\n",
       "        background: #F44336;\n",
       "    }\n",
       "</style>\n"
      ],
      "text/plain": [
       "<IPython.core.display.HTML object>"
      ]
     },
     "metadata": {},
     "output_type": "display_data"
    },
    {
     "data": {
      "text/html": [
       "\n",
       "    <div>\n",
       "      <progress value='4000' class='' max='4000' style='width:300px; height:20px; vertical-align: middle;'></progress>\n",
       "      100.00% [4000/4000 00:04&lt;00:00 Sampling chain 2, 0 divergences]\n",
       "    </div>\n",
       "    "
      ],
      "text/plain": [
       "<IPython.core.display.HTML object>"
      ]
     },
     "metadata": {},
     "output_type": "display_data"
    },
    {
     "data": {
      "text/html": [
       "\n",
       "<style>\n",
       "    /* Turns off some styling */\n",
       "    progress {\n",
       "        /* gets rid of default border in Firefox and Opera. */\n",
       "        border: none;\n",
       "        /* Needs to be in here for Safari polyfill so background images work as expected. */\n",
       "        background-size: auto;\n",
       "    }\n",
       "    progress:not([value]), progress:not([value])::-webkit-progress-bar {\n",
       "        background: repeating-linear-gradient(45deg, #7e7e7e, #7e7e7e 10px, #5c5c5c 10px, #5c5c5c 20px);\n",
       "    }\n",
       "    .progress-bar-interrupted, .progress-bar-interrupted::-webkit-progress-bar {\n",
       "        background: #F44336;\n",
       "    }\n",
       "</style>\n"
      ],
      "text/plain": [
       "<IPython.core.display.HTML object>"
      ]
     },
     "metadata": {},
     "output_type": "display_data"
    },
    {
     "data": {
      "text/html": [
       "\n",
       "    <div>\n",
       "      <progress value='4000' class='' max='4000' style='width:300px; height:20px; vertical-align: middle;'></progress>\n",
       "      100.00% [4000/4000 00:03&lt;00:00 Sampling chain 3, 0 divergences]\n",
       "    </div>\n",
       "    "
      ],
      "text/plain": [
       "<IPython.core.display.HTML object>"
      ]
     },
     "metadata": {},
     "output_type": "display_data"
    },
    {
     "name": "stderr",
     "output_type": "stream",
     "text": [
      "Sampling 4 chains for 2_000 tune and 2_000 draw iterations (8_000 + 8_000 draws total) took 16 seconds.\n",
      "Auto-assigning NUTS sampler...\n",
      "Initializing NUTS using jitter+adapt_diag...\n",
      "Sequential sampling (4 chains in 1 job)\n",
      "NUTS: [Intercept, Age_group, Slope_sigma, Slope_nu]\n"
     ]
    },
    {
     "data": {
      "text/html": [
       "\n",
       "<style>\n",
       "    /* Turns off some styling */\n",
       "    progress {\n",
       "        /* gets rid of default border in Firefox and Opera. */\n",
       "        border: none;\n",
       "        /* Needs to be in here for Safari polyfill so background images work as expected. */\n",
       "        background-size: auto;\n",
       "    }\n",
       "    progress:not([value]), progress:not([value])::-webkit-progress-bar {\n",
       "        background: repeating-linear-gradient(45deg, #7e7e7e, #7e7e7e 10px, #5c5c5c 10px, #5c5c5c 20px);\n",
       "    }\n",
       "    .progress-bar-interrupted, .progress-bar-interrupted::-webkit-progress-bar {\n",
       "        background: #F44336;\n",
       "    }\n",
       "</style>\n"
      ],
      "text/plain": [
       "<IPython.core.display.HTML object>"
      ]
     },
     "metadata": {},
     "output_type": "display_data"
    },
    {
     "data": {
      "text/html": [
       "\n",
       "    <div>\n",
       "      <progress value='4000' class='' max='4000' style='width:300px; height:20px; vertical-align: middle;'></progress>\n",
       "      100.00% [4000/4000 00:04&lt;00:00 Sampling chain 0, 0 divergences]\n",
       "    </div>\n",
       "    "
      ],
      "text/plain": [
       "<IPython.core.display.HTML object>"
      ]
     },
     "metadata": {},
     "output_type": "display_data"
    },
    {
     "data": {
      "text/html": [
       "\n",
       "<style>\n",
       "    /* Turns off some styling */\n",
       "    progress {\n",
       "        /* gets rid of default border in Firefox and Opera. */\n",
       "        border: none;\n",
       "        /* Needs to be in here for Safari polyfill so background images work as expected. */\n",
       "        background-size: auto;\n",
       "    }\n",
       "    progress:not([value]), progress:not([value])::-webkit-progress-bar {\n",
       "        background: repeating-linear-gradient(45deg, #7e7e7e, #7e7e7e 10px, #5c5c5c 10px, #5c5c5c 20px);\n",
       "    }\n",
       "    .progress-bar-interrupted, .progress-bar-interrupted::-webkit-progress-bar {\n",
       "        background: #F44336;\n",
       "    }\n",
       "</style>\n"
      ],
      "text/plain": [
       "<IPython.core.display.HTML object>"
      ]
     },
     "metadata": {},
     "output_type": "display_data"
    },
    {
     "data": {
      "text/html": [
       "\n",
       "    <div>\n",
       "      <progress value='4000' class='' max='4000' style='width:300px; height:20px; vertical-align: middle;'></progress>\n",
       "      100.00% [4000/4000 00:04&lt;00:00 Sampling chain 1, 0 divergences]\n",
       "    </div>\n",
       "    "
      ],
      "text/plain": [
       "<IPython.core.display.HTML object>"
      ]
     },
     "metadata": {},
     "output_type": "display_data"
    },
    {
     "data": {
      "text/html": [
       "\n",
       "<style>\n",
       "    /* Turns off some styling */\n",
       "    progress {\n",
       "        /* gets rid of default border in Firefox and Opera. */\n",
       "        border: none;\n",
       "        /* Needs to be in here for Safari polyfill so background images work as expected. */\n",
       "        background-size: auto;\n",
       "    }\n",
       "    progress:not([value]), progress:not([value])::-webkit-progress-bar {\n",
       "        background: repeating-linear-gradient(45deg, #7e7e7e, #7e7e7e 10px, #5c5c5c 10px, #5c5c5c 20px);\n",
       "    }\n",
       "    .progress-bar-interrupted, .progress-bar-interrupted::-webkit-progress-bar {\n",
       "        background: #F44336;\n",
       "    }\n",
       "</style>\n"
      ],
      "text/plain": [
       "<IPython.core.display.HTML object>"
      ]
     },
     "metadata": {},
     "output_type": "display_data"
    },
    {
     "data": {
      "text/html": [
       "\n",
       "    <div>\n",
       "      <progress value='4000' class='' max='4000' style='width:300px; height:20px; vertical-align: middle;'></progress>\n",
       "      100.00% [4000/4000 00:05&lt;00:00 Sampling chain 2, 0 divergences]\n",
       "    </div>\n",
       "    "
      ],
      "text/plain": [
       "<IPython.core.display.HTML object>"
      ]
     },
     "metadata": {},
     "output_type": "display_data"
    },
    {
     "data": {
      "text/html": [
       "\n",
       "<style>\n",
       "    /* Turns off some styling */\n",
       "    progress {\n",
       "        /* gets rid of default border in Firefox and Opera. */\n",
       "        border: none;\n",
       "        /* Needs to be in here for Safari polyfill so background images work as expected. */\n",
       "        background-size: auto;\n",
       "    }\n",
       "    progress:not([value]), progress:not([value])::-webkit-progress-bar {\n",
       "        background: repeating-linear-gradient(45deg, #7e7e7e, #7e7e7e 10px, #5c5c5c 10px, #5c5c5c 20px);\n",
       "    }\n",
       "    .progress-bar-interrupted, .progress-bar-interrupted::-webkit-progress-bar {\n",
       "        background: #F44336;\n",
       "    }\n",
       "</style>\n"
      ],
      "text/plain": [
       "<IPython.core.display.HTML object>"
      ]
     },
     "metadata": {},
     "output_type": "display_data"
    },
    {
     "data": {
      "text/html": [
       "\n",
       "    <div>\n",
       "      <progress value='4000' class='' max='4000' style='width:300px; height:20px; vertical-align: middle;'></progress>\n",
       "      100.00% [4000/4000 00:04&lt;00:00 Sampling chain 3, 0 divergences]\n",
       "    </div>\n",
       "    "
      ],
      "text/plain": [
       "<IPython.core.display.HTML object>"
      ]
     },
     "metadata": {},
     "output_type": "display_data"
    },
    {
     "name": "stderr",
     "output_type": "stream",
     "text": [
      "Sampling 4 chains for 2_000 tune and 2_000 draw iterations (8_000 + 8_000 draws total) took 20 seconds.\n",
      "Auto-assigning NUTS sampler...\n",
      "Initializing NUTS using jitter+adapt_diag...\n",
      "Sequential sampling (4 chains in 1 job)\n",
      "NUTS: [Intercept, Age_group, Slope_sigma, Slope_nu]\n"
     ]
    },
    {
     "data": {
      "text/html": [
       "\n",
       "<style>\n",
       "    /* Turns off some styling */\n",
       "    progress {\n",
       "        /* gets rid of default border in Firefox and Opera. */\n",
       "        border: none;\n",
       "        /* Needs to be in here for Safari polyfill so background images work as expected. */\n",
       "        background-size: auto;\n",
       "    }\n",
       "    progress:not([value]), progress:not([value])::-webkit-progress-bar {\n",
       "        background: repeating-linear-gradient(45deg, #7e7e7e, #7e7e7e 10px, #5c5c5c 10px, #5c5c5c 20px);\n",
       "    }\n",
       "    .progress-bar-interrupted, .progress-bar-interrupted::-webkit-progress-bar {\n",
       "        background: #F44336;\n",
       "    }\n",
       "</style>\n"
      ],
      "text/plain": [
       "<IPython.core.display.HTML object>"
      ]
     },
     "metadata": {},
     "output_type": "display_data"
    },
    {
     "data": {
      "text/html": [
       "\n",
       "    <div>\n",
       "      <progress value='4000' class='' max='4000' style='width:300px; height:20px; vertical-align: middle;'></progress>\n",
       "      100.00% [4000/4000 00:04&lt;00:00 Sampling chain 0, 0 divergences]\n",
       "    </div>\n",
       "    "
      ],
      "text/plain": [
       "<IPython.core.display.HTML object>"
      ]
     },
     "metadata": {},
     "output_type": "display_data"
    },
    {
     "data": {
      "text/html": [
       "\n",
       "<style>\n",
       "    /* Turns off some styling */\n",
       "    progress {\n",
       "        /* gets rid of default border in Firefox and Opera. */\n",
       "        border: none;\n",
       "        /* Needs to be in here for Safari polyfill so background images work as expected. */\n",
       "        background-size: auto;\n",
       "    }\n",
       "    progress:not([value]), progress:not([value])::-webkit-progress-bar {\n",
       "        background: repeating-linear-gradient(45deg, #7e7e7e, #7e7e7e 10px, #5c5c5c 10px, #5c5c5c 20px);\n",
       "    }\n",
       "    .progress-bar-interrupted, .progress-bar-interrupted::-webkit-progress-bar {\n",
       "        background: #F44336;\n",
       "    }\n",
       "</style>\n"
      ],
      "text/plain": [
       "<IPython.core.display.HTML object>"
      ]
     },
     "metadata": {},
     "output_type": "display_data"
    },
    {
     "data": {
      "text/html": [
       "\n",
       "    <div>\n",
       "      <progress value='4000' class='' max='4000' style='width:300px; height:20px; vertical-align: middle;'></progress>\n",
       "      100.00% [4000/4000 00:04&lt;00:00 Sampling chain 1, 0 divergences]\n",
       "    </div>\n",
       "    "
      ],
      "text/plain": [
       "<IPython.core.display.HTML object>"
      ]
     },
     "metadata": {},
     "output_type": "display_data"
    },
    {
     "data": {
      "text/html": [
       "\n",
       "<style>\n",
       "    /* Turns off some styling */\n",
       "    progress {\n",
       "        /* gets rid of default border in Firefox and Opera. */\n",
       "        border: none;\n",
       "        /* Needs to be in here for Safari polyfill so background images work as expected. */\n",
       "        background-size: auto;\n",
       "    }\n",
       "    progress:not([value]), progress:not([value])::-webkit-progress-bar {\n",
       "        background: repeating-linear-gradient(45deg, #7e7e7e, #7e7e7e 10px, #5c5c5c 10px, #5c5c5c 20px);\n",
       "    }\n",
       "    .progress-bar-interrupted, .progress-bar-interrupted::-webkit-progress-bar {\n",
       "        background: #F44336;\n",
       "    }\n",
       "</style>\n"
      ],
      "text/plain": [
       "<IPython.core.display.HTML object>"
      ]
     },
     "metadata": {},
     "output_type": "display_data"
    },
    {
     "data": {
      "text/html": [
       "\n",
       "    <div>\n",
       "      <progress value='4000' class='' max='4000' style='width:300px; height:20px; vertical-align: middle;'></progress>\n",
       "      100.00% [4000/4000 00:04&lt;00:00 Sampling chain 2, 0 divergences]\n",
       "    </div>\n",
       "    "
      ],
      "text/plain": [
       "<IPython.core.display.HTML object>"
      ]
     },
     "metadata": {},
     "output_type": "display_data"
    },
    {
     "data": {
      "text/html": [
       "\n",
       "<style>\n",
       "    /* Turns off some styling */\n",
       "    progress {\n",
       "        /* gets rid of default border in Firefox and Opera. */\n",
       "        border: none;\n",
       "        /* Needs to be in here for Safari polyfill so background images work as expected. */\n",
       "        background-size: auto;\n",
       "    }\n",
       "    progress:not([value]), progress:not([value])::-webkit-progress-bar {\n",
       "        background: repeating-linear-gradient(45deg, #7e7e7e, #7e7e7e 10px, #5c5c5c 10px, #5c5c5c 20px);\n",
       "    }\n",
       "    .progress-bar-interrupted, .progress-bar-interrupted::-webkit-progress-bar {\n",
       "        background: #F44336;\n",
       "    }\n",
       "</style>\n"
      ],
      "text/plain": [
       "<IPython.core.display.HTML object>"
      ]
     },
     "metadata": {},
     "output_type": "display_data"
    },
    {
     "data": {
      "text/html": [
       "\n",
       "    <div>\n",
       "      <progress value='4000' class='' max='4000' style='width:300px; height:20px; vertical-align: middle;'></progress>\n",
       "      100.00% [4000/4000 00:04&lt;00:00 Sampling chain 3, 0 divergences]\n",
       "    </div>\n",
       "    "
      ],
      "text/plain": [
       "<IPython.core.display.HTML object>"
      ]
     },
     "metadata": {},
     "output_type": "display_data"
    },
    {
     "name": "stderr",
     "output_type": "stream",
     "text": [
      "Sampling 4 chains for 2_000 tune and 2_000 draw iterations (8_000 + 8_000 draws total) took 19 seconds.\n",
      "Auto-assigning NUTS sampler...\n",
      "Initializing NUTS using jitter+adapt_diag...\n",
      "Sequential sampling (4 chains in 1 job)\n",
      "NUTS: [Intercept, Age_group, Slope_sigma, Slope_nu]\n"
     ]
    },
    {
     "data": {
      "text/html": [
       "\n",
       "<style>\n",
       "    /* Turns off some styling */\n",
       "    progress {\n",
       "        /* gets rid of default border in Firefox and Opera. */\n",
       "        border: none;\n",
       "        /* Needs to be in here for Safari polyfill so background images work as expected. */\n",
       "        background-size: auto;\n",
       "    }\n",
       "    progress:not([value]), progress:not([value])::-webkit-progress-bar {\n",
       "        background: repeating-linear-gradient(45deg, #7e7e7e, #7e7e7e 10px, #5c5c5c 10px, #5c5c5c 20px);\n",
       "    }\n",
       "    .progress-bar-interrupted, .progress-bar-interrupted::-webkit-progress-bar {\n",
       "        background: #F44336;\n",
       "    }\n",
       "</style>\n"
      ],
      "text/plain": [
       "<IPython.core.display.HTML object>"
      ]
     },
     "metadata": {},
     "output_type": "display_data"
    },
    {
     "data": {
      "text/html": [
       "\n",
       "    <div>\n",
       "      <progress value='4000' class='' max='4000' style='width:300px; height:20px; vertical-align: middle;'></progress>\n",
       "      100.00% [4000/4000 00:04&lt;00:00 Sampling chain 0, 0 divergences]\n",
       "    </div>\n",
       "    "
      ],
      "text/plain": [
       "<IPython.core.display.HTML object>"
      ]
     },
     "metadata": {},
     "output_type": "display_data"
    },
    {
     "data": {
      "text/html": [
       "\n",
       "<style>\n",
       "    /* Turns off some styling */\n",
       "    progress {\n",
       "        /* gets rid of default border in Firefox and Opera. */\n",
       "        border: none;\n",
       "        /* Needs to be in here for Safari polyfill so background images work as expected. */\n",
       "        background-size: auto;\n",
       "    }\n",
       "    progress:not([value]), progress:not([value])::-webkit-progress-bar {\n",
       "        background: repeating-linear-gradient(45deg, #7e7e7e, #7e7e7e 10px, #5c5c5c 10px, #5c5c5c 20px);\n",
       "    }\n",
       "    .progress-bar-interrupted, .progress-bar-interrupted::-webkit-progress-bar {\n",
       "        background: #F44336;\n",
       "    }\n",
       "</style>\n"
      ],
      "text/plain": [
       "<IPython.core.display.HTML object>"
      ]
     },
     "metadata": {},
     "output_type": "display_data"
    },
    {
     "data": {
      "text/html": [
       "\n",
       "    <div>\n",
       "      <progress value='4000' class='' max='4000' style='width:300px; height:20px; vertical-align: middle;'></progress>\n",
       "      100.00% [4000/4000 00:04&lt;00:00 Sampling chain 1, 0 divergences]\n",
       "    </div>\n",
       "    "
      ],
      "text/plain": [
       "<IPython.core.display.HTML object>"
      ]
     },
     "metadata": {},
     "output_type": "display_data"
    },
    {
     "data": {
      "text/html": [
       "\n",
       "<style>\n",
       "    /* Turns off some styling */\n",
       "    progress {\n",
       "        /* gets rid of default border in Firefox and Opera. */\n",
       "        border: none;\n",
       "        /* Needs to be in here for Safari polyfill so background images work as expected. */\n",
       "        background-size: auto;\n",
       "    }\n",
       "    progress:not([value]), progress:not([value])::-webkit-progress-bar {\n",
       "        background: repeating-linear-gradient(45deg, #7e7e7e, #7e7e7e 10px, #5c5c5c 10px, #5c5c5c 20px);\n",
       "    }\n",
       "    .progress-bar-interrupted, .progress-bar-interrupted::-webkit-progress-bar {\n",
       "        background: #F44336;\n",
       "    }\n",
       "</style>\n"
      ],
      "text/plain": [
       "<IPython.core.display.HTML object>"
      ]
     },
     "metadata": {},
     "output_type": "display_data"
    },
    {
     "data": {
      "text/html": [
       "\n",
       "    <div>\n",
       "      <progress value='4000' class='' max='4000' style='width:300px; height:20px; vertical-align: middle;'></progress>\n",
       "      100.00% [4000/4000 00:04&lt;00:00 Sampling chain 2, 0 divergences]\n",
       "    </div>\n",
       "    "
      ],
      "text/plain": [
       "<IPython.core.display.HTML object>"
      ]
     },
     "metadata": {},
     "output_type": "display_data"
    },
    {
     "data": {
      "text/html": [
       "\n",
       "<style>\n",
       "    /* Turns off some styling */\n",
       "    progress {\n",
       "        /* gets rid of default border in Firefox and Opera. */\n",
       "        border: none;\n",
       "        /* Needs to be in here for Safari polyfill so background images work as expected. */\n",
       "        background-size: auto;\n",
       "    }\n",
       "    progress:not([value]), progress:not([value])::-webkit-progress-bar {\n",
       "        background: repeating-linear-gradient(45deg, #7e7e7e, #7e7e7e 10px, #5c5c5c 10px, #5c5c5c 20px);\n",
       "    }\n",
       "    .progress-bar-interrupted, .progress-bar-interrupted::-webkit-progress-bar {\n",
       "        background: #F44336;\n",
       "    }\n",
       "</style>\n"
      ],
      "text/plain": [
       "<IPython.core.display.HTML object>"
      ]
     },
     "metadata": {},
     "output_type": "display_data"
    },
    {
     "data": {
      "text/html": [
       "\n",
       "    <div>\n",
       "      <progress value='4000' class='' max='4000' style='width:300px; height:20px; vertical-align: middle;'></progress>\n",
       "      100.00% [4000/4000 00:04&lt;00:00 Sampling chain 3, 0 divergences]\n",
       "    </div>\n",
       "    "
      ],
      "text/plain": [
       "<IPython.core.display.HTML object>"
      ]
     },
     "metadata": {},
     "output_type": "display_data"
    },
    {
     "name": "stderr",
     "output_type": "stream",
     "text": [
      "Sampling 4 chains for 2_000 tune and 2_000 draw iterations (8_000 + 8_000 draws total) took 16 seconds.\n",
      "Auto-assigning NUTS sampler...\n",
      "Initializing NUTS using jitter+adapt_diag...\n",
      "Sequential sampling (4 chains in 1 job)\n",
      "NUTS: [Intercept, Age_group, Slope_sigma, Slope_nu]\n"
     ]
    },
    {
     "data": {
      "text/html": [
       "\n",
       "<style>\n",
       "    /* Turns off some styling */\n",
       "    progress {\n",
       "        /* gets rid of default border in Firefox and Opera. */\n",
       "        border: none;\n",
       "        /* Needs to be in here for Safari polyfill so background images work as expected. */\n",
       "        background-size: auto;\n",
       "    }\n",
       "    progress:not([value]), progress:not([value])::-webkit-progress-bar {\n",
       "        background: repeating-linear-gradient(45deg, #7e7e7e, #7e7e7e 10px, #5c5c5c 10px, #5c5c5c 20px);\n",
       "    }\n",
       "    .progress-bar-interrupted, .progress-bar-interrupted::-webkit-progress-bar {\n",
       "        background: #F44336;\n",
       "    }\n",
       "</style>\n"
      ],
      "text/plain": [
       "<IPython.core.display.HTML object>"
      ]
     },
     "metadata": {},
     "output_type": "display_data"
    },
    {
     "data": {
      "text/html": [
       "\n",
       "    <div>\n",
       "      <progress value='4000' class='' max='4000' style='width:300px; height:20px; vertical-align: middle;'></progress>\n",
       "      100.00% [4000/4000 00:03&lt;00:00 Sampling chain 0, 0 divergences]\n",
       "    </div>\n",
       "    "
      ],
      "text/plain": [
       "<IPython.core.display.HTML object>"
      ]
     },
     "metadata": {},
     "output_type": "display_data"
    },
    {
     "data": {
      "text/html": [
       "\n",
       "<style>\n",
       "    /* Turns off some styling */\n",
       "    progress {\n",
       "        /* gets rid of default border in Firefox and Opera. */\n",
       "        border: none;\n",
       "        /* Needs to be in here for Safari polyfill so background images work as expected. */\n",
       "        background-size: auto;\n",
       "    }\n",
       "    progress:not([value]), progress:not([value])::-webkit-progress-bar {\n",
       "        background: repeating-linear-gradient(45deg, #7e7e7e, #7e7e7e 10px, #5c5c5c 10px, #5c5c5c 20px);\n",
       "    }\n",
       "    .progress-bar-interrupted, .progress-bar-interrupted::-webkit-progress-bar {\n",
       "        background: #F44336;\n",
       "    }\n",
       "</style>\n"
      ],
      "text/plain": [
       "<IPython.core.display.HTML object>"
      ]
     },
     "metadata": {},
     "output_type": "display_data"
    },
    {
     "data": {
      "text/html": [
       "\n",
       "    <div>\n",
       "      <progress value='4000' class='' max='4000' style='width:300px; height:20px; vertical-align: middle;'></progress>\n",
       "      100.00% [4000/4000 00:04&lt;00:00 Sampling chain 1, 0 divergences]\n",
       "    </div>\n",
       "    "
      ],
      "text/plain": [
       "<IPython.core.display.HTML object>"
      ]
     },
     "metadata": {},
     "output_type": "display_data"
    },
    {
     "data": {
      "text/html": [
       "\n",
       "<style>\n",
       "    /* Turns off some styling */\n",
       "    progress {\n",
       "        /* gets rid of default border in Firefox and Opera. */\n",
       "        border: none;\n",
       "        /* Needs to be in here for Safari polyfill so background images work as expected. */\n",
       "        background-size: auto;\n",
       "    }\n",
       "    progress:not([value]), progress:not([value])::-webkit-progress-bar {\n",
       "        background: repeating-linear-gradient(45deg, #7e7e7e, #7e7e7e 10px, #5c5c5c 10px, #5c5c5c 20px);\n",
       "    }\n",
       "    .progress-bar-interrupted, .progress-bar-interrupted::-webkit-progress-bar {\n",
       "        background: #F44336;\n",
       "    }\n",
       "</style>\n"
      ],
      "text/plain": [
       "<IPython.core.display.HTML object>"
      ]
     },
     "metadata": {},
     "output_type": "display_data"
    },
    {
     "data": {
      "text/html": [
       "\n",
       "    <div>\n",
       "      <progress value='4000' class='' max='4000' style='width:300px; height:20px; vertical-align: middle;'></progress>\n",
       "      100.00% [4000/4000 00:04&lt;00:00 Sampling chain 2, 0 divergences]\n",
       "    </div>\n",
       "    "
      ],
      "text/plain": [
       "<IPython.core.display.HTML object>"
      ]
     },
     "metadata": {},
     "output_type": "display_data"
    },
    {
     "data": {
      "text/html": [
       "\n",
       "<style>\n",
       "    /* Turns off some styling */\n",
       "    progress {\n",
       "        /* gets rid of default border in Firefox and Opera. */\n",
       "        border: none;\n",
       "        /* Needs to be in here for Safari polyfill so background images work as expected. */\n",
       "        background-size: auto;\n",
       "    }\n",
       "    progress:not([value]), progress:not([value])::-webkit-progress-bar {\n",
       "        background: repeating-linear-gradient(45deg, #7e7e7e, #7e7e7e 10px, #5c5c5c 10px, #5c5c5c 20px);\n",
       "    }\n",
       "    .progress-bar-interrupted, .progress-bar-interrupted::-webkit-progress-bar {\n",
       "        background: #F44336;\n",
       "    }\n",
       "</style>\n"
      ],
      "text/plain": [
       "<IPython.core.display.HTML object>"
      ]
     },
     "metadata": {},
     "output_type": "display_data"
    },
    {
     "data": {
      "text/html": [
       "\n",
       "    <div>\n",
       "      <progress value='4000' class='' max='4000' style='width:300px; height:20px; vertical-align: middle;'></progress>\n",
       "      100.00% [4000/4000 00:04&lt;00:00 Sampling chain 3, 0 divergences]\n",
       "    </div>\n",
       "    "
      ],
      "text/plain": [
       "<IPython.core.display.HTML object>"
      ]
     },
     "metadata": {},
     "output_type": "display_data"
    },
    {
     "name": "stderr",
     "output_type": "stream",
     "text": [
      "Sampling 4 chains for 2_000 tune and 2_000 draw iterations (8_000 + 8_000 draws total) took 16 seconds.\n"
     ]
    }
   ],
   "source": [
    "\n",
    "all_beta_dfs = []\n",
    "\n",
    "sample_kwargs = {'draws': 2000,\n",
    "               'tune': 2000,\n",
    "               'chains': 4,\n",
    "               'target_accept': 0.9,}\n",
    "\n",
    "for device in df2test_across['Device'].unique():\n",
    "\n",
    "    cur_device = df2test_across.query(f'Device == {device}')\n",
    "\n",
    "    for freq in cur_device['fm_freq'].unique():\n",
    "\n",
    "        cur_ds = cur_device.query(f'fm_freq == {freq}')[['Slope', 'Age_group']].copy().dropna()\n",
    "\n",
    "        mdf = bmb.Model(formula = 'Slope ~ Age_group', data=zscore(cur_ds), family='t').fit(**sample_kwargs)\n",
    "        summ = az.summary(mdf).loc['Age_group']\n",
    "\n",
    "        df_tmp = pd.DataFrame(summ).T[['mean', 'sd', 'hdi_3%', 'hdi_97%']]\n",
    "        df_tmp['freq'] = freq\n",
    "        df_tmp['Device'] = device\n",
    "\n",
    "        all_beta_dfs.append(df_tmp)"
   ]
  },
  {
   "cell_type": "code",
   "execution_count": 86,
   "id": "6d5c5dfd",
   "metadata": {},
   "outputs": [],
   "source": [
    "ecg_betas = pd.concat(all_beta_dfs)\n",
    "\n",
    "ecg_betas.to_csv('../data/ecg_effs_across_devices.csv')"
   ]
  },
  {
   "cell_type": "code",
   "execution_count": 94,
   "id": "21cc748c",
   "metadata": {},
   "outputs": [],
   "source": [
    "df_beta2plot = ecg_betas[['hdi_3%', 'hdi_97%', 'freq', 'Device']].melt(id_vars=['freq', 'Device'])"
   ]
  },
  {
   "cell_type": "code",
   "execution_count": 106,
   "id": "01812872",
   "metadata": {},
   "outputs": [
    {
     "data": {
      "image/png": "[encoded data removed]",
      "text/plain": [
       "<Figure size 400x800 with 1 Axes>"
      ]
     },
     "metadata": {},
     "output_type": "display_data"
    }
   ],
   "source": [
    "fig, ax = plt.subplots(figsize=(4,8))\n",
    "\n",
    "sns.pointplot(df_beta2plot, y='value', x='freq', palette=colors,\n",
    "                 hue='Device',  errorbar=('ci', 100), ax=ax)\n",
    "\n",
    "ax.set_ylabel('Standardized β (Age Group)')\n",
    "ax.set_xlabel('Upper Frequency Limit \\n FOOOF Model fit (Hz)')\n",
    "ax.set_xticklabels(df_beta2plot['freq'].unique(), rotation = 90)\n",
    "\n",
    "\n",
    "sns.despine()\n",
    "fig.savefig('../results/ecg_effect_across_freqs.svg')"
   ]
  },
  {
   "cell_type": "code",
   "execution_count": 23,
   "id": "15b40713",
   "metadata": {},
   "outputs": [],
   "source": [
    "#there are probably better way of doing this, but i am too lazy to think right now\n",
    "def format4expcorr(data, device_n, Knee):\n",
    "\n",
    "    data['Device'] = device_n\n",
    "    data['Knee'] = Knee\n",
    "\n",
    "    exps = data[['Device', 'Knee', 'Exponent', 'subject_id']]\n",
    "\n",
    "    return exps\n",
    "\n",
    "df_cmb_150_k['Knee'] = True\n",
    "df_cmb_150_k['subject_id'] = np.arange(len(df_cmb_150_k))\n",
    "#df_cmb_150['Knee'] = False\n",
    "\n",
    "all4knee_corr = pd.concat([#,\n",
    "                           df_cmb_150_k[['Device', 'Knee', 'Exponent', 'subject_id']],\n",
    "                           format4expcorr(exps_cmb_150_meg_cc_k, 2, True),\n",
    "                           format4expcorr(exps_cmb_150_meg_sbg_k, 3, True),])\n",
    "\n",
    "#df4corr_knee = all4knee_corr.query('Knee == False')[['Device', 'Exponent', 'subject_id']].merge(all4knee_corr.query('Knee == True')[['Device', 'Exponent', 'subject_id']], on=['subject_id', 'Device'])"
   ]
  },
  {
   "cell_type": "code",
   "execution_count": 24,
   "id": "a9547ea0",
   "metadata": {},
   "outputs": [],
   "source": [
    "#df4meg_plot = pd.concat(df_all_cmb).query('fm_freq == 145')[['Exponent', 'Age_group', 'Device']]\n",
    "df4meg_plot_k = pd.concat(df_all_cmb_k).query('fm_freq == 145')[['Exponent', 'Age_group', 'Device']]\n",
    "\n",
    "#exps_cmb_150_meg_cc = add_age_groups(exps_cmb_150_meg_cc)\n",
    "#exps_cmb_150_meg_sbg = add_age_groups(exps_cmb_150_meg_sbg)\n",
    "exps_cmb_150_meg_cc_k = add_age_groups(exps_cmb_150_meg_cc_k)\n",
    "exps_cmb_150_meg_sbg_k = add_age_groups(exps_cmb_150_meg_sbg_k)\n",
    "\n",
    "#df2corr = pd.concat([df4meg_plot, exps_cmb_150_meg_cc[['Exponent', 'Age_group', 'Device']], exps_cmb_150_meg_sbg[['Exponent', 'Age_group', 'Device']]])\n",
    "\n",
    "df2corr_k = pd.concat([df4meg_plot_k, exps_cmb_150_meg_cc_k[['Exponent', 'Age_group', 'Device']], exps_cmb_150_meg_sbg_k[['Exponent', 'Age_group', 'Device']]])"
   ]
  },
  {
   "cell_type": "code",
   "execution_count": 25,
   "id": "014e8f8f",
   "metadata": {},
   "outputs": [
    {
     "data": {
      "image/png": "[encoded data removed]",
      "text/plain": [
       "<Figure size 500x500 with 4 Axes>"
      ]
     },
     "metadata": {},
     "output_type": "display_data"
    }
   ],
   "source": [
    "df2corr_k['Slope'] = df2corr_k['Exponent'] * -1\n",
    "g = sns.lmplot(data=df2corr_k, x='Age_group', y='Slope', hue='Device', palette='Greens', \n",
    "                col='Device', col_wrap=2,\n",
    "                scatter_kws={'alpha': 0.05})\n",
    "\n",
    "g.figure.set_size_inches(5, 5, forward=True)\n",
    "g.figure.savefig('../results/ecg_only_age_k.svg')"
   ]
  },
  {
   "cell_type": "code",
   "execution_count": 26,
   "id": "487e58a8",
   "metadata": {},
   "outputs": [],
   "source": [
    "d_04baycor = df2corr_k.query('Device == 0')[['Exponent', 'Age_group']].copy().dropna()\n",
    "d_14baycor = df2corr_k.query('Device == 1')[['Exponent', 'Age_group']].copy().dropna()\n",
    "d_24baycor = df2corr_k.query('Device == 2')[['Exponent', 'Age_group']].copy().dropna()\n",
    "d_34baycor = df2corr_k.query('Device == 3')[['Exponent', 'Age_group']].copy().dropna()"
   ]
  },
  {
   "cell_type": "code",
   "execution_count": 39,
   "id": "fe16975f",
   "metadata": {},
   "outputs": [
    {
     "name": "stderr",
     "output_type": "stream",
     "text": [
      "Auto-assigning NUTS sampler...\n",
      "Initializing NUTS using jitter+adapt_diag...\n",
      "Sequential sampling (2 chains in 1 job)\n",
      "NUTS: [Intercept, Age_group, Exponent_sigma, Exponent_nu]\n"
     ]
    },
    {
     "data": {
      "text/html": [
       "\n",
       "<style>\n",
       "    /* Turns off some styling */\n",
       "    progress {\n",
       "        /* gets rid of default border in Firefox and Opera. */\n",
       "        border: none;\n",
       "        /* Needs to be in here for Safari polyfill so background images work as expected. */\n",
       "        background-size: auto;\n",
       "    }\n",
       "    progress:not([value]), progress:not([value])::-webkit-progress-bar {\n",
       "        background: repeating-linear-gradient(45deg, #7e7e7e, #7e7e7e 10px, #5c5c5c 10px, #5c5c5c 20px);\n",
       "    }\n",
       "    .progress-bar-interrupted, .progress-bar-interrupted::-webkit-progress-bar {\n",
       "        background: #F44336;\n",
       "    }\n",
       "</style>\n"
      ],
      "text/plain": [
       "<IPython.core.display.HTML object>"
      ]
     },
     "metadata": {},
     "output_type": "display_data"
    },
    {
     "data": {
      "text/html": [
       "\n",
       "    <div>\n",
       "      <progress value='2000' class='' max='2000' style='width:300px; height:20px; vertical-align: middle;'></progress>\n",
       "      100.00% [2000/2000 00:02&lt;00:00 Sampling chain 0, 0 divergences]\n",
       "    </div>\n",
       "    "
      ],
      "text/plain": [
       "<IPython.core.display.HTML object>"
      ]
     },
     "metadata": {},
     "output_type": "display_data"
    },
    {
     "data": {
      "text/html": [
       "\n",
       "<style>\n",
       "    /* Turns off some styling */\n",
       "    progress {\n",
       "        /* gets rid of default border in Firefox and Opera. */\n",
       "        border: none;\n",
       "        /* Needs to be in here for Safari polyfill so background images work as expected. */\n",
       "        background-size: auto;\n",
       "    }\n",
       "    progress:not([value]), progress:not([value])::-webkit-progress-bar {\n",
       "        background: repeating-linear-gradient(45deg, #7e7e7e, #7e7e7e 10px, #5c5c5c 10px, #5c5c5c 20px);\n",
       "    }\n",
       "    .progress-bar-interrupted, .progress-bar-interrupted::-webkit-progress-bar {\n",
       "        background: #F44336;\n",
       "    }\n",
       "</style>\n"
      ],
      "text/plain": [
       "<IPython.core.display.HTML object>"
      ]
     },
     "metadata": {},
     "output_type": "display_data"
    },
    {
     "data": {
      "text/html": [
       "\n",
       "    <div>\n",
       "      <progress value='2000' class='' max='2000' style='width:300px; height:20px; vertical-align: middle;'></progress>\n",
       "      100.00% [2000/2000 00:01&lt;00:00 Sampling chain 1, 0 divergences]\n",
       "    </div>\n",
       "    "
      ],
      "text/plain": [
       "<IPython.core.display.HTML object>"
      ]
     },
     "metadata": {},
     "output_type": "display_data"
    },
    {
     "name": "stderr",
     "output_type": "stream",
     "text": [
      "Sampling 2 chains for 1_000 tune and 1_000 draw iterations (2_000 + 2_000 draws total) took 4 seconds.\n"
     ]
    }
   ],
   "source": [
    "mdf = bmb.Model(formula = 'Exponent ~ Age_group', data=zscore(d_34baycor), family='t').fit()\n"
   ]
  },
  {
   "cell_type": "code",
   "execution_count": 47,
   "id": "9b09f651",
   "metadata": {},
   "outputs": [
    {
     "data": {
      "text/plain": [
       "mean           -0.284\n",
       "sd              0.038\n",
       "hdi_3%         -0.351\n",
       "hdi_97%        -0.210\n",
       "mcse_mean       0.001\n",
       "mcse_sd         0.001\n",
       "ess_bulk     2505.000\n",
       "ess_tail     1269.000\n",
       "r_hat           1.000\n",
       "Name: Age_group, dtype: float64"
      ]
     },
     "execution_count": 47,
     "metadata": {},
     "output_type": "execute_result"
    }
   ],
   "source": [
    "sum = az.summary(mdf).loc['Age_group']\n",
    "sum"
   ]
  },
  {
   "cell_type": "code",
   "execution_count": 110,
   "id": "af37ee5a",
   "metadata": {},
   "outputs": [
    {
     "name": "stderr",
     "output_type": "stream",
     "text": [
      "Auto-assigning NUTS sampler...\n",
      "Initializing NUTS using jitter+adapt_diag...\n",
      "Sequential sampling (4 chains in 1 job)\n",
      "NUTS: [mu_exp, mu_age, chol]\n"
     ]
    },
    {
     "data": {
      "text/html": [
       "\n",
       "<style>\n",
       "    /* Turns off some styling */\n",
       "    progress {\n",
       "        /* gets rid of default border in Firefox and Opera. */\n",
       "        border: none;\n",
       "        /* Needs to be in here for Safari polyfill so background images work as expected. */\n",
       "        background-size: auto;\n",
       "    }\n",
       "    progress:not([value]), progress:not([value])::-webkit-progress-bar {\n",
       "        background: repeating-linear-gradient(45deg, #7e7e7e, #7e7e7e 10px, #5c5c5c 10px, #5c5c5c 20px);\n",
       "    }\n",
       "    .progress-bar-interrupted, .progress-bar-interrupted::-webkit-progress-bar {\n",
       "        background: #F44336;\n",
       "    }\n",
       "</style>\n"
      ],
      "text/plain": [
       "<IPython.core.display.HTML object>"
      ]
     },
     "metadata": {},
     "output_type": "display_data"
    },
    {
     "data": {
      "text/html": [
       "\n",
       "    <div>\n",
       "      <progress value='4000' class='' max='4000' style='width:300px; height:20px; vertical-align: middle;'></progress>\n",
       "      100.00% [4000/4000 00:28&lt;00:00 Sampling chain 0, 0 divergences]\n",
       "    </div>\n",
       "    "
      ],
      "text/plain": [
       "<IPython.core.display.HTML object>"
      ]
     },
     "metadata": {},
     "output_type": "display_data"
    },
    {
     "data": {
      "text/html": [
       "\n",
       "<style>\n",
       "    /* Turns off some styling */\n",
       "    progress {\n",
       "        /* gets rid of default border in Firefox and Opera. */\n",
       "        border: none;\n",
       "        /* Needs to be in here for Safari polyfill so background images work as expected. */\n",
       "        background-size: auto;\n",
       "    }\n",
       "    progress:not([value]), progress:not([value])::-webkit-progress-bar {\n",
       "        background: repeating-linear-gradient(45deg, #7e7e7e, #7e7e7e 10px, #5c5c5c 10px, #5c5c5c 20px);\n",
       "    }\n",
       "    .progress-bar-interrupted, .progress-bar-interrupted::-webkit-progress-bar {\n",
       "        background: #F44336;\n",
       "    }\n",
       "</style>\n"
      ],
      "text/plain": [
       "<IPython.core.display.HTML object>"
      ]
     },
     "metadata": {},
     "output_type": "display_data"
    },
    {
     "data": {
      "text/html": [
       "\n",
       "    <div>\n",
       "      <progress value='4000' class='' max='4000' style='width:300px; height:20px; vertical-align: middle;'></progress>\n",
       "      100.00% [4000/4000 00:27&lt;00:00 Sampling chain 1, 0 divergences]\n",
       "    </div>\n",
       "    "
      ],
      "text/plain": [
       "<IPython.core.display.HTML object>"
      ]
     },
     "metadata": {},
     "output_type": "display_data"
    },
    {
     "data": {
      "text/html": [
       "\n",
       "<style>\n",
       "    /* Turns off some styling */\n",
       "    progress {\n",
       "        /* gets rid of default border in Firefox and Opera. */\n",
       "        border: none;\n",
       "        /* Needs to be in here for Safari polyfill so background images work as expected. */\n",
       "        background-size: auto;\n",
       "    }\n",
       "    progress:not([value]), progress:not([value])::-webkit-progress-bar {\n",
       "        background: repeating-linear-gradient(45deg, #7e7e7e, #7e7e7e 10px, #5c5c5c 10px, #5c5c5c 20px);\n",
       "    }\n",
       "    .progress-bar-interrupted, .progress-bar-interrupted::-webkit-progress-bar {\n",
       "        background: #F44336;\n",
       "    }\n",
       "</style>\n"
      ],
      "text/plain": [
       "<IPython.core.display.HTML object>"
      ]
     },
     "metadata": {},
     "output_type": "display_data"
    },
    {
     "data": {
      "text/html": [
       "\n",
       "    <div>\n",
       "      <progress value='4000' class='' max='4000' style='width:300px; height:20px; vertical-align: middle;'></progress>\n",
       "      100.00% [4000/4000 00:27&lt;00:00 Sampling chain 2, 0 divergences]\n",
       "    </div>\n",
       "    "
      ],
      "text/plain": [
       "<IPython.core.display.HTML object>"
      ]
     },
     "metadata": {},
     "output_type": "display_data"
    },
    {
     "data": {
      "text/html": [
       "\n",
       "<style>\n",
       "    /* Turns off some styling */\n",
       "    progress {\n",
       "        /* gets rid of default border in Firefox and Opera. */\n",
       "        border: none;\n",
       "        /* Needs to be in here for Safari polyfill so background images work as expected. */\n",
       "        background-size: auto;\n",
       "    }\n",
       "    progress:not([value]), progress:not([value])::-webkit-progress-bar {\n",
       "        background: repeating-linear-gradient(45deg, #7e7e7e, #7e7e7e 10px, #5c5c5c 10px, #5c5c5c 20px);\n",
       "    }\n",
       "    .progress-bar-interrupted, .progress-bar-interrupted::-webkit-progress-bar {\n",
       "        background: #F44336;\n",
       "    }\n",
       "</style>\n"
      ],
      "text/plain": [
       "<IPython.core.display.HTML object>"
      ]
     },
     "metadata": {},
     "output_type": "display_data"
    },
    {
     "data": {
      "text/html": [
       "\n",
       "    <div>\n",
       "      <progress value='4000' class='' max='4000' style='width:300px; height:20px; vertical-align: middle;'></progress>\n",
       "      100.00% [4000/4000 00:27&lt;00:00 Sampling chain 3, 0 divergences]\n",
       "    </div>\n",
       "    "
      ],
      "text/plain": [
       "<IPython.core.display.HTML object>"
      ]
     },
     "metadata": {},
     "output_type": "display_data"
    },
    {
     "name": "stderr",
     "output_type": "stream",
     "text": [
      "Sampling 4 chains for 2_000 tune and 2_000 draw iterations (8_000 + 8_000 draws total) took 112 seconds.\n",
      "Auto-assigning NUTS sampler...\n",
      "Initializing NUTS using jitter+adapt_diag...\n",
      "Sequential sampling (4 chains in 1 job)\n",
      "NUTS: [mu_exp, mu_age, chol]\n"
     ]
    },
    {
     "data": {
      "text/html": [
       "\n",
       "<style>\n",
       "    /* Turns off some styling */\n",
       "    progress {\n",
       "        /* gets rid of default border in Firefox and Opera. */\n",
       "        border: none;\n",
       "        /* Needs to be in here for Safari polyfill so background images work as expected. */\n",
       "        background-size: auto;\n",
       "    }\n",
       "    progress:not([value]), progress:not([value])::-webkit-progress-bar {\n",
       "        background: repeating-linear-gradient(45deg, #7e7e7e, #7e7e7e 10px, #5c5c5c 10px, #5c5c5c 20px);\n",
       "    }\n",
       "    .progress-bar-interrupted, .progress-bar-interrupted::-webkit-progress-bar {\n",
       "        background: #F44336;\n",
       "    }\n",
       "</style>\n"
      ],
      "text/plain": [
       "<IPython.core.display.HTML object>"
      ]
     },
     "metadata": {},
     "output_type": "display_data"
    },
    {
     "data": {
      "text/html": [
       "\n",
       "    <div>\n",
       "      <progress value='4000' class='' max='4000' style='width:300px; height:20px; vertical-align: middle;'></progress>\n",
       "      100.00% [4000/4000 00:28&lt;00:00 Sampling chain 0, 0 divergences]\n",
       "    </div>\n",
       "    "
      ],
      "text/plain": [
       "<IPython.core.display.HTML object>"
      ]
     },
     "metadata": {},
     "output_type": "display_data"
    },
    {
     "data": {
      "text/html": [
       "\n",
       "<style>\n",
       "    /* Turns off some styling */\n",
       "    progress {\n",
       "        /* gets rid of default border in Firefox and Opera. */\n",
       "        border: none;\n",
       "        /* Needs to be in here for Safari polyfill so background images work as expected. */\n",
       "        background-size: auto;\n",
       "    }\n",
       "    progress:not([value]), progress:not([value])::-webkit-progress-bar {\n",
       "        background: repeating-linear-gradient(45deg, #7e7e7e, #7e7e7e 10px, #5c5c5c 10px, #5c5c5c 20px);\n",
       "    }\n",
       "    .progress-bar-interrupted, .progress-bar-interrupted::-webkit-progress-bar {\n",
       "        background: #F44336;\n",
       "    }\n",
       "</style>\n"
      ],
      "text/plain": [
       "<IPython.core.display.HTML object>"
      ]
     },
     "metadata": {},
     "output_type": "display_data"
    },
    {
     "data": {
      "text/html": [
       "\n",
       "    <div>\n",
       "      <progress value='4000' class='' max='4000' style='width:300px; height:20px; vertical-align: middle;'></progress>\n",
       "      100.00% [4000/4000 00:28&lt;00:00 Sampling chain 1, 0 divergences]\n",
       "    </div>\n",
       "    "
      ],
      "text/plain": [
       "<IPython.core.display.HTML object>"
      ]
     },
     "metadata": {},
     "output_type": "display_data"
    },
    {
     "data": {
      "text/html": [
       "\n",
       "<style>\n",
       "    /* Turns off some styling */\n",
       "    progress {\n",
       "        /* gets rid of default border in Firefox and Opera. */\n",
       "        border: none;\n",
       "        /* Needs to be in here for Safari polyfill so background images work as expected. */\n",
       "        background-size: auto;\n",
       "    }\n",
       "    progress:not([value]), progress:not([value])::-webkit-progress-bar {\n",
       "        background: repeating-linear-gradient(45deg, #7e7e7e, #7e7e7e 10px, #5c5c5c 10px, #5c5c5c 20px);\n",
       "    }\n",
       "    .progress-bar-interrupted, .progress-bar-interrupted::-webkit-progress-bar {\n",
       "        background: #F44336;\n",
       "    }\n",
       "</style>\n"
      ],
      "text/plain": [
       "<IPython.core.display.HTML object>"
      ]
     },
     "metadata": {},
     "output_type": "display_data"
    },
    {
     "data": {
      "text/html": [
       "\n",
       "    <div>\n",
       "      <progress value='4000' class='' max='4000' style='width:300px; height:20px; vertical-align: middle;'></progress>\n",
       "      100.00% [4000/4000 00:27&lt;00:00 Sampling chain 2, 0 divergences]\n",
       "    </div>\n",
       "    "
      ],
      "text/plain": [
       "<IPython.core.display.HTML object>"
      ]
     },
     "metadata": {},
     "output_type": "display_data"
    },
    {
     "data": {
      "text/html": [
       "\n",
       "<style>\n",
       "    /* Turns off some styling */\n",
       "    progress {\n",
       "        /* gets rid of default border in Firefox and Opera. */\n",
       "        border: none;\n",
       "        /* Needs to be in here for Safari polyfill so background images work as expected. */\n",
       "        background-size: auto;\n",
       "    }\n",
       "    progress:not([value]), progress:not([value])::-webkit-progress-bar {\n",
       "        background: repeating-linear-gradient(45deg, #7e7e7e, #7e7e7e 10px, #5c5c5c 10px, #5c5c5c 20px);\n",
       "    }\n",
       "    .progress-bar-interrupted, .progress-bar-interrupted::-webkit-progress-bar {\n",
       "        background: #F44336;\n",
       "    }\n",
       "</style>\n"
      ],
      "text/plain": [
       "<IPython.core.display.HTML object>"
      ]
     },
     "metadata": {},
     "output_type": "display_data"
    },
    {
     "data": {
      "text/html": [
       "\n",
       "    <div>\n",
       "      <progress value='4000' class='' max='4000' style='width:300px; height:20px; vertical-align: middle;'></progress>\n",
       "      100.00% [4000/4000 00:29&lt;00:00 Sampling chain 3, 0 divergences]\n",
       "    </div>\n",
       "    "
      ],
      "text/plain": [
       "<IPython.core.display.HTML object>"
      ]
     },
     "metadata": {},
     "output_type": "display_data"
    },
    {
     "name": "stderr",
     "output_type": "stream",
     "text": [
      "Sampling 4 chains for 2_000 tune and 2_000 draw iterations (8_000 + 8_000 draws total) took 113 seconds.\n",
      "Auto-assigning NUTS sampler...\n",
      "Initializing NUTS using jitter+adapt_diag...\n",
      "Sequential sampling (4 chains in 1 job)\n",
      "NUTS: [mu_exp, mu_age, chol]\n"
     ]
    },
    {
     "data": {
      "text/html": [
       "\n",
       "<style>\n",
       "    /* Turns off some styling */\n",
       "    progress {\n",
       "        /* gets rid of default border in Firefox and Opera. */\n",
       "        border: none;\n",
       "        /* Needs to be in here for Safari polyfill so background images work as expected. */\n",
       "        background-size: auto;\n",
       "    }\n",
       "    progress:not([value]), progress:not([value])::-webkit-progress-bar {\n",
       "        background: repeating-linear-gradient(45deg, #7e7e7e, #7e7e7e 10px, #5c5c5c 10px, #5c5c5c 20px);\n",
       "    }\n",
       "    .progress-bar-interrupted, .progress-bar-interrupted::-webkit-progress-bar {\n",
       "        background: #F44336;\n",
       "    }\n",
       "</style>\n"
      ],
      "text/plain": [
       "<IPython.core.display.HTML object>"
      ]
     },
     "metadata": {},
     "output_type": "display_data"
    },
    {
     "data": {
      "text/html": [
       "\n",
       "    <div>\n",
       "      <progress value='4000' class='' max='4000' style='width:300px; height:20px; vertical-align: middle;'></progress>\n",
       "      100.00% [4000/4000 00:29&lt;00:00 Sampling chain 0, 0 divergences]\n",
       "    </div>\n",
       "    "
      ],
      "text/plain": [
       "<IPython.core.display.HTML object>"
      ]
     },
     "metadata": {},
     "output_type": "display_data"
    },
    {
     "data": {
      "text/html": [
       "\n",
       "<style>\n",
       "    /* Turns off some styling */\n",
       "    progress {\n",
       "        /* gets rid of default border in Firefox and Opera. */\n",
       "        border: none;\n",
       "        /* Needs to be in here for Safari polyfill so background images work as expected. */\n",
       "        background-size: auto;\n",
       "    }\n",
       "    progress:not([value]), progress:not([value])::-webkit-progress-bar {\n",
       "        background: repeating-linear-gradient(45deg, #7e7e7e, #7e7e7e 10px, #5c5c5c 10px, #5c5c5c 20px);\n",
       "    }\n",
       "    .progress-bar-interrupted, .progress-bar-interrupted::-webkit-progress-bar {\n",
       "        background: #F44336;\n",
       "    }\n",
       "</style>\n"
      ],
      "text/plain": [
       "<IPython.core.display.HTML object>"
      ]
     },
     "metadata": {},
     "output_type": "display_data"
    },
    {
     "data": {
      "text/html": [
       "\n",
       "    <div>\n",
       "      <progress value='4000' class='' max='4000' style='width:300px; height:20px; vertical-align: middle;'></progress>\n",
       "      100.00% [4000/4000 00:27&lt;00:00 Sampling chain 1, 0 divergences]\n",
       "    </div>\n",
       "    "
      ],
      "text/plain": [
       "<IPython.core.display.HTML object>"
      ]
     },
     "metadata": {},
     "output_type": "display_data"
    },
    {
     "data": {
      "text/html": [
       "\n",
       "<style>\n",
       "    /* Turns off some styling */\n",
       "    progress {\n",
       "        /* gets rid of default border in Firefox and Opera. */\n",
       "        border: none;\n",
       "        /* Needs to be in here for Safari polyfill so background images work as expected. */\n",
       "        background-size: auto;\n",
       "    }\n",
       "    progress:not([value]), progress:not([value])::-webkit-progress-bar {\n",
       "        background: repeating-linear-gradient(45deg, #7e7e7e, #7e7e7e 10px, #5c5c5c 10px, #5c5c5c 20px);\n",
       "    }\n",
       "    .progress-bar-interrupted, .progress-bar-interrupted::-webkit-progress-bar {\n",
       "        background: #F44336;\n",
       "    }\n",
       "</style>\n"
      ],
      "text/plain": [
       "<IPython.core.display.HTML object>"
      ]
     },
     "metadata": {},
     "output_type": "display_data"
    },
    {
     "data": {
      "text/html": [
       "\n",
       "    <div>\n",
       "      <progress value='4000' class='' max='4000' style='width:300px; height:20px; vertical-align: middle;'></progress>\n",
       "      100.00% [4000/4000 00:27&lt;00:00 Sampling chain 2, 0 divergences]\n",
       "    </div>\n",
       "    "
      ],
      "text/plain": [
       "<IPython.core.display.HTML object>"
      ]
     },
     "metadata": {},
     "output_type": "display_data"
    },
    {
     "data": {
      "text/html": [
       "\n",
       "<style>\n",
       "    /* Turns off some styling */\n",
       "    progress {\n",
       "        /* gets rid of default border in Firefox and Opera. */\n",
       "        border: none;\n",
       "        /* Needs to be in here for Safari polyfill so background images work as expected. */\n",
       "        background-size: auto;\n",
       "    }\n",
       "    progress:not([value]), progress:not([value])::-webkit-progress-bar {\n",
       "        background: repeating-linear-gradient(45deg, #7e7e7e, #7e7e7e 10px, #5c5c5c 10px, #5c5c5c 20px);\n",
       "    }\n",
       "    .progress-bar-interrupted, .progress-bar-interrupted::-webkit-progress-bar {\n",
       "        background: #F44336;\n",
       "    }\n",
       "</style>\n"
      ],
      "text/plain": [
       "<IPython.core.display.HTML object>"
      ]
     },
     "metadata": {},
     "output_type": "display_data"
    },
    {
     "data": {
      "text/html": [
       "\n",
       "    <div>\n",
       "      <progress value='4000' class='' max='4000' style='width:300px; height:20px; vertical-align: middle;'></progress>\n",
       "      100.00% [4000/4000 00:28&lt;00:00 Sampling chain 3, 0 divergences]\n",
       "    </div>\n",
       "    "
      ],
      "text/plain": [
       "<IPython.core.display.HTML object>"
      ]
     },
     "metadata": {},
     "output_type": "display_data"
    },
    {
     "name": "stderr",
     "output_type": "stream",
     "text": [
      "Sampling 4 chains for 2_000 tune and 2_000 draw iterations (8_000 + 8_000 draws total) took 113 seconds.\n",
      "Auto-assigning NUTS sampler...\n",
      "Initializing NUTS using jitter+adapt_diag...\n",
      "Sequential sampling (4 chains in 1 job)\n",
      "NUTS: [mu_exp, mu_age, chol]\n"
     ]
    },
    {
     "data": {
      "text/html": [
       "\n",
       "<style>\n",
       "    /* Turns off some styling */\n",
       "    progress {\n",
       "        /* gets rid of default border in Firefox and Opera. */\n",
       "        border: none;\n",
       "        /* Needs to be in here for Safari polyfill so background images work as expected. */\n",
       "        background-size: auto;\n",
       "    }\n",
       "    progress:not([value]), progress:not([value])::-webkit-progress-bar {\n",
       "        background: repeating-linear-gradient(45deg, #7e7e7e, #7e7e7e 10px, #5c5c5c 10px, #5c5c5c 20px);\n",
       "    }\n",
       "    .progress-bar-interrupted, .progress-bar-interrupted::-webkit-progress-bar {\n",
       "        background: #F44336;\n",
       "    }\n",
       "</style>\n"
      ],
      "text/plain": [
       "<IPython.core.display.HTML object>"
      ]
     },
     "metadata": {},
     "output_type": "display_data"
    },
    {
     "data": {
      "text/html": [
       "\n",
       "    <div>\n",
       "      <progress value='4000' class='' max='4000' style='width:300px; height:20px; vertical-align: middle;'></progress>\n",
       "      100.00% [4000/4000 00:28&lt;00:00 Sampling chain 0, 0 divergences]\n",
       "    </div>\n",
       "    "
      ],
      "text/plain": [
       "<IPython.core.display.HTML object>"
      ]
     },
     "metadata": {},
     "output_type": "display_data"
    },
    {
     "data": {
      "text/html": [
       "\n",
       "<style>\n",
       "    /* Turns off some styling */\n",
       "    progress {\n",
       "        /* gets rid of default border in Firefox and Opera. */\n",
       "        border: none;\n",
       "        /* Needs to be in here for Safari polyfill so background images work as expected. */\n",
       "        background-size: auto;\n",
       "    }\n",
       "    progress:not([value]), progress:not([value])::-webkit-progress-bar {\n",
       "        background: repeating-linear-gradient(45deg, #7e7e7e, #7e7e7e 10px, #5c5c5c 10px, #5c5c5c 20px);\n",
       "    }\n",
       "    .progress-bar-interrupted, .progress-bar-interrupted::-webkit-progress-bar {\n",
       "        background: #F44336;\n",
       "    }\n",
       "</style>\n"
      ],
      "text/plain": [
       "<IPython.core.display.HTML object>"
      ]
     },
     "metadata": {},
     "output_type": "display_data"
    },
    {
     "data": {
      "text/html": [
       "\n",
       "    <div>\n",
       "      <progress value='4000' class='' max='4000' style='width:300px; height:20px; vertical-align: middle;'></progress>\n",
       "      100.00% [4000/4000 00:28&lt;00:00 Sampling chain 1, 0 divergences]\n",
       "    </div>\n",
       "    "
      ],
      "text/plain": [
       "<IPython.core.display.HTML object>"
      ]
     },
     "metadata": {},
     "output_type": "display_data"
    },
    {
     "data": {
      "text/html": [
       "\n",
       "<style>\n",
       "    /* Turns off some styling */\n",
       "    progress {\n",
       "        /* gets rid of default border in Firefox and Opera. */\n",
       "        border: none;\n",
       "        /* Needs to be in here for Safari polyfill so background images work as expected. */\n",
       "        background-size: auto;\n",
       "    }\n",
       "    progress:not([value]), progress:not([value])::-webkit-progress-bar {\n",
       "        background: repeating-linear-gradient(45deg, #7e7e7e, #7e7e7e 10px, #5c5c5c 10px, #5c5c5c 20px);\n",
       "    }\n",
       "    .progress-bar-interrupted, .progress-bar-interrupted::-webkit-progress-bar {\n",
       "        background: #F44336;\n",
       "    }\n",
       "</style>\n"
      ],
      "text/plain": [
       "<IPython.core.display.HTML object>"
      ]
     },
     "metadata": {},
     "output_type": "display_data"
    },
    {
     "data": {
      "text/html": [
       "\n",
       "    <div>\n",
       "      <progress value='4000' class='' max='4000' style='width:300px; height:20px; vertical-align: middle;'></progress>\n",
       "      100.00% [4000/4000 00:27&lt;00:00 Sampling chain 2, 0 divergences]\n",
       "    </div>\n",
       "    "
      ],
      "text/plain": [
       "<IPython.core.display.HTML object>"
      ]
     },
     "metadata": {},
     "output_type": "display_data"
    },
    {
     "data": {
      "text/html": [
       "\n",
       "<style>\n",
       "    /* Turns off some styling */\n",
       "    progress {\n",
       "        /* gets rid of default border in Firefox and Opera. */\n",
       "        border: none;\n",
       "        /* Needs to be in here for Safari polyfill so background images work as expected. */\n",
       "        background-size: auto;\n",
       "    }\n",
       "    progress:not([value]), progress:not([value])::-webkit-progress-bar {\n",
       "        background: repeating-linear-gradient(45deg, #7e7e7e, #7e7e7e 10px, #5c5c5c 10px, #5c5c5c 20px);\n",
       "    }\n",
       "    .progress-bar-interrupted, .progress-bar-interrupted::-webkit-progress-bar {\n",
       "        background: #F44336;\n",
       "    }\n",
       "</style>\n"
      ],
      "text/plain": [
       "<IPython.core.display.HTML object>"
      ]
     },
     "metadata": {},
     "output_type": "display_data"
    },
    {
     "data": {
      "text/html": [
       "\n",
       "    <div>\n",
       "      <progress value='4000' class='' max='4000' style='width:300px; height:20px; vertical-align: middle;'></progress>\n",
       "      100.00% [4000/4000 00:28&lt;00:00 Sampling chain 3, 0 divergences]\n",
       "    </div>\n",
       "    "
      ],
      "text/plain": [
       "<IPython.core.display.HTML object>"
      ]
     },
     "metadata": {},
     "output_type": "display_data"
    },
    {
     "name": "stderr",
     "output_type": "stream",
     "text": [
      "Sampling 4 chains for 2_000 tune and 2_000 draw iterations (8_000 + 8_000 draws total) took 113 seconds.\n"
     ]
    }
   ],
   "source": [
    "#Calculate bayesian correlation\n",
    "def baycor(data):\n",
    "    with pm.Model() as correlation_model:\n",
    "\n",
    "        # set some more or less informative priors here\n",
    "        mu_exp = pm.Normal('mu_exp', mu=0, sigma=10.) #\n",
    "        mu_age = pm.Normal('mu_age', mu=0, sigma=10.) # age is coded in groups here: think about whether a normal really makes sense here\n",
    "\n",
    "        #prior on correlation\n",
    "        chol, corr, stds = pm.LKJCholeskyCov(\"chol\", n=2, eta=4.0, \n",
    "                   sd_dist=pm.HalfCauchy.dist(2.5), compute_corr=True)\n",
    "\n",
    "        #stack data together\n",
    "        mu = at.stack((mu_exp, mu_age), axis=1)\n",
    "    \n",
    "        #observed data\n",
    "        y = pm.MvNormal('y', mu=mu, chol=chol, observed=data)\n",
    "\n",
    "        trace = pm.sample(**brms_kwargs)\n",
    "    return trace\n",
    "\n",
    "\n",
    "trace_d0 = baycor(d_04baycor)    \n",
    "trace_d1 = baycor(d_14baycor)    \n",
    "trace_d2 = baycor(d_24baycor) \n",
    "trace_d3 = baycor(d_34baycor) "
   ]
  },
  {
   "cell_type": "code",
   "execution_count": 111,
   "id": "ad529238",
   "metadata": {},
   "outputs": [
    {
     "data": {
      "text/html": [
       "<div>\n",
       "<style scoped>\n",
       "    .dataframe tbody tr th:only-of-type {\n",
       "        vertical-align: middle;\n",
       "    }\n",
       "\n",
       "    .dataframe tbody tr th {\n",
       "        vertical-align: top;\n",
       "    }\n",
       "\n",
       "    .dataframe thead th {\n",
       "        text-align: right;\n",
       "    }\n",
       "</style>\n",
       "<table border=\"1\" class=\"dataframe\">\n",
       "  <thead>\n",
       "    <tr style=\"text-align: right;\">\n",
       "      <th></th>\n",
       "      <th>mean</th>\n",
       "      <th>sd</th>\n",
       "      <th>hdi_3%</th>\n",
       "      <th>hdi_97%</th>\n",
       "      <th>mcse_mean</th>\n",
       "      <th>mcse_sd</th>\n",
       "      <th>ess_bulk</th>\n",
       "      <th>ess_tail</th>\n",
       "      <th>r_hat</th>\n",
       "    </tr>\n",
       "  </thead>\n",
       "  <tbody>\n",
       "    <tr>\n",
       "      <th>mu_exp</th>\n",
       "      <td>4.661</td>\n",
       "      <td>0.041</td>\n",
       "      <td>4.584</td>\n",
       "      <td>4.739</td>\n",
       "      <td>0.000</td>\n",
       "      <td>0.000</td>\n",
       "      <td>8395.0</td>\n",
       "      <td>5940.0</td>\n",
       "      <td>1.0</td>\n",
       "    </tr>\n",
       "    <tr>\n",
       "      <th>mu_age</th>\n",
       "      <td>4.269</td>\n",
       "      <td>0.135</td>\n",
       "      <td>4.022</td>\n",
       "      <td>4.528</td>\n",
       "      <td>0.001</td>\n",
       "      <td>0.001</td>\n",
       "      <td>8144.0</td>\n",
       "      <td>6889.0</td>\n",
       "      <td>1.0</td>\n",
       "    </tr>\n",
       "    <tr>\n",
       "      <th>chol[0]</th>\n",
       "      <td>0.975</td>\n",
       "      <td>0.029</td>\n",
       "      <td>0.921</td>\n",
       "      <td>1.031</td>\n",
       "      <td>0.000</td>\n",
       "      <td>0.000</td>\n",
       "      <td>7689.0</td>\n",
       "      <td>6400.0</td>\n",
       "      <td>1.0</td>\n",
       "    </tr>\n",
       "    <tr>\n",
       "      <th>chol[1]</th>\n",
       "      <td>-0.710</td>\n",
       "      <td>0.132</td>\n",
       "      <td>-0.945</td>\n",
       "      <td>-0.455</td>\n",
       "      <td>0.001</td>\n",
       "      <td>0.001</td>\n",
       "      <td>8551.0</td>\n",
       "      <td>5823.0</td>\n",
       "      <td>1.0</td>\n",
       "    </tr>\n",
       "    <tr>\n",
       "      <th>chol[2]</th>\n",
       "      <td>3.097</td>\n",
       "      <td>0.094</td>\n",
       "      <td>2.925</td>\n",
       "      <td>3.278</td>\n",
       "      <td>0.001</td>\n",
       "      <td>0.001</td>\n",
       "      <td>8770.0</td>\n",
       "      <td>6430.0</td>\n",
       "      <td>1.0</td>\n",
       "    </tr>\n",
       "    <tr>\n",
       "      <th>chol_corr[0, 0]</th>\n",
       "      <td>1.000</td>\n",
       "      <td>0.000</td>\n",
       "      <td>1.000</td>\n",
       "      <td>1.000</td>\n",
       "      <td>0.000</td>\n",
       "      <td>0.000</td>\n",
       "      <td>8000.0</td>\n",
       "      <td>8000.0</td>\n",
       "      <td>NaN</td>\n",
       "    </tr>\n",
       "    <tr>\n",
       "      <th>chol_corr[0, 1]</th>\n",
       "      <td>-0.223</td>\n",
       "      <td>0.040</td>\n",
       "      <td>-0.294</td>\n",
       "      <td>-0.146</td>\n",
       "      <td>0.000</td>\n",
       "      <td>0.000</td>\n",
       "      <td>8711.0</td>\n",
       "      <td>6195.0</td>\n",
       "      <td>1.0</td>\n",
       "    </tr>\n",
       "    <tr>\n",
       "      <th>chol_corr[1, 0]</th>\n",
       "      <td>-0.223</td>\n",
       "      <td>0.040</td>\n",
       "      <td>-0.294</td>\n",
       "      <td>-0.146</td>\n",
       "      <td>0.000</td>\n",
       "      <td>0.000</td>\n",
       "      <td>8711.0</td>\n",
       "      <td>6195.0</td>\n",
       "      <td>1.0</td>\n",
       "    </tr>\n",
       "    <tr>\n",
       "      <th>chol_corr[1, 1]</th>\n",
       "      <td>1.000</td>\n",
       "      <td>0.000</td>\n",
       "      <td>1.000</td>\n",
       "      <td>1.000</td>\n",
       "      <td>0.000</td>\n",
       "      <td>0.000</td>\n",
       "      <td>7346.0</td>\n",
       "      <td>7407.0</td>\n",
       "      <td>1.0</td>\n",
       "    </tr>\n",
       "    <tr>\n",
       "      <th>chol_stds[0]</th>\n",
       "      <td>0.975</td>\n",
       "      <td>0.029</td>\n",
       "      <td>0.921</td>\n",
       "      <td>1.031</td>\n",
       "      <td>0.000</td>\n",
       "      <td>0.000</td>\n",
       "      <td>7689.0</td>\n",
       "      <td>6400.0</td>\n",
       "      <td>1.0</td>\n",
       "    </tr>\n",
       "    <tr>\n",
       "      <th>chol_stds[1]</th>\n",
       "      <td>3.180</td>\n",
       "      <td>0.096</td>\n",
       "      <td>2.998</td>\n",
       "      <td>3.358</td>\n",
       "      <td>0.001</td>\n",
       "      <td>0.001</td>\n",
       "      <td>8473.0</td>\n",
       "      <td>6223.0</td>\n",
       "      <td>1.0</td>\n",
       "    </tr>\n",
       "  </tbody>\n",
       "</table>\n",
       "</div>"
      ],
      "text/plain": [
       "                  mean     sd  hdi_3%  hdi_97%  mcse_mean  mcse_sd  ess_bulk  \\\n",
       "mu_exp           4.661  0.041   4.584    4.739      0.000    0.000    8395.0   \n",
       "mu_age           4.269  0.135   4.022    4.528      0.001    0.001    8144.0   \n",
       "chol[0]          0.975  0.029   0.921    1.031      0.000    0.000    7689.0   \n",
       "chol[1]         -0.710  0.132  -0.945   -0.455      0.001    0.001    8551.0   \n",
       "chol[2]          3.097  0.094   2.925    3.278      0.001    0.001    8770.0   \n",
       "chol_corr[0, 0]  1.000  0.000   1.000    1.000      0.000    0.000    8000.0   \n",
       "chol_corr[0, 1] -0.223  0.040  -0.294   -0.146      0.000    0.000    8711.0   \n",
       "chol_corr[1, 0] -0.223  0.040  -0.294   -0.146      0.000    0.000    8711.0   \n",
       "chol_corr[1, 1]  1.000  0.000   1.000    1.000      0.000    0.000    7346.0   \n",
       "chol_stds[0]     0.975  0.029   0.921    1.031      0.000    0.000    7689.0   \n",
       "chol_stds[1]     3.180  0.096   2.998    3.358      0.001    0.001    8473.0   \n",
       "\n",
       "                 ess_tail  r_hat  \n",
       "mu_exp             5940.0    1.0  \n",
       "mu_age             6889.0    1.0  \n",
       "chol[0]            6400.0    1.0  \n",
       "chol[1]            5823.0    1.0  \n",
       "chol[2]            6430.0    1.0  \n",
       "chol_corr[0, 0]    8000.0    NaN  \n",
       "chol_corr[0, 1]    6195.0    1.0  \n",
       "chol_corr[1, 0]    6195.0    1.0  \n",
       "chol_corr[1, 1]    7407.0    1.0  \n",
       "chol_stds[0]       6400.0    1.0  \n",
       "chol_stds[1]       6223.0    1.0  "
      ]
     },
     "execution_count": 111,
     "metadata": {},
     "output_type": "execute_result"
    }
   ],
   "source": [
    "az.summary(trace_d0)"
   ]
  },
  {
   "cell_type": "code",
   "execution_count": 112,
   "id": "9c5de0b6",
   "metadata": {},
   "outputs": [
    {
     "data": {
      "text/html": [
       "<div>\n",
       "<style scoped>\n",
       "    .dataframe tbody tr th:only-of-type {\n",
       "        vertical-align: middle;\n",
       "    }\n",
       "\n",
       "    .dataframe tbody tr th {\n",
       "        vertical-align: top;\n",
       "    }\n",
       "\n",
       "    .dataframe thead th {\n",
       "        text-align: right;\n",
       "    }\n",
       "</style>\n",
       "<table border=\"1\" class=\"dataframe\">\n",
       "  <thead>\n",
       "    <tr style=\"text-align: right;\">\n",
       "      <th></th>\n",
       "      <th>mean</th>\n",
       "      <th>sd</th>\n",
       "      <th>hdi_3%</th>\n",
       "      <th>hdi_97%</th>\n",
       "      <th>mcse_mean</th>\n",
       "      <th>mcse_sd</th>\n",
       "      <th>ess_bulk</th>\n",
       "      <th>ess_tail</th>\n",
       "      <th>r_hat</th>\n",
       "    </tr>\n",
       "  </thead>\n",
       "  <tbody>\n",
       "    <tr>\n",
       "      <th>mu_exp</th>\n",
       "      <td>6.579</td>\n",
       "      <td>0.049</td>\n",
       "      <td>6.486</td>\n",
       "      <td>6.668</td>\n",
       "      <td>0.001</td>\n",
       "      <td>0.000</td>\n",
       "      <td>7018.0</td>\n",
       "      <td>6120.0</td>\n",
       "      <td>1.0</td>\n",
       "    </tr>\n",
       "    <tr>\n",
       "      <th>mu_age</th>\n",
       "      <td>3.753</td>\n",
       "      <td>0.119</td>\n",
       "      <td>3.526</td>\n",
       "      <td>3.976</td>\n",
       "      <td>0.001</td>\n",
       "      <td>0.001</td>\n",
       "      <td>7298.0</td>\n",
       "      <td>6163.0</td>\n",
       "      <td>1.0</td>\n",
       "    </tr>\n",
       "    <tr>\n",
       "      <th>chol[0]</th>\n",
       "      <td>1.081</td>\n",
       "      <td>0.034</td>\n",
       "      <td>1.018</td>\n",
       "      <td>1.145</td>\n",
       "      <td>0.000</td>\n",
       "      <td>0.000</td>\n",
       "      <td>7686.0</td>\n",
       "      <td>6231.0</td>\n",
       "      <td>1.0</td>\n",
       "    </tr>\n",
       "    <tr>\n",
       "      <th>chol[1]</th>\n",
       "      <td>-1.019</td>\n",
       "      <td>0.113</td>\n",
       "      <td>-1.243</td>\n",
       "      <td>-0.819</td>\n",
       "      <td>0.001</td>\n",
       "      <td>0.001</td>\n",
       "      <td>7900.0</td>\n",
       "      <td>6541.0</td>\n",
       "      <td>1.0</td>\n",
       "    </tr>\n",
       "    <tr>\n",
       "      <th>chol[2]</th>\n",
       "      <td>2.429</td>\n",
       "      <td>0.077</td>\n",
       "      <td>2.283</td>\n",
       "      <td>2.574</td>\n",
       "      <td>0.001</td>\n",
       "      <td>0.001</td>\n",
       "      <td>7990.0</td>\n",
       "      <td>6172.0</td>\n",
       "      <td>1.0</td>\n",
       "    </tr>\n",
       "    <tr>\n",
       "      <th>chol_corr[0, 0]</th>\n",
       "      <td>1.000</td>\n",
       "      <td>0.000</td>\n",
       "      <td>1.000</td>\n",
       "      <td>1.000</td>\n",
       "      <td>0.000</td>\n",
       "      <td>0.000</td>\n",
       "      <td>8000.0</td>\n",
       "      <td>8000.0</td>\n",
       "      <td>NaN</td>\n",
       "    </tr>\n",
       "    <tr>\n",
       "      <th>chol_corr[0, 1]</th>\n",
       "      <td>-0.386</td>\n",
       "      <td>0.038</td>\n",
       "      <td>-0.455</td>\n",
       "      <td>-0.315</td>\n",
       "      <td>0.000</td>\n",
       "      <td>0.000</td>\n",
       "      <td>7955.0</td>\n",
       "      <td>6325.0</td>\n",
       "      <td>1.0</td>\n",
       "    </tr>\n",
       "    <tr>\n",
       "      <th>chol_corr[1, 0]</th>\n",
       "      <td>-0.386</td>\n",
       "      <td>0.038</td>\n",
       "      <td>-0.455</td>\n",
       "      <td>-0.315</td>\n",
       "      <td>0.000</td>\n",
       "      <td>0.000</td>\n",
       "      <td>7955.0</td>\n",
       "      <td>6325.0</td>\n",
       "      <td>1.0</td>\n",
       "    </tr>\n",
       "    <tr>\n",
       "      <th>chol_corr[1, 1]</th>\n",
       "      <td>1.000</td>\n",
       "      <td>0.000</td>\n",
       "      <td>1.000</td>\n",
       "      <td>1.000</td>\n",
       "      <td>0.000</td>\n",
       "      <td>0.000</td>\n",
       "      <td>7545.0</td>\n",
       "      <td>7707.0</td>\n",
       "      <td>1.0</td>\n",
       "    </tr>\n",
       "    <tr>\n",
       "      <th>chol_stds[0]</th>\n",
       "      <td>1.081</td>\n",
       "      <td>0.034</td>\n",
       "      <td>1.018</td>\n",
       "      <td>1.145</td>\n",
       "      <td>0.000</td>\n",
       "      <td>0.000</td>\n",
       "      <td>7686.0</td>\n",
       "      <td>6231.0</td>\n",
       "      <td>1.0</td>\n",
       "    </tr>\n",
       "    <tr>\n",
       "      <th>chol_stds[1]</th>\n",
       "      <td>2.637</td>\n",
       "      <td>0.085</td>\n",
       "      <td>2.476</td>\n",
       "      <td>2.795</td>\n",
       "      <td>0.001</td>\n",
       "      <td>0.001</td>\n",
       "      <td>7925.0</td>\n",
       "      <td>6309.0</td>\n",
       "      <td>1.0</td>\n",
       "    </tr>\n",
       "  </tbody>\n",
       "</table>\n",
       "</div>"
      ],
      "text/plain": [
       "                  mean     sd  hdi_3%  hdi_97%  mcse_mean  mcse_sd  ess_bulk  \\\n",
       "mu_exp           6.579  0.049   6.486    6.668      0.001    0.000    7018.0   \n",
       "mu_age           3.753  0.119   3.526    3.976      0.001    0.001    7298.0   \n",
       "chol[0]          1.081  0.034   1.018    1.145      0.000    0.000    7686.0   \n",
       "chol[1]         -1.019  0.113  -1.243   -0.819      0.001    0.001    7900.0   \n",
       "chol[2]          2.429  0.077   2.283    2.574      0.001    0.001    7990.0   \n",
       "chol_corr[0, 0]  1.000  0.000   1.000    1.000      0.000    0.000    8000.0   \n",
       "chol_corr[0, 1] -0.386  0.038  -0.455   -0.315      0.000    0.000    7955.0   \n",
       "chol_corr[1, 0] -0.386  0.038  -0.455   -0.315      0.000    0.000    7955.0   \n",
       "chol_corr[1, 1]  1.000  0.000   1.000    1.000      0.000    0.000    7545.0   \n",
       "chol_stds[0]     1.081  0.034   1.018    1.145      0.000    0.000    7686.0   \n",
       "chol_stds[1]     2.637  0.085   2.476    2.795      0.001    0.001    7925.0   \n",
       "\n",
       "                 ess_tail  r_hat  \n",
       "mu_exp             6120.0    1.0  \n",
       "mu_age             6163.0    1.0  \n",
       "chol[0]            6231.0    1.0  \n",
       "chol[1]            6541.0    1.0  \n",
       "chol[2]            6172.0    1.0  \n",
       "chol_corr[0, 0]    8000.0    NaN  \n",
       "chol_corr[0, 1]    6325.0    1.0  \n",
       "chol_corr[1, 0]    6325.0    1.0  \n",
       "chol_corr[1, 1]    7707.0    1.0  \n",
       "chol_stds[0]       6231.0    1.0  \n",
       "chol_stds[1]       6309.0    1.0  "
      ]
     },
     "execution_count": 112,
     "metadata": {},
     "output_type": "execute_result"
    }
   ],
   "source": [
    "az.summary(trace_d1)"
   ]
  },
  {
   "cell_type": "code",
   "execution_count": 113,
   "id": "29dafc62",
   "metadata": {},
   "outputs": [
    {
     "data": {
      "text/html": [
       "<div>\n",
       "<style scoped>\n",
       "    .dataframe tbody tr th:only-of-type {\n",
       "        vertical-align: middle;\n",
       "    }\n",
       "\n",
       "    .dataframe tbody tr th {\n",
       "        vertical-align: top;\n",
       "    }\n",
       "\n",
       "    .dataframe thead th {\n",
       "        text-align: right;\n",
       "    }\n",
       "</style>\n",
       "<table border=\"1\" class=\"dataframe\">\n",
       "  <thead>\n",
       "    <tr style=\"text-align: right;\">\n",
       "      <th></th>\n",
       "      <th>mean</th>\n",
       "      <th>sd</th>\n",
       "      <th>hdi_3%</th>\n",
       "      <th>hdi_97%</th>\n",
       "      <th>mcse_mean</th>\n",
       "      <th>mcse_sd</th>\n",
       "      <th>ess_bulk</th>\n",
       "      <th>ess_tail</th>\n",
       "      <th>r_hat</th>\n",
       "    </tr>\n",
       "  </thead>\n",
       "  <tbody>\n",
       "    <tr>\n",
       "      <th>mu_exp</th>\n",
       "      <td>3.790</td>\n",
       "      <td>0.036</td>\n",
       "      <td>3.719</td>\n",
       "      <td>3.856</td>\n",
       "      <td>0.000</td>\n",
       "      <td>0.000</td>\n",
       "      <td>8320.0</td>\n",
       "      <td>6098.0</td>\n",
       "      <td>1.0</td>\n",
       "    </tr>\n",
       "    <tr>\n",
       "      <th>mu_age</th>\n",
       "      <td>8.629</td>\n",
       "      <td>0.149</td>\n",
       "      <td>8.345</td>\n",
       "      <td>8.903</td>\n",
       "      <td>0.002</td>\n",
       "      <td>0.001</td>\n",
       "      <td>8503.0</td>\n",
       "      <td>6485.0</td>\n",
       "      <td>1.0</td>\n",
       "    </tr>\n",
       "    <tr>\n",
       "      <th>chol[0]</th>\n",
       "      <td>0.893</td>\n",
       "      <td>0.026</td>\n",
       "      <td>0.842</td>\n",
       "      <td>0.942</td>\n",
       "      <td>0.000</td>\n",
       "      <td>0.000</td>\n",
       "      <td>7859.0</td>\n",
       "      <td>6153.0</td>\n",
       "      <td>1.0</td>\n",
       "    </tr>\n",
       "    <tr>\n",
       "      <th>chol[1]</th>\n",
       "      <td>-0.830</td>\n",
       "      <td>0.146</td>\n",
       "      <td>-1.110</td>\n",
       "      <td>-0.562</td>\n",
       "      <td>0.002</td>\n",
       "      <td>0.001</td>\n",
       "      <td>7766.0</td>\n",
       "      <td>6109.0</td>\n",
       "      <td>1.0</td>\n",
       "    </tr>\n",
       "    <tr>\n",
       "      <th>chol[2]</th>\n",
       "      <td>3.594</td>\n",
       "      <td>0.103</td>\n",
       "      <td>3.394</td>\n",
       "      <td>3.779</td>\n",
       "      <td>0.001</td>\n",
       "      <td>0.001</td>\n",
       "      <td>9091.0</td>\n",
       "      <td>6126.0</td>\n",
       "      <td>1.0</td>\n",
       "    </tr>\n",
       "    <tr>\n",
       "      <th>chol_corr[0, 0]</th>\n",
       "      <td>1.000</td>\n",
       "      <td>0.000</td>\n",
       "      <td>1.000</td>\n",
       "      <td>1.000</td>\n",
       "      <td>0.000</td>\n",
       "      <td>0.000</td>\n",
       "      <td>8000.0</td>\n",
       "      <td>8000.0</td>\n",
       "      <td>NaN</td>\n",
       "    </tr>\n",
       "    <tr>\n",
       "      <th>chol_corr[0, 1]</th>\n",
       "      <td>-0.225</td>\n",
       "      <td>0.038</td>\n",
       "      <td>-0.293</td>\n",
       "      <td>-0.150</td>\n",
       "      <td>0.000</td>\n",
       "      <td>0.000</td>\n",
       "      <td>7814.0</td>\n",
       "      <td>6150.0</td>\n",
       "      <td>1.0</td>\n",
       "    </tr>\n",
       "    <tr>\n",
       "      <th>chol_corr[1, 0]</th>\n",
       "      <td>-0.225</td>\n",
       "      <td>0.038</td>\n",
       "      <td>-0.293</td>\n",
       "      <td>-0.150</td>\n",
       "      <td>0.000</td>\n",
       "      <td>0.000</td>\n",
       "      <td>7814.0</td>\n",
       "      <td>6150.0</td>\n",
       "      <td>1.0</td>\n",
       "    </tr>\n",
       "    <tr>\n",
       "      <th>chol_corr[1, 1]</th>\n",
       "      <td>1.000</td>\n",
       "      <td>0.000</td>\n",
       "      <td>1.000</td>\n",
       "      <td>1.000</td>\n",
       "      <td>0.000</td>\n",
       "      <td>0.000</td>\n",
       "      <td>7216.0</td>\n",
       "      <td>7478.0</td>\n",
       "      <td>1.0</td>\n",
       "    </tr>\n",
       "    <tr>\n",
       "      <th>chol_stds[0]</th>\n",
       "      <td>0.893</td>\n",
       "      <td>0.026</td>\n",
       "      <td>0.842</td>\n",
       "      <td>0.942</td>\n",
       "      <td>0.000</td>\n",
       "      <td>0.000</td>\n",
       "      <td>7859.0</td>\n",
       "      <td>6153.0</td>\n",
       "      <td>1.0</td>\n",
       "    </tr>\n",
       "    <tr>\n",
       "      <th>chol_stds[1]</th>\n",
       "      <td>3.691</td>\n",
       "      <td>0.106</td>\n",
       "      <td>3.483</td>\n",
       "      <td>3.883</td>\n",
       "      <td>0.001</td>\n",
       "      <td>0.001</td>\n",
       "      <td>8994.0</td>\n",
       "      <td>6301.0</td>\n",
       "      <td>1.0</td>\n",
       "    </tr>\n",
       "  </tbody>\n",
       "</table>\n",
       "</div>"
      ],
      "text/plain": [
       "                  mean     sd  hdi_3%  hdi_97%  mcse_mean  mcse_sd  ess_bulk  \\\n",
       "mu_exp           3.790  0.036   3.719    3.856      0.000    0.000    8320.0   \n",
       "mu_age           8.629  0.149   8.345    8.903      0.002    0.001    8503.0   \n",
       "chol[0]          0.893  0.026   0.842    0.942      0.000    0.000    7859.0   \n",
       "chol[1]         -0.830  0.146  -1.110   -0.562      0.002    0.001    7766.0   \n",
       "chol[2]          3.594  0.103   3.394    3.779      0.001    0.001    9091.0   \n",
       "chol_corr[0, 0]  1.000  0.000   1.000    1.000      0.000    0.000    8000.0   \n",
       "chol_corr[0, 1] -0.225  0.038  -0.293   -0.150      0.000    0.000    7814.0   \n",
       "chol_corr[1, 0] -0.225  0.038  -0.293   -0.150      0.000    0.000    7814.0   \n",
       "chol_corr[1, 1]  1.000  0.000   1.000    1.000      0.000    0.000    7216.0   \n",
       "chol_stds[0]     0.893  0.026   0.842    0.942      0.000    0.000    7859.0   \n",
       "chol_stds[1]     3.691  0.106   3.483    3.883      0.001    0.001    8994.0   \n",
       "\n",
       "                 ess_tail  r_hat  \n",
       "mu_exp             6098.0    1.0  \n",
       "mu_age             6485.0    1.0  \n",
       "chol[0]            6153.0    1.0  \n",
       "chol[1]            6109.0    1.0  \n",
       "chol[2]            6126.0    1.0  \n",
       "chol_corr[0, 0]    8000.0    NaN  \n",
       "chol_corr[0, 1]    6150.0    1.0  \n",
       "chol_corr[1, 0]    6150.0    1.0  \n",
       "chol_corr[1, 1]    7478.0    1.0  \n",
       "chol_stds[0]       6153.0    1.0  \n",
       "chol_stds[1]       6301.0    1.0  "
      ]
     },
     "execution_count": 113,
     "metadata": {},
     "output_type": "execute_result"
    }
   ],
   "source": [
    "az.summary(trace_d2)"
   ]
  },
  {
   "cell_type": "code",
   "execution_count": 114,
   "id": "a92378d3",
   "metadata": {},
   "outputs": [
    {
     "data": {
      "text/html": [
       "<div>\n",
       "<style scoped>\n",
       "    .dataframe tbody tr th:only-of-type {\n",
       "        vertical-align: middle;\n",
       "    }\n",
       "\n",
       "    .dataframe tbody tr th {\n",
       "        vertical-align: top;\n",
       "    }\n",
       "\n",
       "    .dataframe thead th {\n",
       "        text-align: right;\n",
       "    }\n",
       "</style>\n",
       "<table border=\"1\" class=\"dataframe\">\n",
       "  <thead>\n",
       "    <tr style=\"text-align: right;\">\n",
       "      <th></th>\n",
       "      <th>mean</th>\n",
       "      <th>sd</th>\n",
       "      <th>hdi_3%</th>\n",
       "      <th>hdi_97%</th>\n",
       "      <th>mcse_mean</th>\n",
       "      <th>mcse_sd</th>\n",
       "      <th>ess_bulk</th>\n",
       "      <th>ess_tail</th>\n",
       "      <th>r_hat</th>\n",
       "    </tr>\n",
       "  </thead>\n",
       "  <tbody>\n",
       "    <tr>\n",
       "      <th>mu_exp</th>\n",
       "      <td>4.525</td>\n",
       "      <td>0.040</td>\n",
       "      <td>4.448</td>\n",
       "      <td>4.600</td>\n",
       "      <td>0.000</td>\n",
       "      <td>0.000</td>\n",
       "      <td>7886.0</td>\n",
       "      <td>5942.0</td>\n",
       "      <td>1.0</td>\n",
       "    </tr>\n",
       "    <tr>\n",
       "      <th>mu_age</th>\n",
       "      <td>4.232</td>\n",
       "      <td>0.120</td>\n",
       "      <td>4.008</td>\n",
       "      <td>4.457</td>\n",
       "      <td>0.001</td>\n",
       "      <td>0.001</td>\n",
       "      <td>7321.0</td>\n",
       "      <td>5862.0</td>\n",
       "      <td>1.0</td>\n",
       "    </tr>\n",
       "    <tr>\n",
       "      <th>chol[0]</th>\n",
       "      <td>1.005</td>\n",
       "      <td>0.028</td>\n",
       "      <td>0.955</td>\n",
       "      <td>1.061</td>\n",
       "      <td>0.000</td>\n",
       "      <td>0.000</td>\n",
       "      <td>8566.0</td>\n",
       "      <td>5615.0</td>\n",
       "      <td>1.0</td>\n",
       "    </tr>\n",
       "    <tr>\n",
       "      <th>chol[1]</th>\n",
       "      <td>-0.799</td>\n",
       "      <td>0.118</td>\n",
       "      <td>-1.012</td>\n",
       "      <td>-0.569</td>\n",
       "      <td>0.001</td>\n",
       "      <td>0.001</td>\n",
       "      <td>8855.0</td>\n",
       "      <td>6383.0</td>\n",
       "      <td>1.0</td>\n",
       "    </tr>\n",
       "    <tr>\n",
       "      <th>chol[2]</th>\n",
       "      <td>2.900</td>\n",
       "      <td>0.080</td>\n",
       "      <td>2.756</td>\n",
       "      <td>3.056</td>\n",
       "      <td>0.001</td>\n",
       "      <td>0.001</td>\n",
       "      <td>8254.0</td>\n",
       "      <td>6256.0</td>\n",
       "      <td>1.0</td>\n",
       "    </tr>\n",
       "    <tr>\n",
       "      <th>chol_corr[0, 0]</th>\n",
       "      <td>1.000</td>\n",
       "      <td>0.000</td>\n",
       "      <td>1.000</td>\n",
       "      <td>1.000</td>\n",
       "      <td>0.000</td>\n",
       "      <td>0.000</td>\n",
       "      <td>8000.0</td>\n",
       "      <td>8000.0</td>\n",
       "      <td>NaN</td>\n",
       "    </tr>\n",
       "    <tr>\n",
       "      <th>chol_corr[0, 1]</th>\n",
       "      <td>-0.265</td>\n",
       "      <td>0.037</td>\n",
       "      <td>-0.336</td>\n",
       "      <td>-0.197</td>\n",
       "      <td>0.000</td>\n",
       "      <td>0.000</td>\n",
       "      <td>8937.0</td>\n",
       "      <td>6359.0</td>\n",
       "      <td>1.0</td>\n",
       "    </tr>\n",
       "    <tr>\n",
       "      <th>chol_corr[1, 0]</th>\n",
       "      <td>-0.265</td>\n",
       "      <td>0.037</td>\n",
       "      <td>-0.336</td>\n",
       "      <td>-0.197</td>\n",
       "      <td>0.000</td>\n",
       "      <td>0.000</td>\n",
       "      <td>8937.0</td>\n",
       "      <td>6359.0</td>\n",
       "      <td>1.0</td>\n",
       "    </tr>\n",
       "    <tr>\n",
       "      <th>chol_corr[1, 1]</th>\n",
       "      <td>1.000</td>\n",
       "      <td>0.000</td>\n",
       "      <td>1.000</td>\n",
       "      <td>1.000</td>\n",
       "      <td>0.000</td>\n",
       "      <td>0.000</td>\n",
       "      <td>7928.0</td>\n",
       "      <td>8000.0</td>\n",
       "      <td>1.0</td>\n",
       "    </tr>\n",
       "    <tr>\n",
       "      <th>chol_stds[0]</th>\n",
       "      <td>1.005</td>\n",
       "      <td>0.028</td>\n",
       "      <td>0.955</td>\n",
       "      <td>1.061</td>\n",
       "      <td>0.000</td>\n",
       "      <td>0.000</td>\n",
       "      <td>8566.0</td>\n",
       "      <td>5615.0</td>\n",
       "      <td>1.0</td>\n",
       "    </tr>\n",
       "    <tr>\n",
       "      <th>chol_stds[1]</th>\n",
       "      <td>3.011</td>\n",
       "      <td>0.083</td>\n",
       "      <td>2.857</td>\n",
       "      <td>3.170</td>\n",
       "      <td>0.001</td>\n",
       "      <td>0.001</td>\n",
       "      <td>7983.0</td>\n",
       "      <td>6377.0</td>\n",
       "      <td>1.0</td>\n",
       "    </tr>\n",
       "  </tbody>\n",
       "</table>\n",
       "</div>"
      ],
      "text/plain": [
       "                  mean     sd  hdi_3%  hdi_97%  mcse_mean  mcse_sd  ess_bulk  \\\n",
       "mu_exp           4.525  0.040   4.448    4.600      0.000    0.000    7886.0   \n",
       "mu_age           4.232  0.120   4.008    4.457      0.001    0.001    7321.0   \n",
       "chol[0]          1.005  0.028   0.955    1.061      0.000    0.000    8566.0   \n",
       "chol[1]         -0.799  0.118  -1.012   -0.569      0.001    0.001    8855.0   \n",
       "chol[2]          2.900  0.080   2.756    3.056      0.001    0.001    8254.0   \n",
       "chol_corr[0, 0]  1.000  0.000   1.000    1.000      0.000    0.000    8000.0   \n",
       "chol_corr[0, 1] -0.265  0.037  -0.336   -0.197      0.000    0.000    8937.0   \n",
       "chol_corr[1, 0] -0.265  0.037  -0.336   -0.197      0.000    0.000    8937.0   \n",
       "chol_corr[1, 1]  1.000  0.000   1.000    1.000      0.000    0.000    7928.0   \n",
       "chol_stds[0]     1.005  0.028   0.955    1.061      0.000    0.000    8566.0   \n",
       "chol_stds[1]     3.011  0.083   2.857    3.170      0.001    0.001    7983.0   \n",
       "\n",
       "                 ess_tail  r_hat  \n",
       "mu_exp             5942.0    1.0  \n",
       "mu_age             5862.0    1.0  \n",
       "chol[0]            5615.0    1.0  \n",
       "chol[1]            6383.0    1.0  \n",
       "chol[2]            6256.0    1.0  \n",
       "chol_corr[0, 0]    8000.0    NaN  \n",
       "chol_corr[0, 1]    6359.0    1.0  \n",
       "chol_corr[1, 0]    6359.0    1.0  \n",
       "chol_corr[1, 1]    8000.0    1.0  \n",
       "chol_stds[0]       5615.0    1.0  \n",
       "chol_stds[1]       6377.0    1.0  "
      ]
     },
     "execution_count": 114,
     "metadata": {},
     "output_type": "execute_result"
    }
   ],
   "source": [
    "az.summary(trace_d3)"
   ]
  },
  {
   "cell_type": "code",
   "execution_count": null,
   "id": "19bb7a61",
   "metadata": {},
   "outputs": [],
   "source": []
  }
 ],
 "metadata": {
  "kernelspec": {
   "display_name": "Python 3.9.13 ('ml': conda)",
   "language": "python",
   "name": "python3"
  },
  "language_info": {
   "codemirror_mode": {
    "name": "ipython",
    "version": 3
   },
   "file_extension": ".py",
   "mimetype": "text/x-python",
   "name": "python",
   "nbconvert_exporter": "python",
   "pygments_lexer": "ipython3",
   "version": "3.9.15"
  },
  "vscode": {
   "interpreter": {
    "hash": "3817d5956ae49794f96687afeb7e227e5676186224c56686417b9ecdcaefa7cf"
   }
  }
 },
 "nbformat": 4,
 "nbformat_minor": 5
}
