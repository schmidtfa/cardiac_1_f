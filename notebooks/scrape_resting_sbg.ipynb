{
 "cells": [
  {
   "cell_type": "code",
   "execution_count": 1,
   "id": "9c4ee2fd",
   "metadata": {
    "pycharm": {
     "name": "#%%\n"
    }
   },
   "outputs": [],
   "source": [
    "import numpy as np\n",
    "from datetime import datetime, timedelta\n",
    "import glob\n",
    "import mne\n",
    "import re\n",
    "import pandas as pd \n",
    "import matplotlib.pyplot as plt\n",
    "\n",
    "import warnings\n",
    "warnings.filterwarnings('ignore') #living on the edge (but i really hate warnings)"
   ]
  },
  {
   "cell_type": "code",
   "execution_count": 2,
   "id": "31e3859f",
   "metadata": {
    "pycharm": {
     "name": "#%%\n"
    }
   },
   "outputs": [
    {
     "data": {
      "text/html": [
       "<div>\n",
       "<style scoped>\n",
       "    .dataframe tbody tr th:only-of-type {\n",
       "        vertical-align: middle;\n",
       "    }\n",
       "\n",
       "    .dataframe tbody tr th {\n",
       "        vertical-align: top;\n",
       "    }\n",
       "\n",
       "    .dataframe thead th {\n",
       "        text-align: right;\n",
       "    }\n",
       "</style>\n",
       "<table border=\"1\" class=\"dataframe\">\n",
       "  <thead>\n",
       "    <tr style=\"text-align: right;\">\n",
       "      <th></th>\n",
       "      <th>subject_id</th>\n",
       "      <th>measurement_age</th>\n",
       "      <th>measurement_age_days</th>\n",
       "      <th>measurement_date</th>\n",
       "      <th>path</th>\n",
       "      <th>fs_1k</th>\n",
       "    </tr>\n",
       "  </thead>\n",
       "  <tbody>\n",
       "    <tr>\n",
       "      <th>1</th>\n",
       "      <td>19800616mrgu</td>\n",
       "      <td>36</td>\n",
       "      <td>13429</td>\n",
       "      <td>2017-03-23</td>\n",
       "      <td>/mnt/sinuhe/data_raw/gd_markov/subject_subject...</td>\n",
       "      <td>True</td>\n",
       "    </tr>\n",
       "    <tr>\n",
       "      <th>2</th>\n",
       "      <td>19851130eifi</td>\n",
       "      <td>31</td>\n",
       "      <td>11436</td>\n",
       "      <td>2017-03-23</td>\n",
       "      <td>/mnt/sinuhe/data_raw/gd_markov/subject_subject...</td>\n",
       "      <td>True</td>\n",
       "    </tr>\n",
       "    <tr>\n",
       "      <th>3</th>\n",
       "      <td>19901026krke</td>\n",
       "      <td>26</td>\n",
       "      <td>9646</td>\n",
       "      <td>2017-03-24</td>\n",
       "      <td>/mnt/sinuhe/data_raw/gd_markov/subject_subject...</td>\n",
       "      <td>True</td>\n",
       "    </tr>\n",
       "    <tr>\n",
       "      <th>4</th>\n",
       "      <td>19950604llzm</td>\n",
       "      <td>21</td>\n",
       "      <td>7964</td>\n",
       "      <td>2017-03-24</td>\n",
       "      <td>/mnt/sinuhe/data_raw/gd_markov/subject_subject...</td>\n",
       "      <td>True</td>\n",
       "    </tr>\n",
       "    <tr>\n",
       "      <th>5</th>\n",
       "      <td>19961118brsh</td>\n",
       "      <td>20</td>\n",
       "      <td>7431</td>\n",
       "      <td>2017-03-24</td>\n",
       "      <td>/mnt/sinuhe/data_raw/gd_markov/subject_subject...</td>\n",
       "      <td>True</td>\n",
       "    </tr>\n",
       "    <tr>\n",
       "      <th>...</th>\n",
       "      <td>...</td>\n",
       "      <td>...</td>\n",
       "      <td>...</td>\n",
       "      <td>...</td>\n",
       "      <td>...</td>\n",
       "      <td>...</td>\n",
       "    </tr>\n",
       "    <tr>\n",
       "      <th>1974</th>\n",
       "      <td>19991028mchi</td>\n",
       "      <td>22</td>\n",
       "      <td>8275</td>\n",
       "      <td>2022-06-24</td>\n",
       "      <td>/mnt/sinuhe/data_raw/nsss_crossmodmarkov/subje...</td>\n",
       "      <td>True</td>\n",
       "    </tr>\n",
       "    <tr>\n",
       "      <th>1975</th>\n",
       "      <td>19940510dota</td>\n",
       "      <td>28</td>\n",
       "      <td>10282</td>\n",
       "      <td>2022-07-04</td>\n",
       "      <td>/mnt/sinuhe/data_raw/nsss_crossmodmarkov/subje...</td>\n",
       "      <td>True</td>\n",
       "    </tr>\n",
       "    <tr>\n",
       "      <th>1976</th>\n",
       "      <td>20010219lddt</td>\n",
       "      <td>21</td>\n",
       "      <td>7806</td>\n",
       "      <td>2022-07-05</td>\n",
       "      <td>/mnt/sinuhe/data_raw/nsss_crossmodmarkov/subje...</td>\n",
       "      <td>True</td>\n",
       "    </tr>\n",
       "    <tr>\n",
       "      <th>1977</th>\n",
       "      <td>19651225jsjs</td>\n",
       "      <td>56</td>\n",
       "      <td>20647</td>\n",
       "      <td>2022-07-06</td>\n",
       "      <td>/mnt/sinuhe/data_raw/nsss_crossmodmarkov/subje...</td>\n",
       "      <td>True</td>\n",
       "    </tr>\n",
       "    <tr>\n",
       "      <th>1978</th>\n",
       "      <td>19961110brpl</td>\n",
       "      <td>25</td>\n",
       "      <td>9388</td>\n",
       "      <td>2022-07-25</td>\n",
       "      <td>/mnt/sinuhe/data_raw/nsss_crossmodmarkov/subje...</td>\n",
       "      <td>True</td>\n",
       "    </tr>\n",
       "  </tbody>\n",
       "</table>\n",
       "<p>1978 rows × 6 columns</p>\n",
       "</div>"
      ],
      "text/plain": [
       "        subject_id  measurement_age  measurement_age_days measurement_date  \\\n",
       "1     19800616mrgu               36                 13429       2017-03-23   \n",
       "2     19851130eifi               31                 11436       2017-03-23   \n",
       "3     19901026krke               26                  9646       2017-03-24   \n",
       "4     19950604llzm               21                  7964       2017-03-24   \n",
       "5     19961118brsh               20                  7431       2017-03-24   \n",
       "...            ...              ...                   ...              ...   \n",
       "1974  19991028mchi               22                  8275       2022-06-24   \n",
       "1975  19940510dota               28                 10282       2022-07-04   \n",
       "1976  20010219lddt               21                  7806       2022-07-05   \n",
       "1977  19651225jsjs               56                 20647       2022-07-06   \n",
       "1978  19961110brpl               25                  9388       2022-07-25   \n",
       "\n",
       "                                                   path  fs_1k  \n",
       "1     /mnt/sinuhe/data_raw/gd_markov/subject_subject...   True  \n",
       "2     /mnt/sinuhe/data_raw/gd_markov/subject_subject...   True  \n",
       "3     /mnt/sinuhe/data_raw/gd_markov/subject_subject...   True  \n",
       "4     /mnt/sinuhe/data_raw/gd_markov/subject_subject...   True  \n",
       "5     /mnt/sinuhe/data_raw/gd_markov/subject_subject...   True  \n",
       "...                                                 ...    ...  \n",
       "1974  /mnt/sinuhe/data_raw/nsss_crossmodmarkov/subje...   True  \n",
       "1975  /mnt/sinuhe/data_raw/nsss_crossmodmarkov/subje...   True  \n",
       "1976  /mnt/sinuhe/data_raw/nsss_crossmodmarkov/subje...   True  \n",
       "1977  /mnt/sinuhe/data_raw/nsss_crossmodmarkov/subje...   True  \n",
       "1978  /mnt/sinuhe/data_raw/nsss_crossmodmarkov/subje...   True  \n",
       "\n",
       "[1978 rows x 6 columns]"
      ]
     },
     "execution_count": 2,
     "metadata": {},
     "output_type": "execute_result"
    }
   ],
   "source": [
    "#Gather all resting state recordings\n",
    "#this takes a while due to some 10khz recordings\n",
    "BASE_PATH = '/mnt/sinuhe/data_raw/**/**/**/*.fif'\n",
    "\n",
    "files = glob.glob(BASE_PATH)\n",
    "files = [file for file in files if 'rest' in file or 'Rest' in file or 'REST' in file]\n",
    "\n",
    "subject_ids = []\n",
    "measurement_age = []\n",
    "measurement_date = []\n",
    "measurement_age_days = []\n",
    "clean_path = []\n",
    "fs_1k = []\n",
    "\n",
    "for file in files:\n",
    "    f_split = file.split('/')\n",
    "    cur_id = f_split[-1].lower()[:12]\n",
    "        \n",
    "    if re.match(\"\\d{8}[a-z]{4}\", cur_id) and 'sss' not in f_split[-1]: #only take proper ids for now\n",
    "\n",
    "        cur_data = mne.io.read_raw_fif(file, verbose=False, allow_maxshield=True)\n",
    "        if cur_data.info['sfreq'] == 1000: #only take 1kHz recordings for now\n",
    "            fs_1k.append(True)\n",
    "        else:\n",
    "            fs_1k.append(False)\n",
    "        subject_ids.append(cur_id)\n",
    "        recording_date = datetime.strptime(f_split[-2], '%y%m%d')\n",
    "        try:\n",
    "            birth_date = datetime.strptime(f_split[-1][:8], '%Y%m%d') #in ~2 cases dates are formatted weird\n",
    "        except ValueError:\n",
    "            pass\n",
    "        \n",
    "        measurement_age.append((recording_date - birth_date) // timedelta(days=365.2425))\n",
    "        measurement_age_days.append((recording_date - birth_date).days)\n",
    "        measurement_date.append(recording_date)\n",
    "        clean_path.append(file)\n",
    "        \n",
    "        \n",
    "df = pd.DataFrame({'subject_id': np.array(subject_ids),\n",
    "                   'measurement_age': np.array(measurement_age),\n",
    "                   'measurement_age_days': np.array(measurement_age_days),\n",
    "                   'measurement_date': np.array(measurement_date),\n",
    "                   'path': np.array(clean_path),\n",
    "                   'fs_1k': np.array(fs_1k)})\n",
    "\n",
    "df = df[df['measurement_age'] < 100] #remove methusalem\n",
    "df"
   ]
  },
  {
   "cell_type": "code",
   "execution_count": 3,
   "id": "cabef30f",
   "metadata": {
    "pycharm": {
     "name": "#%%\n"
    }
   },
   "outputs": [],
   "source": [
    "df.to_csv('./data/resting_lists_sbg/resting_list.csv')"
   ]
  },
  {
   "cell_type": "code",
   "execution_count": 4,
   "id": "95edd8a9-4b00-485e-836e-f879a8aa5608",
   "metadata": {
    "pycharm": {
     "name": "#%%\n"
    }
   },
   "outputs": [],
   "source": [
    "df_unique = df.drop_duplicates(subset='subject_id', keep='last')\n",
    "df_unique.to_csv('./data/resting_lists_sbg/resting_list_single.csv')"
   ]
  },
  {
   "cell_type": "code",
   "execution_count": 5,
   "id": "a695c556-d189-472e-b026-42991c867412",
   "metadata": {
    "pycharm": {
     "name": "#%%\n"
    }
   },
   "outputs": [
    {
     "data": {
      "text/plain": [
       "(array([645., 773., 211., 116.,  29.,  57.,  61.,  68.,  14.,   4.]),\n",
       " array([18. , 23.9, 29.8, 35.7, 41.6, 47.5, 53.4, 59.3, 65.2, 71.1, 77. ]),\n",
       " <BarContainer object of 10 artists>)"
      ]
     },
     "execution_count": 5,
     "metadata": {},
     "output_type": "execute_result"
    },
    {
     "data": {
      "image/png": "[encoded data removed]",
      "text/plain": [
       "<Figure size 432x288 with 1 Axes>"
      ]
     },
     "metadata": {
      "needs_background": "light"
     },
     "output_type": "display_data"
    }
   ],
   "source": [
    "plt.hist(df['measurement_age'])"
   ]
  },
  {
   "cell_type": "code",
   "execution_count": 35,
   "id": "562efe06",
   "metadata": {
    "pycharm": {
     "name": "#%%\n"
    }
   },
   "outputs": [
    {
     "data": {
      "text/html": [
       "<div>\n",
       "<style scoped>\n",
       "    .dataframe tbody tr th:only-of-type {\n",
       "        vertical-align: middle;\n",
       "    }\n",
       "\n",
       "    .dataframe tbody tr th {\n",
       "        vertical-align: top;\n",
       "    }\n",
       "\n",
       "    .dataframe thead th {\n",
       "        text-align: right;\n",
       "    }\n",
       "</style>\n",
       "<table border=\"1\" class=\"dataframe\">\n",
       "  <thead>\n",
       "    <tr style=\"text-align: right;\">\n",
       "      <th></th>\n",
       "      <th>subject_id</th>\n",
       "      <th>measurement_age</th>\n",
       "      <th>measurement_age_days</th>\n",
       "      <th>measurement_date</th>\n",
       "      <th>path</th>\n",
       "      <th>fs_1k</th>\n",
       "    </tr>\n",
       "  </thead>\n",
       "  <tbody>\n",
       "    <tr>\n",
       "      <th>0</th>\n",
       "      <td>19800616mrgu</td>\n",
       "      <td>36</td>\n",
       "      <td>13429</td>\n",
       "      <td>2017-03-23</td>\n",
       "      <td>/mnt/sinuhe/data_raw/gd_markov/subject_subject...</td>\n",
       "      <td>True</td>\n",
       "    </tr>\n",
       "    <tr>\n",
       "      <th>1</th>\n",
       "      <td>19810726gdzn</td>\n",
       "      <td>35</td>\n",
       "      <td>13141</td>\n",
       "      <td>2017-07-18</td>\n",
       "      <td>/mnt/sinuhe/data_raw/gd_markov/subject_subject...</td>\n",
       "      <td>True</td>\n",
       "    </tr>\n",
       "    <tr>\n",
       "      <th>2</th>\n",
       "      <td>19870319wlgl</td>\n",
       "      <td>31</td>\n",
       "      <td>11390</td>\n",
       "      <td>2018-05-25</td>\n",
       "      <td>/mnt/sinuhe/data_raw/gd_markov/subject_subject...</td>\n",
       "      <td>True</td>\n",
       "    </tr>\n",
       "    <tr>\n",
       "      <th>3</th>\n",
       "      <td>19800616mrgu</td>\n",
       "      <td>38</td>\n",
       "      <td>13987</td>\n",
       "      <td>2018-10-02</td>\n",
       "      <td>/mnt/sinuhe/data_raw/gd_markov/subject_subject...</td>\n",
       "      <td>True</td>\n",
       "    </tr>\n",
       "    <tr>\n",
       "      <th>4</th>\n",
       "      <td>19940430slbc</td>\n",
       "      <td>24</td>\n",
       "      <td>8921</td>\n",
       "      <td>2018-10-02</td>\n",
       "      <td>/mnt/sinuhe/data_raw/gd_markov/subject_subject...</td>\n",
       "      <td>True</td>\n",
       "    </tr>\n",
       "    <tr>\n",
       "      <th>...</th>\n",
       "      <td>...</td>\n",
       "      <td>...</td>\n",
       "      <td>...</td>\n",
       "      <td>...</td>\n",
       "      <td>...</td>\n",
       "      <td>...</td>\n",
       "    </tr>\n",
       "    <tr>\n",
       "      <th>528</th>\n",
       "      <td>19910612crke</td>\n",
       "      <td>30</td>\n",
       "      <td>11213</td>\n",
       "      <td>2022-02-22</td>\n",
       "      <td>/mnt/sinuhe/data_raw/nsss_crossmodmarkov/subje...</td>\n",
       "      <td>True</td>\n",
       "    </tr>\n",
       "    <tr>\n",
       "      <th>529</th>\n",
       "      <td>19680529eidx</td>\n",
       "      <td>53</td>\n",
       "      <td>19684</td>\n",
       "      <td>2022-04-20</td>\n",
       "      <td>/mnt/sinuhe/data_raw/nsss_crossmodmarkov/subje...</td>\n",
       "      <td>True</td>\n",
       "    </tr>\n",
       "    <tr>\n",
       "      <th>530</th>\n",
       "      <td>19800616mrgu</td>\n",
       "      <td>41</td>\n",
       "      <td>15283</td>\n",
       "      <td>2022-04-20</td>\n",
       "      <td>/mnt/sinuhe/data_raw/nsss_crossmodmarkov/subje...</td>\n",
       "      <td>True</td>\n",
       "    </tr>\n",
       "    <tr>\n",
       "      <th>531</th>\n",
       "      <td>19910811sbsu</td>\n",
       "      <td>30</td>\n",
       "      <td>11217</td>\n",
       "      <td>2022-04-27</td>\n",
       "      <td>/mnt/sinuhe/data_raw/nsss_crossmodmarkov/subje...</td>\n",
       "      <td>True</td>\n",
       "    </tr>\n",
       "    <tr>\n",
       "      <th>532</th>\n",
       "      <td>19870319wlgl</td>\n",
       "      <td>35</td>\n",
       "      <td>12875</td>\n",
       "      <td>2022-06-18</td>\n",
       "      <td>/mnt/sinuhe/data_raw/nsss_crossmodmarkov/subje...</td>\n",
       "      <td>True</td>\n",
       "    </tr>\n",
       "  </tbody>\n",
       "</table>\n",
       "<p>533 rows × 6 columns</p>\n",
       "</div>"
      ],
      "text/plain": [
       "       subject_id  measurement_age  measurement_age_days measurement_date  \\\n",
       "0    19800616mrgu               36                 13429       2017-03-23   \n",
       "1    19810726gdzn               35                 13141       2017-07-18   \n",
       "2    19870319wlgl               31                 11390       2018-05-25   \n",
       "3    19800616mrgu               38                 13987       2018-10-02   \n",
       "4    19940430slbc               24                  8921       2018-10-02   \n",
       "..            ...              ...                   ...              ...   \n",
       "528  19910612crke               30                 11213       2022-02-22   \n",
       "529  19680529eidx               53                 19684       2022-04-20   \n",
       "530  19800616mrgu               41                 15283       2022-04-20   \n",
       "531  19910811sbsu               30                 11217       2022-04-27   \n",
       "532  19870319wlgl               35                 12875       2022-06-18   \n",
       "\n",
       "                                                  path  fs_1k  \n",
       "0    /mnt/sinuhe/data_raw/gd_markov/subject_subject...   True  \n",
       "1    /mnt/sinuhe/data_raw/gd_markov/subject_subject...   True  \n",
       "2    /mnt/sinuhe/data_raw/gd_markov/subject_subject...   True  \n",
       "3    /mnt/sinuhe/data_raw/gd_markov/subject_subject...   True  \n",
       "4    /mnt/sinuhe/data_raw/gd_markov/subject_subject...   True  \n",
       "..                                                 ...    ...  \n",
       "528  /mnt/sinuhe/data_raw/nsss_crossmodmarkov/subje...   True  \n",
       "529  /mnt/sinuhe/data_raw/nsss_crossmodmarkov/subje...   True  \n",
       "530  /mnt/sinuhe/data_raw/nsss_crossmodmarkov/subje...   True  \n",
       "531  /mnt/sinuhe/data_raw/nsss_crossmodmarkov/subje...   True  \n",
       "532  /mnt/sinuhe/data_raw/nsss_crossmodmarkov/subje...   True  \n",
       "\n",
       "[533 rows x 6 columns]"
      ]
     },
     "execution_count": 35,
     "metadata": {},
     "output_type": "execute_result"
    }
   ],
   "source": [
    "#Get subject ids with multiple recordings\n",
    "df_1k = df[df['fs_1k']]\n",
    "ids, counts = np.unique(df_1k['subject_id'], return_counts=True)\n",
    "id_list = ids[counts > 4]\n",
    "\n",
    "df_multi = df_1k.query('subject_id in @id_list')\n",
    "df_multi.reset_index(inplace=True)\n",
    "df_multi.drop(columns='index', inplace=True)\n",
    "df_multi.to_csv('./data/resting_lists_sbg/resting_list_multi.csv')\n",
    "\n",
    "df_multi"
   ]
  },
  {
   "cell_type": "code",
   "execution_count": 36,
   "id": "72c46a3d",
   "metadata": {
    "pycharm": {
     "name": "#%%\n"
    }
   },
   "outputs": [],
   "source": [
    "rep_ids = ids[counts > 4]\n",
    "reps = counts[counts > 4]"
   ]
  },
  {
   "cell_type": "code",
   "execution_count": 63,
   "id": "cefc49e3",
   "metadata": {
    "pycharm": {
     "name": "#%%\n"
    }
   },
   "outputs": [],
   "source": [
    "age_dist = []\n",
    "\n",
    "for subject in rep_ids:\n",
    "    cur_df = df_multi.query(f'subject_id == \"{subject}\"')\n",
    "    age_dist.append(cur_df['measurement_age'].max() - cur_df['measurement_age'].min())\n",
    "\n",
    "rep_ids[np.array(age_dist) > 0]"
   ]
  },
  {
   "cell_type": "code",
   "execution_count": 64,
   "id": "5e3c233a",
   "metadata": {
    "pycharm": {
     "name": "#%%\n"
    }
   },
   "outputs": [
    {
     "data": {
      "text/plain": [
       "(array([19.,  0.,  7.,  0.,  5.,  0.,  9.,  0.,  7.,  3.]),\n",
       " array([0. , 0.5, 1. , 1.5, 2. , 2.5, 3. , 3.5, 4. , 4.5, 5. ]),\n",
       " <BarContainer object of 10 artists>)"
      ]
     },
     "execution_count": 64,
     "metadata": {},
     "output_type": "execute_result"
    },
    {
     "data": {
      "image/png": "[encoded data removed]",
      "text/plain": [
       "<Figure size 432x288 with 1 Axes>"
      ]
     },
     "metadata": {
      "needs_background": "light"
     },
     "output_type": "display_data"
    }
   ],
   "source": [
    "plt.hist(age_dist)"
   ]
  },
  {
   "cell_type": "code",
   "execution_count": 71,
   "id": "17241032",
   "metadata": {
    "pycharm": {
     "name": "#%%\n"
    }
   },
   "outputs": [
    {
     "data": {
      "text/plain": [
       "(31,)"
      ]
     },
     "execution_count": 71,
     "metadata": {},
     "output_type": "execute_result"
    }
   ],
   "source": [
    "rep_ids[np.array(age_dist) > 0].shape"
   ]
  },
  {
   "cell_type": "code",
   "execution_count": 56,
   "id": "b8489356",
   "metadata": {
    "pycharm": {
     "name": "#%%\n"
    }
   },
   "outputs": [
    {
     "data": {
      "text/plain": [
       "<BarContainer object of 50 artists>"
      ]
     },
     "execution_count": 56,
     "metadata": {},
     "output_type": "execute_result"
    },
    {
     "data": {
      "image/png": "[encoded data removed]",
      "text/plain": [
       "<Figure size 360x720 with 1 Axes>"
      ]
     },
     "metadata": {
      "needs_background": "light"
     },
     "output_type": "display_data"
    }
   ],
   "source": [
    "plt.figure(figsize=(5,10))\n",
    "plt.barh(y=rep_ids, width=reps)"
   ]
  },
  {
   "cell_type": "code",
   "execution_count": null,
   "id": "eef41f60",
   "metadata": {
    "pycharm": {
     "name": "#%%\n"
    }
   },
   "outputs": [],
   "source": []
  }
 ],
 "metadata": {
  "interpreter": {
   "hash": "ee57358f90da5be8a1a2a203ce21355ff71b5e394e7dfc98f1df920cb21f9629"
  },
  "kernelspec": {
   "display_name": "Python 3.9.7 ('ml': conda)",
   "language": "python",
   "name": "python3"
  },
  "language_info": {
   "codemirror_mode": {
    "name": "ipython",
    "version": 3
   },
   "file_extension": ".py",
   "mimetype": "text/x-python",
   "name": "python",
   "nbconvert_exporter": "python",
   "pygments_lexer": "ipython3",
   "version": "3.9.7"
  }
 },
 "nbformat": 4,
 "nbformat_minor": 5
}